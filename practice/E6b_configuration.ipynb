{
 "cells": [
  {
   "cell_type": "code",
   "execution_count": null,
   "metadata": {
    "id": "uh25ahIonnRt"
   },
   "outputs": [],
   "source": [
    "!pip install cpmpy numpy pychoco gurobipy networkx colorama tqdm hyperopt --quiet\n",
    "import cpmpy as cp\n",
    "import numpy as np"
   ]
  },
  {
   "cell_type": "markdown",
   "metadata": {
    "id": "vbVZuVHxnnRu"
   },
   "source": [
    "(You can ignore google* and tensor* dependency errors on Google Colab.)"
   ]
  },
  {
   "cell_type": "markdown",
   "metadata": {
    "id": "3iOdTeTnnnRu"
   },
   "source": [
    "## **Session 5 B: CP search strategies and algorithm configuration**"
   ]
  },
  {
   "cell_type": "markdown",
   "metadata": {
    "id": "DkENXUxrnnRu"
   },
   "source": [
    "This is the second part (B) to the fifth exercise session of Declarative Problem Solving Paradigms in AI.\n",
    "\n",
    "This notebook covers part B:\n",
    "- **A**: Solving technologies and encodings\n",
    "- **B**: CP search strategies and algorithm configuration\n",
    "\n",
    "**Useful Resources:**\n",
    "* CPMpy summary sheet: https://cpmpy.readthedocs.io/en/latest/summary.html\n",
    "* CPMpy modeling documentation: https://cpmpy.readthedocs.io/en/latest/modeling.html\n",
    "* CPMpy full documentation: https://cpmpy.readthedocs.io/en/latest/index.html\n",
    "* List of supported solvers / solving technologies: https://cpmpy.readthedocs.io/en/latest/#supported-solvers\n",
    "* Documentation on hyperparameter configuration: https://cpmpy.readthedocs.io/en/latest/modeling.html#hyperparameter-search-across-different-parameters"
   ]
  },
  {
   "cell_type": "markdown",
   "metadata": {
    "id": "55QmCd0hnnR3"
   },
   "source": [
    "### **Section 1: Algorithm Selection**"
   ]
  },
  {
   "cell_type": "markdown",
   "metadata": {
    "id": "Oy3Jcq1snnR3"
   },
   "source": [
    "Depending on the (type of) problem that you're trying to solve, one solver backend / solving technology might be more suited than the other. It is always a good idea to experiment a bit as to see what works best, before settling on one particular backend (and possibly start making optimisations tailored specifically towards that one solver)."
   ]
  },
  {
   "cell_type": "markdown",
   "metadata": {
    "id": "ieCNAbxJnnR3"
   },
   "source": [
    "Below is a collection of models you've worked on throughout the previous exercises:\n",
    "\n",
    "- Task allocation problem\n",
    "- Team assignment problem\n",
    "- Pizza voucher problem\n",
    "\n",
    "Simply run the 3 cells and continue below..."
   ]
  },
  {
   "cell_type": "code",
   "execution_count": null,
   "metadata": {
    "id": "srhrttR2nnR3"
   },
   "outputs": [],
   "source": [
    "def task_allocation():\n",
    "    \"\"\"\n",
    "    See exercise session 2\n",
    "    \"\"\"\n",
    "\n",
    "    # Parameters of the problem\n",
    "    n_tasks = 6        # Number of tasks\n",
    "    n_workers = 6      # Number of workers\n",
    "\n",
    "    # Decision Variables\n",
    "    task_assignment = None # task_assignment[j] == i iff worker i is assigned to task j\n",
    "    task_assignment = cp.intvar(0, n_workers-1, shape=n_tasks, name=\"task_assignment\") # task_assignment[j] = the worker assigned to task j\n",
    "\n",
    "    # Model\n",
    "    model = cp.Model()\n",
    "\n",
    "    # Constraints\n",
    "    model += []\n",
    "    # 1) Each task is assigned to exactly one worker.\n",
    "    # -> no need to model this constraint, since the chosen encoding for 'task_assignment'\n",
    "    #    will already enforce this (each task j can only have one worker task_assignment[j] as value)\n",
    "    # 2) Allow each worker to maximally have one task assigned = no to tasks can have the same worker\n",
    "    model.add(cp.AllDifferent(task_assignment))\n",
    "\n",
    "    # Conditional implications\n",
    "    model.add((task_assignment[0] == 0).implies(task_assignment[2] != 1)) # If worker 0 is assigned to task 0, worker 1 not on task 2\n",
    "    model.add((task_assignment[1] == 1).implies(task_assignment[0] == 2)) # If worker 1 is assigned to task 1, worker 2 must be assigned to task 0\n",
    "    model.add((task_assignment[2] == 2).implies(task_assignment[1] != 0)) # If worker 2 is assigned to task 2, worker 0 cannot be on task 1\n",
    "\n",
    "    return model\n"
   ]
  },
  {
   "cell_type": "code",
   "execution_count": null,
   "metadata": {
    "id": "GKp9IrFNnnR3"
   },
   "outputs": [],
   "source": [
    "def team_skill_assignment():\n",
    "    \"\"\"\n",
    "    See exercise session 2\n",
    "    \"\"\"\n",
    "\n",
    "    # Parameters of the Problem\n",
    "    E = 25   # number of employees\n",
    "    P = 10   # number of projects\n",
    "    S = 10   # number of skills\n",
    "\n",
    "    np.random.seed(0)  # for reproducibility\n",
    "\n",
    "    # Skill matrix: employee_skills[e][s] is 1 if employee e has skill s, else 0\n",
    "    employee_skills = np.random.randint(0, 2, (E, S))\n",
    "\n",
    "    # Project skill requirements: project_skills[p][s] is 1 if project p requires skill s, else 0\n",
    "    project_skills = np.random.randint(0, 2, (P, S))\n",
    "\n",
    "    # Team size constraints\n",
    "    T_min = 2  # minimum number of employees in a team\n",
    "    T_max = 5  # maximum number of employees in a team\n",
    "\n",
    "    # Decision Variables\n",
    "    # - team_assign[p, e]: 1 if employee e is assigned to project p, else 0\n",
    "    team_assign = cp.boolvar(shape=(P, E), name=\"team_assign\")\n",
    "\n",
    "    # Model\n",
    "    model = cp.Model()\n",
    "\n",
    "    # Constraints\n",
    "    for p in range(P):\n",
    "        # 1) Each team should have between T_min and T_max employees\n",
    "        model.add(T_min <= cp.sum(team_assign[p, :]))\n",
    "        model.add(cp.sum(team_assign[p, :]) <= T_max)\n",
    "\n",
    "        for s in range(S):\n",
    "            # 2) Skill requirement for each project\n",
    "            if project_skills[p, s]: # if project p requires skill s\n",
    "                # (count the number of employees which have skill s and are assigned to team p)\n",
    "                model.add( cp.sum(team_assign[p, e] for e in range(E) if employee_skills[e, s]) > 0 )\n",
    "\n",
    "\n",
    "    # 3) Employees can only be assigned to at most one project\n",
    "    model.add( np.sum(team_assign, axis=0) <= 1 )\n",
    "\n",
    "    return model"
   ]
  },
  {
   "cell_type": "code",
   "execution_count": null,
   "metadata": {
    "id": "Xz4lZpVdnnR3"
   },
   "outputs": [],
   "source": [
    "def pizza_voucher():\n",
    "    \"\"\"\n",
    "    See exercise session 3\n",
    "    \"\"\"\n",
    "\n",
    "    # Parameters of the problem\n",
    "    prices = [50, 60, 90, 70, 80, 100, 20, 30, 40, 10]  # prices of pizzas\n",
    "    vouchers = [\n",
    "        (1, 2), (2, 3), (1, 1), (0, 1), (2, 1),\n",
    "        (2, 2), (3, 3), (1, 0), (3, 2)]  # available vouchers\n",
    "\n",
    "    nPizzas = len(prices)\n",
    "    nVouchers = len(vouchers)\n",
    "\n",
    "    # Decision variables:\n",
    "    # what voucher is used for each pizza, negative means the pizza has to be paid,\n",
    "    # positive means it is free. 0 means no voucher is used\n",
    "    # take care, this means we are using 'prices' and 'vouchers' with indexes starting from 1, and not 0.\n",
    "    v = cp.intvar(-nVouchers, nVouchers, shape=nPizzas)\n",
    "\n",
    "    # define variables that keep track of how many free and paid pizza's each voucher has.\n",
    "    p = cp.intvar(0, nPizzas, shape=nVouchers)\n",
    "    f = cp.intvar(0, nPizzas, shape=nVouchers)\n",
    "\n",
    "    # model the constraints:\n",
    "    pizza_model = cp.Model()\n",
    "\n",
    "    # number of paid and free pizza's in f and p must correspond to the voucher data in v.\n",
    "    pizza_model.add([p[i] == cp.Count(v, -(i + 1)) for i in range(nVouchers)])\n",
    "    pizza_model.add([f[i] == cp.Count(v, i + 1) for i in range(nVouchers)])\n",
    "    # voucher can only have free pizza's on it if it has enough paid pizza's\n",
    "    pizza_model.add([(f[i] > 0).implies(p[i] == vouchers[i][0]) for i in range(nVouchers)])\n",
    "    # a voucher can not have too many free pizza's on it\n",
    "    pizza_model.add([f[i] <= vouchers[i][1] for i in range(nVouchers)])\n",
    "    # free pizza's must be cheaper than paid pizza's\n",
    "    pizza_model.add([(v[i] > 0).implies(v[i] != -v[j]) for i in range(nPizzas) for j in range(nPizzas) if\n",
    "                    prices[j] < prices[i]])\n",
    "\n",
    "    # minimize the total price\n",
    "    pizza_model.minimize(sum([(v[i] <= 0) * prices[i] for i in range(nPizzas)]))\n",
    "    return pizza_model"
   ]
  },
  {
   "cell_type": "markdown",
   "metadata": {
    "id": "z3Oy517rnnR3"
   },
   "source": [
    "Now write some code to test each of these problems on a set of solvers and print the resulting runtimes. You can get the runtime from a model/solver by using `.status().runtime`. To more clearly see the differences, you may manually fill in the below table (also possible on paper).\n",
    "\n",
    "| Problem | OR-Tools | Choco | Gurobi |\n",
    "| - | - | - | - |\n",
    "| Task allocation | ... | ... | ... |\n",
    "| Team skill assignment | ... | ... | ... |\n",
    "| Pizza voucher | ... | ... | ... |\n"
   ]
  },
  {
   "cell_type": "code",
   "execution_count": null,
   "metadata": {
    "id": "UoIZE7RdnnR3"
   },
   "outputs": [],
   "source": [
    "from cpmpy import SolverLookup\n",
    "import pandas as pd\n",
    "\n",
    "def algorithm_selection(models, solvers):\n",
    "    \"\"\"\n",
    "    TODO: Given a collection of problem models and a list of solvers,\n",
    "          run each problem on each solver and print the measured runtimes.\n",
    "\n",
    "          'models' is a dictionary of 'problem name' -> 'problem CPMpy model' mappings.\n",
    "\n",
    "    HINT: You can call '.items()' on a dictionary as to get an iterator that\n",
    "          returns a (key, value) tuple for each element in that dictionary.\n",
    "          So in the case of the 'models' argument, calling models.items()\n",
    "          returns an iterator that will give you all (model_name, cpmpy_model) pairs.\n",
    "\n",
    "    HINT: To immediately print (for instant feedback), use 'flush=True'\n",
    "              as an argument, i.e. print(..., flush=True).\n",
    "\n",
    "    Running this code will take some time. Place a time limit of 30s on each solve call.\n",
    "    \"\"\"\n",
    "\n",
    "\n",
    "\n",
    "\n",
    "\n",
    "\n",
    "solvers = [\"ortools\", \"choco\", \"gurobi\"]\n",
    "models = {\n",
    "    \"task_allocation\": task_allocation(),\n",
    "    \"team_skill_assignment\": team_skill_assignment(),\n",
    "    \"pizza_voucher\": pizza_voucher(),\n",
    "    }\n",
    "algorithm_selection(models, solvers)\n"
   ]
  },
  {
   "cell_type": "markdown",
   "metadata": {
    "id": "UKsHqMDInXBH"
   },
   "source": [
    "**Observations**:\n",
    "\n",
    "1) Which solver would you recommend?\n",
    "\n",
    "2) Would that recommendation apply to all problems, to all instances of a problem?\n"
   ]
  },
  {
   "cell_type": "markdown",
   "metadata": {
    "id": "k9xj12NsnnR3"
   },
   "source": [
    "### **Section 2: Algorithm Configuration**"
   ]
  },
  {
   "cell_type": "markdown",
   "metadata": {
    "id": "N8exCxsXnnR3"
   },
   "source": [
    "Once we've made a decision on a particular solving backend that we want to target, we can start looking at configuring said backend. Each solver (OR-Tools, Choco, Exact, ...) has is own unique interface. And thus each solver exposes their own unique set of options that we can start tweaking in order to get more performance out of it. By default, solvers will often use some heuristic as to guess what a good set of options could be. In order to stay performant, not much time on this optimization will be spend. We on the other hand can do our own experiments and figure out which set of settings work best for the particular problem that we're trying to solve.\n",
    "\n",
    "This happens often in industry. Imagine that a company has a fleet of vehicles and wants to use CP as to optimize their driving paths. Once a model has been made and a solver has been chosen, they can start fine-tuning said solver for that particular type of problem that they'll have to solve over and over again."
   ]
  },
  {
   "cell_type": "markdown",
   "metadata": {
    "id": "AkZT9u89nnR3"
   },
   "source": [
    "#### **0. Setup**"
   ]
  },
  {
   "cell_type": "code",
   "execution_count": null,
   "metadata": {
    "id": "tM7fDsQennR3"
   },
   "outputs": [],
   "source": [
    "import time\n",
    "from cpmpy.solvers.choco import CPM_choco\n",
    "from cpmpy.solvers.solver_interface import SolverInterface, SolverStatus, ExitStatus\n",
    "from cpmpy.expressions.variables import _NumVarImpl, _IntVarImpl, _BoolVarImpl\n",
    "\n",
    "class strategy_CPM_Choco(CPM_choco):\n",
    "    \"\"\"\n",
    "    A slightly adapted Choco solver class as to support changing the search strategy.\n",
    "    \"\"\"\n",
    "\n",
    "    def solve(self, time_limit=None, strategy=\"default\", **kwargs):\n",
    "        \"\"\"\n",
    "            Call the Choco solver\n",
    "\n",
    "            Arguments:\n",
    "            - time_limit:  maximum solve time in seconds (float, optional)\n",
    "            - kwargs:      any keyword argument, sets parameters of solver object\n",
    "\n",
    "        \"\"\"\n",
    "        # ensure all vars are known to solver\n",
    "        self.solver_vars(list(self.user_vars))\n",
    "\n",
    "        # call the solver, with parameters\n",
    "        self.chc_solver = self.chc_model.get_solver()\n",
    "\n",
    "        # Get all variables in the model as to configure the search strategy for them\n",
    "        chc_vars = self.solver_vars(list(self.user_vars))\n",
    "\n",
    "        # Setting search strategy\n",
    "        if strategy==\"default\":\n",
    "            pass\n",
    "        elif strategy==\"input-order-lb-value\":\n",
    "            self.chc_solver.set_input_order_lb_search(chc_vars)\n",
    "        elif strategy==\"random\":\n",
    "            self.chc_solver.set_random_search(chc_vars)\n",
    "        elif strategy==\"domain-size-over-weighted-degree\":\n",
    "            self.chc_solver.set_dom_over_w_deg_search(chc_vars)\n",
    "        elif strategy==\"activity\":\n",
    "            self.chc_solver.set_activity_based_search(chc_vars)\n",
    "        elif strategy==\"conflict-history\":\n",
    "            self.chc_solver.set_conflict_history_search(chc_vars)\n",
    "        elif strategy==\"failure-rate\":\n",
    "            self.chc_solver.set_failure_rate_based_search(chc_vars)\n",
    "        elif strategy==\"pick-on-domain\":\n",
    "            self.chc_solver.set_pick_on_dom_search(chc_vars)\n",
    "        elif strategy==\"smallest-domain-lb-value\":\n",
    "            self.chc_solver.set_min_dom_lb_search(chc_vars)\n",
    "        elif strategy==\"smallest-domain-ub-value\":\n",
    "            self.chc_solver.set_min_dom_ub_search(chc_vars)\n",
    "        else:\n",
    "            raise ValueError(f\"Invalid strategy: {strategy}\")\n",
    "\n",
    "        # Make call to parent class to perform actual solve operation\n",
    "        return super().solve(**kwargs)"
   ]
  },
  {
   "cell_type": "markdown",
   "metadata": {
    "id": "KZuubldZnnR4"
   },
   "source": [
    "#### **1. Search Strategy**"
   ]
  },
  {
   "cell_type": "markdown",
   "metadata": {
    "id": "S3gsIG1JnnR4"
   },
   "source": [
    "Below is a CP model for the \"Magic sequence problem\". As described in CSPLib:\n",
    "\n",
    "\"A magic sequence of length $n$ is a sequence of integers $x_0...x_{n−1}$ between $0$ and $n−1$, such that for all $i$\n",
    "in $0$ to $n−1$, the number $i$ occurs exactly $x_i$ times in the sequence. For instance, $\\{6,2,1,0,0,0,1,0,0,0\\}$ is a magic sequence since $0$ occurs $6$ times in it, $1$ occurs twice, etc.\"\n",
    "\n",
    "It is not all too important to understand this problem / the below model."
   ]
  },
  {
   "cell_type": "code",
   "execution_count": null,
   "metadata": {
    "id": "PkGV8-y4nnR4"
   },
   "outputs": [],
   "source": [
    "import numpy as np\n",
    "\n",
    "def magic_sequence(n):\n",
    "    \"\"\"\n",
    "    Returns a model for the \"Magic Sequence\" problem\n",
    "    \"\"\"\n",
    "\n",
    "    # Decision Variables\n",
    "    x = cp.intvar(0, n - 1, shape=n, name=\"x\")\n",
    "\n",
    "    # Model\n",
    "    model = cp.Model()\n",
    "\n",
    "    # Constraints\n",
    "    # 1) number i occurs x[i] times\n",
    "    for i in range(n):\n",
    "        model.add(x[i] == sum(x == i))\n",
    "\n",
    "    # 2) redundant constraints to speed up search\n",
    "    model.add(sum(x) == n)\n",
    "    model.add(sum(x * np.array([i for i in range(n)])) == n)\n",
    "\n",
    "    return model, x\n",
    "\n",
    "\"\"\"\n",
    "Example usage of the model for a problem instance of size 10.\n",
    "\"\"\"\n",
    "# Create model of size 10\n",
    "model, x = magic_sequence(n=10)\n",
    "\n",
    "# Create Choco solver\n",
    "#   Custom Choco solver object that acts exactly the same as\n",
    "#   when created using SolverLookup().get(\"choco\", model),\n",
    "#   besides allowing you to pass a search strategy when\n",
    "#   calling '.solve()'\n",
    "solver = strategy_CPM_Choco(model)\n",
    "\n",
    "# Solve\n",
    "solver.solve(strategy=\"default\") # Can also leave this blank, as \"default\" is the default\n",
    "\n",
    "# Show results\n",
    "print(solver.status())\n",
    "print(x.value())"
   ]
  },
  {
   "cell_type": "markdown",
   "metadata": {
    "id": "QTdtQxyHnnR4"
   },
   "source": [
    "Using an instance of the new solver class `strategy_CPM_Choco` from the setup section, evaluate the below set of strategies for a problem instance of size `n=50`. See the above example on how to use `strategy_CPM_Choco`.\n",
    "\n",
    "Generate a similar table as seen in the lectures:\n",
    "\n",
    "| Strategy name | Seconds |\n",
    "| - | - |\n",
    "| default | ... |\n",
    "| input-order-lb-value | ... |\n",
    "| ... | ... |"
   ]
  },
  {
   "cell_type": "code",
   "execution_count": null,
   "metadata": {
    "id": "A-l702srnnR4"
   },
   "outputs": [],
   "source": [
    "# The different search strategies for the Choco solver\n",
    "strategies = [\n",
    "    \"default\",\n",
    "    \"input-order-lb-value\",\n",
    "    \"random\",\n",
    "    \"domain-size-over-weighted-degree\",\n",
    "    \"activity\",\n",
    "    \"conflict-history\",\n",
    "    \"failure-rate\",\n",
    "    \"pick-on-domain\",\n",
    "    \"smallest-domain-lb-value\",\n",
    "    \"smallest-domain-ub-value\",\n",
    "]"
   ]
  },
  {
   "cell_type": "code",
   "execution_count": null,
   "metadata": {
    "id": "qQuN5gnbnnR4"
   },
   "outputs": [],
   "source": [
    "def make_magic_table(n = 50):\n",
    "    # n: problem size\n",
    "\n",
    "    # Create model\n",
    "    model, x = magic_sequence(n)\n",
    "\n",
    "    \"\"\"\n",
    "    TODO: Write code to create the above table, one row for each strategy.\n",
    "\n",
    "    HINT: A new solver class is available for this exercise.\n",
    "          Instead of using SolverLookup, create the solver instance using\n",
    "          \"solver = strategy_CPM_Choco(model)\". The `.solve()` method of this\n",
    "          object accepts a new argument: strategy. Just pass it the name of\n",
    "          the strategy and Choco will be configured accordingly.\n",
    "\n",
    "    WARNING: Do not re-use the solver object between the strategies.\n",
    "            Re-using the solver object will activate its incremental mode,\n",
    "            i.e. searching for a new solution from where the last solve call left off.\n",
    "            In this case, we actually want to compare the strategies against each other\n",
    "            in the exact same setting and thus always solve 'from scratch'.\n",
    "            => Always re-create the solver instance between experiments.\n",
    "\n",
    "    HINT: You can use `pandas` to create nice tables.\n",
    "          More specifically:\n",
    "            import pandas as pd\n",
    "            pd.DataFrame(...)\n",
    "\n",
    "          To get the table:\n",
    "            | a | b |\n",
    "            | - | - |\n",
    "            | 1 | 2 |\n",
    "            | 3 | 4 |\n",
    "          You would need to call\n",
    "            pd.DataFrame([       # a list of rows\n",
    "              {'a': 1, 'b': 2},  # row = dictionary of column values\n",
    "              {'a': 3, 'b': 4}\n",
    "            ])\n",
    "    \"\"\"\n",
    "\n",
    "    import pandas as pd\n",
    "    # df = pf.DataFrame(...)\n",
    "\n",
    "\n",
    "\n",
    "\n",
    "\n",
    "\n",
    "    return df\n",
    "\n",
    "make_magic_table(n=50)"
   ]
  },
  {
   "cell_type": "markdown",
   "metadata": {
    "id": "gDjEKlIrrL62"
   },
   "source": [
    "**Observations**:\n",
    "\n",
    "Try for different values of `n`. What do you observe?"
   ]
  },
  {
   "cell_type": "markdown",
   "metadata": {
    "id": "Cc-LH1GbnnR4"
   },
   "source": [
    "### **Section 3: Hyperparameter Configuration**"
   ]
  },
  {
   "cell_type": "markdown",
   "metadata": {
    "id": "-kNpouK6nnR4"
   },
   "source": [
    "When the number of configurable solver-options becomes too big or the model becomes expensive to evaluate, testing all possible combinations becomes infeasible. We only have the resources to test a subset of them. But which subset should we test and how can we do this in a smart way as to come as close as possible to the ideal set of parameters (for the specific problem on which we're fine-tuning the solver)?\n",
    "\n",
    "We can interpret the \"algorithm configuration problem\" as a search problem. All possible parameter combinations define our search space. Now we want to efficiently traverse this space in search for the most optimal combinations within a limited number of iterations.\n",
    "\n",
    "In the lectures we saw three such approaches:\n",
    "- Grid search\n",
    "- Random search\n",
    "- Model-based search\n",
    "\n",
    "Let's fine-tune the OR-Tools solver on the N-Queens problem:"
   ]
  },
  {
   "cell_type": "code",
   "execution_count": null,
   "metadata": {
    "id": "du5mEsgBnnR4"
   },
   "outputs": [],
   "source": [
    "def nqueens(N):\n",
    "    \"\"\"\n",
    "    A model for the N-queens problem; i.e. how to position N queens on a\n",
    "    NxN chessboard such that no two queens attack each other.\n",
    "    \"\"\"\n",
    "    # Variables (one per row)\n",
    "    queens = cp.intvar(1,N, shape=N, name=\"queens\")\n",
    "\n",
    "    # Constraints on columns and left/right diagonal\n",
    "    m = cp.Model([\n",
    "        cp.AllDifferent(queens),\n",
    "        cp.AllDifferent([queens[i] + i for i in range(N)]),\n",
    "        cp.AllDifferent([queens[i] - i for i in range(N)]),\n",
    "    ])\n",
    "\n",
    "    return (m, queens)"
   ]
  },
  {
   "cell_type": "code",
   "execution_count": null,
   "metadata": {
    "id": "uNo7hxxonnR4"
   },
   "outputs": [],
   "source": [
    "# The search space of solver options\n",
    "#   If you want to try more, you can look here: https://github.com/CPMpy/cpmpy/blob/4494396b2302110c3740ac46164208c25e77266a/cpmpy/solvers/ortools.py#L580\n",
    "space = {\n",
    "    'cp_model_probing_level': [0, 1, 2, 3],\n",
    "    'linearization_level': [0, 1, 2], # -> not seen in lecture slides\n",
    "    'symmetry_level': [0, 1, 2],\n",
    "    'search_branching': [0, 1, 2],\n",
    "    'use_phase_saving': [False, True],\n",
    "}"
   ]
  },
  {
   "cell_type": "markdown",
   "metadata": {
    "id": "BnrYK2DdnnR4"
   },
   "source": [
    "#### **Grid search**\n",
    "\n",
    "With grid search, we discretize our search-space and simply go over each possible combination one by one (our search space is already discrete). Once the budget on the number of iterations has been exceeded or all combinations have been tested (whichever comes first), we halt and return the best parameters we've found.\n",
    "\n",
    "Complete the code for grid search."
   ]
  },
  {
   "cell_type": "code",
   "execution_count": null,
   "metadata": {
    "id": "eVqfy1J5nnR4"
   },
   "outputs": [],
   "source": [
    "import itertools\n",
    "\n",
    "def grid_search(model, solver:str, space, N:int=10):\n",
    "    \"\"\"\n",
    "    TODO: Go over each possible parameter combination inside the search space one by one.\n",
    "          Create a solver object from the model and the provided solver name.\n",
    "          Solve with the selected parameters and collect the runtime.\n",
    "          After all combinations have been tested or the iteration limit N has been reached,\n",
    "          return the best set of parameters found so far.\n",
    "\n",
    "    HINT: s.status().runtime gets you the runtime of a solver object.\n",
    "\n",
    "    HINT: To use a set of parameter which are given as a dictionary, use the following syntax:\n",
    "          s.solve(**chosen_parameters).\n",
    "\n",
    "    BONUS: To speed up the search, add \"Adaptive Capping\". Simply set the time_limit of the solve\n",
    "           call to the best runtime found so far (no need continue searching for a solution when the solve\n",
    "           call already took longer then the best we found so far).\n",
    "    \"\"\"\n",
    "\n",
    "    best_runtime = float('inf')\n",
    "    best_parameters = None\n",
    "\n",
    "    # Create all possible combinations from the search space\n",
    "    combinations = list(itertools.product(*space.values()))\n",
    "\n",
    "    # Iterate over all possible combinations\n",
    "    for i, chosen_parameters in enumerate(combinations):\n",
    "\n",
    "        # Max number of iterations\n",
    "        if i >= N: break\n",
    "\n",
    "        # Get parameters as a dictionary: param name -> param value\n",
    "        chosen_parameters = {k:v for (k,v) in zip(space.keys(), chosen_parameters)}\n",
    "\n",
    "        \"\"\"\n",
    "        TODO: Complete code as described above\n",
    "        \"\"\"\n",
    "\n",
    "\n",
    "\n",
    "\n",
    "\n",
    "\n",
    "        \"\"\"\n",
    "        TODO: Print the measured runtime.\n",
    "\n",
    "        HINT: To immediately print (for instant feedback), use 'flush=True'\n",
    "              as an argument, i.e. print(..., flush=True).\n",
    "        \"\"\"\n",
    "        # print(chosen_parameters, \"->\", \"...\", flush=True)\n",
    "\n",
    "\n",
    "\n",
    "\n",
    "\n",
    "\n",
    "\n",
    "    # Return best set of parameters\n",
    "    return {k:v for k,v in zip(space.keys(), best_parameters)}\n",
    "\n",
    "\n",
    "# Generate model\n",
    "model, x = nqueens(100)\n",
    "# Perform configuration search\n",
    "grid_params = grid_search(model, \"ortools\", space, N=10)\n",
    "# Print found configuration\n",
    "print(\"BEST:\", grid_params)"
   ]
  },
  {
   "cell_type": "markdown",
   "metadata": {
    "id": "aQU1Yn6hxrZl"
   },
   "source": [
    "**Q**: What do you observe? Do you believe that this approach has a good chance of finding the best set of parameters? What if we increased the number of iterations `N`?"
   ]
  },
  {
   "cell_type": "markdown",
   "metadata": {
    "id": "0aHNSmiNnnR4"
   },
   "source": [
    "#### **Random Search**\n",
    "\n",
    "Instead of systematic evaluation, going over the configurations one by one in order, implement a random configuration search for a fixed number of `N` solve calls.\n",
    "\n",
    "Complete the code for random search."
   ]
  },
  {
   "cell_type": "code",
   "execution_count": null,
   "metadata": {
    "id": "ZkuGV-8fnnR4"
   },
   "outputs": [],
   "source": [
    "import random\n",
    "import tqdm\n",
    "\n",
    "def random_search(model, solver: str, space, N:int=10):\n",
    "    \"\"\"\n",
    "    TODO: In each iteration, randomly select a new parameter combination (one that has not been tested before).\n",
    "          Create a solver object from the model based and the provided solver name.\n",
    "          Solve with the selected parameters and collect the runtime.\n",
    "          After all combinations have been tested or the iteration limit N has been reached,\n",
    "          return the best set of parameters found so far.\n",
    "\n",
    "    HINT: s.status().runtime gets you the runtime of a solver object.\n",
    "\n",
    "    HINT: To use a set of parameter which are given as a dictionary, use the following syntax:\n",
    "          s.solve(**chosen_parameters).\n",
    "\n",
    "    HINT: Instead of randomly sampling N configurations from the set of all configurations,\n",
    "          you could also randomly shuffle that set and then use the exact same code as\n",
    "          for grid search to test the first N 'random' configurations.\n",
    "          You can use 'random.shuffle()' to shuffle a list (this happens in-place,\n",
    "          so the original list gets updated).\n",
    "\n",
    "    BONUS: To speed up the search, add \"Adaptive Capping\". Simply set the time_limit of the solve\n",
    "           call to the best runtime found so far (no need continue searching for a solution when the solve\n",
    "           call already took longer then the best we found so far).\n",
    "    \"\"\"\n",
    "\n",
    "    best_runtime = float('inf')\n",
    "    best_parameters = None\n",
    "\n",
    "    # Create all possible combinations from the search space\n",
    "    combinations = list(itertools.product(*space.values()))\n",
    "\n",
    "    \"\"\"\n",
    "    TODO: Randomly shuffle the search space as to later get N random configurations.\n",
    "    \"\"\"\n",
    "\n",
    "\n",
    "\n",
    "\n",
    "\n",
    "    checked_parameters = []\n",
    "\n",
    "    # Iterate over all possible combinations\n",
    "    for i, chosen_parameters in enumerate(combinations):\n",
    "\n",
    "        # Max number of iterations\n",
    "        if i >= N: break\n",
    "\n",
    "        # Get parameters as a dictionary: param name -> param value\n",
    "        chosen_parameters = {k:v for (k,v) in zip(space.keys(), chosen_parameters)}\n",
    "\n",
    "        \"\"\"\n",
    "        TODO: Complete code as described above\n",
    "        \"\"\"\n",
    "\n",
    "\n",
    "\n",
    "\n",
    "\n",
    "        \"\"\"\n",
    "        TODO: Print the measured runtime.\n",
    "\n",
    "        HINT: To immediately print (for instant feedback), use 'flush=True'\n",
    "              as an argument, i.e. print(..., flush=True).\n",
    "        \"\"\"\n",
    "        # print(chosen_parameters, \"->\", \"...\", flush=True)\n",
    "\n",
    "\n",
    "\n",
    "\n",
    "\n",
    "\n",
    "    # Return best set of parameters\n",
    "    return {k:v for k,v in zip(space.keys(), best_parameters)}\n",
    "\n",
    "\n",
    "# Generate model\n",
    "model, x = nqueens(100)\n",
    "# Perform configuration search\n",
    "random_params = random_search(model, \"ortools\", space, 10)\n",
    "# Print found configuration\n",
    "print(random_params)\n"
   ]
  },
  {
   "cell_type": "markdown",
   "metadata": {
    "id": "8d5gWTlRz2HT"
   },
   "source": [
    "Run the above code a few times.\n",
    "\n",
    "**Observations**:\n",
    "\n",
    "1) How do the tested configurations of random search compare to those of grid search?\n",
    "\n",
    "2) Do you think that this approach has a better chance of finding a good set of parameters within the limited number of iterations? Why?"
   ]
  },
  {
   "cell_type": "markdown",
   "metadata": {
    "id": "0mqRd5afnnR5"
   },
   "source": [
    "#### **Model-based Search**\n",
    "\n",
    "As a last option, we'll use HyperOpt's model-based approach. Here, a probabilistic model gets made during the search, which is utilised to guide the search towards regions of high \"promise\".\n",
    "\n",
    "Complete the code for the model-based approach."
   ]
  },
  {
   "cell_type": "code",
   "execution_count": null,
   "metadata": {
    "id": "O6ZQU-aBnnR5"
   },
   "outputs": [],
   "source": [
    "from hyperopt import hp\n",
    "from hyperopt import tpe\n",
    "from hyperopt import fmin\n",
    "from hyperopt import Trials\n",
    "\n",
    "# Convert the search-space to a hyperopt format\n",
    "h_space = {k:hp.choice(k,v) for k,v in space.items()}\n",
    "\n",
    "\n",
    "# Create the model\n",
    "model, x = nqueens(100)\n",
    "\n",
    "def objective(model, solver: str, parameters):\n",
    "    \"\"\"\n",
    "    Objective function to guide HyperOpt during its search.\n",
    "\n",
    "    TODO: Create a solver object, run the solver with the given params, and return the runtime.\n",
    "\n",
    "    Hint: Put a limit on the solve time (e.g. 20s) as to not wait too long.\n",
    "    \"\"\"\n",
    "\n",
    "\n",
    "\n",
    "\n",
    "\n",
    "    \"\"\"\n",
    "    TODO: Print the measured runtime.\n",
    "\n",
    "    HINT: To immediately print (for instant feedback), use 'flush=True'\n",
    "          as an argument, i.e. print(..., flush=True).\n",
    "    \"\"\"\n",
    "    # print(chosen_parameters, \"->\", \"...\", flush=True)\n",
    "\n",
    "\n",
    "\n",
    "\n",
    "\n",
    "\n",
    "# Run HyperOpt's model-based algorithm configuration.\n",
    "model_params = fmin(\n",
    "    fn=lambda p: objective(model, 'ortools', p),\n",
    "    space=h_space,\n",
    "    algo=tpe.suggest,\n",
    "    trials=Trials(),\n",
    "    max_evals=10, # <- limit on the number of iterations N (increase to e.g. 30)\n",
    "    show_progressbar=False\n",
    ")\n",
    "# Print found configuration\n",
    "print(model_params)"
   ]
  },
  {
   "cell_type": "markdown",
   "metadata": {
    "id": "KPTuFKWo4-5d"
   },
   "source": [
    "**Observations**:\n",
    "\n",
    "1) How well does the model-based approach work compared to the other approaches?\n",
    "\n",
    "2) Increase the number of iterations, what do you see?"
   ]
  }
 ],
 "metadata": {
  "colab": {
   "collapsed_sections": [
    "55QmCd0hnnR3",
    "k9xj12NsnnR3",
    "AkZT9u89nnR3",
    "KZuubldZnnR4",
    "Cc-LH1GbnnR4",
    "BnrYK2DdnnR4",
    "0aHNSmiNnnR4",
    "0mqRd5afnnR5"
   ],
   "provenance": []
  },
  "kernelspec": {
   "display_name": "Python (conda base)",
   "language": "python",
   "name": "base"
  },
  "language_info": {
   "codemirror_mode": {
    "name": "ipython",
    "version": 3
   },
   "file_extension": ".py",
   "mimetype": "text/x-python",
   "name": "python",
   "nbconvert_exporter": "python",
   "pygments_lexer": "ipython3",
   "version": "3.13.2"
  }
 },
 "nbformat": 4,
 "nbformat_minor": 1
}
