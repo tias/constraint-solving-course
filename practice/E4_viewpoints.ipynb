{
 "cells": [
  {
   "cell_type": "code",
   "execution_count": null,
   "metadata": {
    "id": "mQrg5042121f"
   },
   "outputs": [],
   "source": [
    "# Imports\n",
    "!pip install cpmpy numpy --quiet\n",
    "\n",
    "import cpmpy as cp\n",
    "import numpy as np\n",
    "import time\n",
    "\n",
    "def solve_with_time(model, time_limit=None):\n",
    "\n",
    "    start_time = time.time()\n",
    "    solution_found = model.solve(time_limit=time_limit)\n",
    "    end_time = time.time()\n",
    "\n",
    "    elapsed_time = end_time - start_time\n",
    "    print(\"Time elapsed: {:.4f} seconds\".format(elapsed_time))\n",
    "\n",
    "    return solution_found"
   ]
  },
  {
   "cell_type": "markdown",
   "metadata": {
    "id": "5_WcNMwhUxG6"
   },
   "source": [
    "**Useful Resources:**\n",
    "* CPMpy summary sheet: https://cpmpy.readthedocs.io/en/latest/summary.html\n",
    "* CPMpy modeling documentation: https://cpmpy.readthedocs.io/en/latest/modeling.html"
   ]
  },
  {
   "cell_type": "markdown",
   "metadata": {
    "id": "A5WpxH1woeAP"
   },
   "source": [
    "## **Session 4: Advanced Modelling**\n",
    "\n",
    "### Outline:\n",
    "1. Viewpoints\n",
    "2. Channelling\n",
    "3. Auxiliary Variables\n",
    "4. Implied Constraints\n",
    "5. Extra Exercises"
   ]
  },
  {
   "cell_type": "markdown",
   "metadata": {
    "id": "7tphYVmoU1Hm"
   },
   "source": [
    "## **1. Viewpoints**\n",
    "\n",
    "In constraint programming, we often have multiple ways to represent the same problem. These representations, or \"viewpoints,\" affect both how the CP solver explores the solution space and how easy it is to formulate the constraints. A carefully chosen viewpoint can:\n",
    "- Reduce the complexity of the model, making it **faster** to solve\n",
    "- Make the constraints **easier** to express\n",
    "- **Implicitly** model constraints as part of the variables/domains definitions\n",
    "- Improve **readability**\n",
    "\n",
    "---\n",
    "\n",
    "Consider the following problem:\n",
    "\n",
    "We have $n$ pigeons and $m$ pigeonholes. Each pigeon must be assigned to one pigeonhole, but each pigeonhole can hold at most one pigeon.\n",
    "Here, we consider $n=50$ pigeons and $m=60$ pigeonholes.\n",
    "\n",
    "The output can be of the form:\n",
    "```\n",
    "Pigeon 1 goes to hole 1\n",
    "Pigeon 2 goes to hole 7\n",
    "...\n",
    "Pigeon 50 goes to hole 53\n",
    "```\n",
    "\n",
    "Modelling this problem is quite straightforward. The focus is on constructing two models for this problem using **different viewpoints**."
   ]
  },
  {
   "cell_type": "markdown",
   "metadata": {
    "id": "Nm0UCy1fn263"
   },
   "source": [
    "### Viewpoint 1: Pigeons as variables\n",
    "\n",
    "<details>\n",
    "  <summary>Click to reveal hints</summary>\n",
    "\n",
    "* We need a decision variable for each pigeon representing which hole it goes into.\n",
    "* The [AllDifferent](https://cpmpy.readthedocs.io/en/latest/api/expressions/globalconstraints.html#cpmpy.expressions.globalconstraints.AllDifferent) constraint fits nicely when the pigeons are selected as decision variables.\n",
    "</details>"
   ]
  },
  {
   "cell_type": "code",
   "execution_count": null,
   "metadata": {
    "id": "-Qk5Ax7-PSer"
   },
   "outputs": [],
   "source": [
    "num_pigeons = 50\n",
    "num_pigeonholes = 60\n",
    "\n",
    "# TODO: Decision variables\n",
    "pigeons = None\n",
    "\n",
    "# Constraints\n",
    "model_vp1 = cp.Model()\n",
    "\n",
    "# TODO: Constraints\n",
    "model_vp1.add(None)\n",
    "\n",
    "# Solve the model\n",
    "solved = solve_with_time(model_vp1)\n",
    "\n",
    "if solved:\n",
    "  print(model_vp1.status())\n",
    "  # TODO: Print the solution\n",
    "\n",
    "else:\n",
    "  print(\"No solution found.\")"
   ]
  },
  {
   "cell_type": "markdown",
   "metadata": {
    "id": "oblbf4FUwIf2"
   },
   "source": [
    "### Viewpoint 2: Pigeonholes as variables\n",
    "\n",
    "<details>\n",
    "  <summary>Click to reveal hints</summary>\n",
    "\n",
    "- Make sure that the domain includes also the option that the hole may be empty\n",
    "- The constraint that each pigeon must be assigned to exactly one pigeonhole can be expressed in various ways, some of them are:\n",
    "  - For each pigeon use `cp.sum` and ensure that it is equal to 1.\n",
    "  - Use [GlobalCardinalityCount](https://cpmpy.readthedocs.io/en/latest/api/expressions/globalconstraints.html#cpmpy.expressions.globalconstraints.GlobalCardinalityCount)\n",
    "  - Use [AllDifferentExcept0](https://cpmpy.readthedocs.io/en/latest/api/expressions/globalconstraints.html#cpmpy.expressions.globalconstraints.AllDifferentExcept0) and [Count](https://cpmpy.readthedocs.io/en/latest/api/expressions/globalfunctions.html#cpmpy.expressions.globalfunctions.Count)\n",
    "</details>"
   ]
  },
  {
   "cell_type": "code",
   "execution_count": null,
   "metadata": {
    "id": "XVCnSa3VtYAW"
   },
   "outputs": [],
   "source": [
    "# Decision variables\n",
    "pigeonholes = None\n",
    "\n",
    "# Constraints\n",
    "model_vp2 = cp.Model()\n",
    "\n",
    "# TODO: Model the problem and print the solution.\n"
   ]
  },
  {
   "cell_type": "markdown",
   "metadata": {
    "id": "6-jemx4E23RW"
   },
   "source": [
    "**Observations:**\n",
    "1. Which viewpoint was easier to model?\n",
    "2. Which viewpoint was faster to solve?\n",
    "3. Which constraints are implicitly covered in each viewpoint?"
   ]
  },
  {
   "cell_type": "code",
   "execution_count": null,
   "metadata": {
    "id": "q-_NO1wYHZR3"
   },
   "outputs": [],
   "source": [
    "# TODO: Count the time taken for model_vp1.solve() and model_vp2.solve()\n"
   ]
  },
  {
   "cell_type": "markdown",
   "metadata": {
    "id": "JnxhrsTiJy9J"
   },
   "source": [
    "## **2. Channeling**\n",
    "\n",
    "Some constraints are more naturally expressed in one viewpoint, while other constraints of the same model are maybe more naturally expressed in another viewpoint. In such cases, **channeling** is a useful technique that connects variables from different viewpoints within a single model. Some key benefits:\n",
    "\n",
    "1. You can use the most intuitive viewpoint for each constraint.\n",
    "2. The solver may deduce information across linked viewpoints, potentially speeding up the solving process.\n",
    "3. The final models can become easier to read, maintain, and extend.\n",
    "\n",
    "Channeling is achieved by adding constraints that ensure consistency between the decision variables of different viewpoints.\n",
    "\n",
    "---\n",
    "\n",
    "Consider the *Student Seating Problem* from the lecture:\n",
    "\n",
    "You are tasked with finding an optimal seating arrangement for `nStudents = 15` students across `nTables = 5` tables, where there are `nChairs = 20` chairs in total. You are given a list of chair assignments for each table:\n",
    "`Chairs = [1..4, 5..8, 9..12, 13..16, 17..20]`.\n",
    "The goal is to assign **all** students to the chairs in such a way that each table has either at least half or no chairs occupied.\n",
    "\n",
    "Create variables with two different viewpoints and try to model each constraint with the viewpoint that is easier. Before solving, it is necessary that the variables between the viewpoints are logically connected.\n",
    "\n",
    "<details>\n",
    "  <summary>Click to reveal hints</summary>\n",
    "\n",
    "There are two high-level constraints that need to be satisfied:\n",
    "1. From a student perspective: **All** students sit on a **different** chair\n",
    "2. From a chair perspective: In each table, either **all chairs are empty** or **at least half are non-empty**.\n",
    "</details>"
   ]
  },
  {
   "cell_type": "code",
   "execution_count": null,
   "metadata": {
    "id": "RVF8_tZ7xiSj"
   },
   "outputs": [],
   "source": [
    "# Data\n",
    "n_students = 15\n",
    "n_chairs = 20\n",
    "n_tables = 5\n",
    "\n",
    "# Chair indexes for each table\n",
    "# [1..4, 5..8, 9..12, 13..16, 17..20]\n",
    "chairs_per_table = n_chairs // n_tables\n",
    "tables = [list(range(start, start + chairs_per_table))\n",
    "          for start in range(1, n_chairs + 1, chairs_per_table)]\n",
    "\n",
    "# Model\n",
    "model = cp.Model()\n",
    "\n",
    "# Viewpoint 1: Students as vars\n",
    "students = None  # TODO\n",
    "\n",
    "# TODO: Add the constraint(s) that is (are) easier to express with vp1\n",
    "\n",
    "# Viewpoint 2: Chairs as vars\n",
    "chairs = None  # TODO (make sure you also include a value for the empty chair)\n",
    "\n",
    "# TODO: Add the constraint(s) that is (are) easier to express with vp2\n",
    "\n",
    "\n",
    "# Channeling: At this point we have modeled half of the constraints with the\n",
    "# vars of vp1 and half with those of vp2. We need to merge the two viewpoints.\n",
    "\n",
    "# TODO: Connect the students and chairs viewpoints\n",
    "\n",
    "\n",
    "# TODO: Solve the model and print the solution\n"
   ]
  },
  {
   "cell_type": "markdown",
   "metadata": {
    "id": "9ok175ycgvEy"
   },
   "source": [
    "## **3. Auxiliary Variables**\n",
    "\n",
    "Auxiliary variables can help in expressing complex constraints more naturally and clearly. They can be useful when establishing relationships between decision variables and additional properties or constraints, making it easier to formulate constraints. So, they are used:\n",
    "\n",
    "* Because it is difficult to express the constraints in terms of the existing variables, or\n",
    "* To allow the constraints to be expressed in a form that would propagate better."
   ]
  },
  {
   "cell_type": "markdown",
   "metadata": {
    "id": "q7RCakbxmCaN"
   },
   "source": [
    "**Car Sequencing**\n",
    "\n",
    "Imagine an assembly line producing different types of cars, each with optional features (e.g. air-conditioning, sunroof etc.). Each station on the assembly line handles a specific feature and has a limited capacity, meaning it can only work on a certain percentage of the cars that pass through.\n",
    "\n",
    "To prevent any station from being overwhelmed, cars must be arranged in a sequence so that the number of cars needing a particular feature never exceeds the station's capacity. For example, if a station can only handle half of the cars that pass by, then at most 1 out of every 2 cars in the sequence should require that feature.\n",
    "\n",
    "A model of this problem is also available in the slides of lecture 5, page 23.\n",
    "Try to model it without looking at the slides first."
   ]
  },
  {
   "cell_type": "code",
   "execution_count": null,
   "metadata": {
    "id": "8GGI9OBFmB-1"
   },
   "outputs": [],
   "source": [
    "# Data\n",
    "at_most = [1, 2, 2, 2, 1]  # The maximum number of times an option can be present in a group of consecutive timeslots (see 'per_slots' below)\n",
    "per_slots = [2, 3, 3, 5, 5]  # The number of consecutive timeslots (window) in which an option has a limit (see 'at_most' above)\n",
    "\n",
    "demand = [1, 1, 2, 2, 2, 2]  # The demand per type of car\n",
    "requires = cp.cpm_array([\n",
    "    [1, 0, 1, 1, 0],\n",
    "    [0, 0, 0, 1, 0],\n",
    "    [0, 1, 0, 0, 1],\n",
    "    [0, 1, 0, 1, 0],\n",
    "    [1, 0, 1, 0, 0],\n",
    "    [1, 1, 0, 0, 0]])  # Which options (columns) are needed for each car type (rows).\n",
    "\n",
    "n_cars = sum(demand)  # The amount of cars to sequence\n",
    "n_options = len(at_most)  # The amount of different options\n",
    "n_types = len(demand)  # The amount of different car types\n",
    "\n",
    "# Decision Variables\n",
    "sequence = None  # TODO: The sequence of cars\n",
    "\n",
    "# TODO: Define the auxiliary variables -> Which options are needed for each car in the sequence.\n",
    "option = None\n",
    "\n",
    "# Model\n",
    "car_seq_model = cp.Model()\n",
    "\n",
    "# TODO: The amount of each type of car in the sequence has to be equal to the demand for that type\n",
    "\n",
    "# TODO: Make sure that the options in the option table correspond to those of the car type\n",
    "\n",
    "# TODO: Check that no more than \"at most\" car options are used per \"per_slots\" slots\n",
    "\n",
    "\n",
    "# TODO: Solve and print the sequence of cars and which options are required per car.\n"
   ]
  },
  {
   "cell_type": "markdown",
   "metadata": {
    "id": "mvbMXAyNyDPE"
   },
   "source": [
    "For reference, here is a solution of this problem:\n",
    "\n",
    "```\n",
    "Sequence:  0 2 5 1 5 3 4 2 3 4\n",
    "------------------------------\n",
    "Option 1:  1 0 1 0 1 0 1 0 0 1\n",
    "Option 2:  0 1 1 0 1 1 0 1 1 0\n",
    "Option 3:  1 0 0 0 0 0 1 0 0 1\n",
    "Option 4:  1 0 0 1 0 1 0 0 1 0\n",
    "Option 5:  0 1 0 0 0 0 0 1 0 0\n",
    "```"
   ]
  },
  {
   "cell_type": "markdown",
   "metadata": {
    "id": "lvUurKDThEQK"
   },
   "source": [
    "## **4. Implied Constraints**\n",
    "\n",
    "As taken from the lecture slides:\n",
    "\n",
    "Can we do something to make our model quicker?\n",
    "During the search process, the solver will explore several infeasible parts of the search tree. Can we avoid that?\n",
    "Although implied constraints are logically redundant, and do not change the set of solutions, they can be used to reduce the search effort of the solving process."
   ]
  },
  {
   "cell_type": "markdown",
   "metadata": {
    "id": "kgzRMORwZ3zt"
   },
   "source": [
    "Consider the **Magic Series problem**, also seen at lecture 5, page 29:\n",
    "\n",
    "The element at index i in I = 0..(n-1) is the number of occurrences of i, for an integer n. Create a model that finds a magic series for n = 100.\n",
    "\n",
    "Print the time taken to solve this model."
   ]
  },
  {
   "cell_type": "code",
   "execution_count": null,
   "metadata": {
    "id": "Aefd0vDm-JTg"
   },
   "outputs": [],
   "source": [
    "n = 100\n",
    "\n",
    "# TODO: Decision Variables\n",
    "Magic = None\n",
    "\n",
    "# Model\n",
    "model = cp.Model()\n",
    "\n",
    "# TODO: Add the constraint\n",
    "\n",
    "\n",
    "# TODO: Solve the model and print the solution (print the time taken)\n"
   ]
  },
  {
   "cell_type": "markdown",
   "metadata": {
    "id": "5qPUmWsUZIwH"
   },
   "source": [
    "We can significantly improve solving time by adding implied constraints.\n",
    "\n",
    "Add implied constraints (try it initially without looking at them in the slides), and compare the time taken to solve the new model with the above one."
   ]
  },
  {
   "cell_type": "code",
   "execution_count": null,
   "metadata": {
    "id": "gNCtkF2TGF79"
   },
   "outputs": [],
   "source": [
    "# TODO: Implied constraints\n",
    "\n",
    "\n",
    "\n",
    "# TODO: Solve the model and print the solution (print the time taken)\n"
   ]
  },
  {
   "cell_type": "markdown",
   "metadata": {
    "id": "UOQ94UYZ0xGU"
   },
   "source": [
    "## **5. Extra Exercises**\n"
   ]
  },
  {
   "cell_type": "markdown",
   "metadata": {
    "id": "2u-2s87L1n06"
   },
   "source": [
    "### Auxiliary Variables: Orthogonal Latin Squares\n",
    "\n",
    "Consider the [Orthogonal Latin Squares](https://en.wikipedia.org/wiki/Mutually_orthogonal_Latin_squares) problem:\n",
    "\n",
    "A Latin square is an $ n \\times n $ array filled with $n$ different symbols, each occurring exactly once in each row and exactly once in each column. In other words, a Latin Square is a square grid where:\n",
    "\n",
    "* Each row contains all $n$ distinct symbols exactly once.\n",
    "* Each column contains all $n$ distinct symbols exactly once.\n",
    "* No symbol appears twice in the same row or column.\n",
    "\n",
    "Two Latin squares are said to be orthogonal if, when placed on top of each other, each possible combination of their symbols appears exactly once.\n",
    "\n",
    "**Instructions:**\n",
    "\n",
    "You have a set of $ n $ integers (0..n-1), and your task is to construct two $ n \\times n $ Latin squares that are orthogonal.\n",
    "\n",
    "1. Define decision variables for the Latin squares.\n",
    "2. Introduce auxiliary variables to represent each cell's pairing from both Latin squares.\n",
    "3. Ensure that each pairing is unique across the entire grid."
   ]
  },
  {
   "cell_type": "code",
   "execution_count": null,
   "metadata": {
    "id": "TdfKjDTu1Q1R"
   },
   "outputs": [],
   "source": [
    "n = 7  # Size of the Latin square, and number of symbols\n",
    "\n",
    "# TODO: Decision variables\n",
    "square1 = None\n",
    "square2 = None\n",
    "\n",
    "# TODO: Auxiliary variables to combine symbols from both squares\n",
    "pairing = None\n",
    "\n",
    "# Model\n",
    "model = cp.Model()\n",
    "\n",
    "# TODO: Latin square constraints\n",
    "\n",
    "# TODO: Connect the pairing variables with the square variables\n",
    "\n",
    "# TODO: All pairings should be unique\n",
    "\n",
    "\n",
    "# TODO: Solve the model and print the squares\n"
   ]
  },
  {
   "cell_type": "markdown",
   "metadata": {
    "id": "778kda0W19v9"
   },
   "source": [
    "Now, to see the benefit of auxiliary variables, try to model the same problem but without using `pairings`. The orthogonality constraint needs to be formulated directly over the square variables. This is more complicated to model, and possibly also slower for the solver (check the run time)."
   ]
  },
  {
   "cell_type": "code",
   "execution_count": null,
   "metadata": {
    "id": "jMD3cvnV19v-"
   },
   "outputs": [],
   "source": [
    "n = 7  # Size of the Latin square, and number of symbols\n",
    "\n",
    "# Decision variables for two Latin squares\n",
    "square1 = None\n",
    "square2 = None\n",
    "\n",
    "# Model\n",
    "model_no_aux = cp.Model()\n",
    "\n",
    "# TODO: Latin square constraints\n",
    "\n",
    "# TODO: Orthogonality constraint: Ensure each combination is unique by pair-wise comparing all pairs\n",
    "\n",
    "\n",
    "# TODO: Solve the model and print the time taken. Print the time taken also for the previous model that contains auxiliary variables.\n"
   ]
  },
  {
   "cell_type": "markdown",
   "metadata": {
    "id": "bbwmSQpnHC1k"
   },
   "source": [
    "### Implied Constraints: Car Sequencing"
   ]
  },
  {
   "cell_type": "markdown",
   "metadata": {
    "id": "lfemCwgiIW93"
   },
   "source": [
    "Consider again the Car Sequencing problem. Add the implied constraints that are recommended in the slides of lecture 5, page 27.\n",
    "\n",
    "For more details on the implied constraints of Car Sequencing, see this [article](https://www.researchgate.net/publication/220838036_Solving_the_Car_Sequencing_Problem_in_Constraint_Logic_Programming#fullTextFileContent), Pages 8-9."
   ]
  },
  {
   "cell_type": "code",
   "execution_count": null,
   "metadata": {
    "id": "QbV-Kea9Pjsf"
   },
   "outputs": [],
   "source": [
    "# TODO: Implied Constraints\n",
    "car_seq_model.add(None)"
   ]
  }
 ],
 "metadata": {
  "colab": {
   "provenance": [],
   "toc_visible": true
  },
  "kernelspec": {
   "display_name": "Python 3 (ipykernel)",
   "language": "python",
   "name": "python3"
  },
  "language_info": {
   "codemirror_mode": {
    "name": "ipython",
    "version": 3
   },
   "file_extension": ".py",
   "mimetype": "text/x-python",
   "name": "python",
   "nbconvert_exporter": "python",
   "pygments_lexer": "ipython3",
   "version": "3.13.3"
  }
 },
 "nbformat": 4,
 "nbformat_minor": 1
}
