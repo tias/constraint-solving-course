{
 "cells": [
  {
   "cell_type": "code",
   "execution_count": 1,
   "metadata": {
    "colab": {
     "base_uri": "https://localhost:8080/"
    },
    "id": "mQrg5042121f",
    "outputId": "c32ad656-f9f5-4a0e-93fc-5ce075990ae4"
   },
   "outputs": [],
   "source": [
    "# Imports\n",
    "!pip install cpmpy numpy --quiet\n",
    "\n",
    "import cpmpy as cp\n",
    "import numpy as np"
   ]
  },
  {
   "cell_type": "markdown",
   "metadata": {
    "id": "A5WpxH1woeAP"
   },
   "source": [
    "(You can ignore google* and tensor* dependency errors on Google Colab.)\n",
    "\n",
    "\n",
    "## **Session 1: Introduction to CPMpy and Basic Modelling**\n",
    "\n",
    "In this session, we will be introducing you to constraint programming using the CPMpy framework and working through some modelling exercises. The goal is to help you become familiar with how to formulate/model combinatorial problems using CPMpy.\n",
    "\n",
    "<!-- <strong>Plan for the session:</strong>\n",
    "- Introductory Talk (~20 minutes): Introduction to CPMpy, constraint programming, and how combinatorial problems can be represented as models.\n",
    "- Hands-on Exercises (~2 hours): Practice modelling problems using CPMpy through a series of guided exercises. -->\n",
    "\n",
    "\n",
    "<strong>If in doubt, quickly check the summary sheet:</strong>\n",
    "* CPMpy summary sheet: https://cpmpy.readthedocs.io/en/latest/summary.html\n",
    "\n",
    "<strong>If things are unclear, check the extensive modeling guide:</strong>\n",
    "\n",
    "* CPMpy modeling documentation: https://cpmpy.readthedocs.io/en/latest/modeling.html"
   ]
  },
  {
   "cell_type": "markdown",
   "metadata": {
    "id": "VopstlxXz0pW"
   },
   "source": [
    "### **Part 1: Short Introduction**"
   ]
  },
  {
   "cell_type": "markdown",
   "metadata": {
    "id": "s54dxflc0J5H"
   },
   "source": [
    "#### **What is Constraint Programming (CP)?**\n",
    "\n",
    "Constraint Programming is a **declarative paradigm** for solving **combinatorial problems**. In CP, a problem is modelled by defining:\n",
    "\n",
    "- **Decision Variables**: They represent the solution, as entities that their values need to be determined.\n",
    "- **Domains**: The set of possible values for the decision variables.\n",
    "- **Constraints**: Relationships between variables restricting their possible values.\n",
    "- **Objective (Optional)**: If the problem includes an optimisation objective, we can define an objective to minimize or maximize.\n",
    "\n",
    "CP allows you to focus on **what** needs to be satisfied, without specifying **how** to solve the problem."
   ]
  },
  {
   "cell_type": "markdown",
   "metadata": {
    "id": "Q6lKs2h10X3p"
   },
   "source": [
    "#### **Imperative vs Declarative Programming**\n",
    "\n",
    "To understand the difference between imperative and declarative programming, let's take a simple example:\n",
    "\n",
    "We have two variables `x` and `y`, and we want to find their values such that:\n",
    "- Their sum is equal to 7.\n",
    "- `x` is greater than `y`."
   ]
  },
  {
   "cell_type": "code",
   "execution_count": 2,
   "metadata": {
    "colab": {
     "base_uri": "https://localhost:8080/"
    },
    "id": "ggNNq5EK1Xk3",
    "outputId": "dddd2de8-f6ab-42e0-9dbc-db16a2bb354d"
   },
   "outputs": [
    {
     "name": "stdout",
     "output_type": "stream",
     "text": [
      "Imperative Approach: We explicitly assign the variables to specific values: x=0 and y=0\n",
      "... and we explicitly reassign it until we find the solution:\n",
      "x = 0, y = 0\n",
      "x = 0, y = 1\n",
      "x = 0, y = 2\n",
      "x = 0, y = 3\n",
      "x = 0, y = 4\n",
      "x = 0, y = 5\n",
      "x = 0, y = 6\n",
      "x = 0, y = 7\n",
      "x = 0, y = 8\n",
      "x = 0, y = 9\n",
      "x = 1, y = 0\n",
      "x = 1, y = 1\n",
      "x = 1, y = 2\n",
      "x = 1, y = 3\n",
      "x = 1, y = 4\n",
      "x = 1, y = 5\n",
      "x = 1, y = 6\n",
      "x = 1, y = 7\n",
      "x = 1, y = 8\n",
      "x = 1, y = 9\n",
      "x = 2, y = 0\n",
      "x = 2, y = 1\n",
      "x = 2, y = 2\n",
      "x = 2, y = 3\n",
      "x = 2, y = 4\n",
      "x = 2, y = 5\n",
      "x = 2, y = 6\n",
      "x = 2, y = 7\n",
      "x = 2, y = 8\n",
      "x = 2, y = 9\n",
      "x = 3, y = 0\n",
      "x = 3, y = 1\n",
      "x = 3, y = 2\n",
      "x = 3, y = 3\n",
      "x = 3, y = 4\n",
      "x = 3, y = 5\n",
      "x = 3, y = 6\n",
      "x = 3, y = 7\n",
      "x = 3, y = 8\n",
      "x = 3, y = 9\n",
      "x = 4, y = 0\n",
      "x = 4, y = 1\n",
      "x = 4, y = 2\n",
      "x = 4, y = 3\n",
      "\n",
      "Solution found: x = 4, y = 3\n"
     ]
    }
   ],
   "source": [
    "# Imperative\n",
    "x, y = 0, 0\n",
    "\n",
    "print(f\"Imperative Approach: We explicitly assign the variables to specific values: x={x} and y={y}\")\n",
    "\n",
    "print(\"... and we explicitly reassign it until we find the solution:\")\n",
    "found = False\n",
    "for x in range(10):\n",
    "    for y in range(10):\n",
    "        print(f\"x = {x}, y = {y}\")\n",
    "        if x + y == 7 and x > y:\n",
    "            print(f\"\\nSolution found: x = {x}, y = {y}\")\n",
    "            found = True\n",
    "            break\n",
    "    if found:\n",
    "        break"
   ]
  },
  {
   "cell_type": "code",
   "execution_count": 3,
   "metadata": {
    "colab": {
     "base_uri": "https://localhost:8080/"
    },
    "id": "ukBLsSzo10LN",
    "outputId": "206dd22c-7ba9-4435-ec22-35de6739b536"
   },
   "outputs": [
    {
     "name": "stdout",
     "output_type": "stream",
     "text": [
      "Declarative Approach: We define the variables x=IV0 and y=IV1.\n",
      "Notice that we don't explicitly set/assign any values to the variables. We simply define their domains (sets of possible values).\n",
      "\n",
      "... and we model the problem declaratively (i.e. we do not specify how to find the correct assignment, but what the correct assignment should satisfy):\n",
      "\n",
      "Constraints:\n",
      "    (IV0) + (IV1) == 7\n",
      "    (IV0) > (IV1)\n",
      "Objective: None\n",
      "\n",
      "... and we solve the problem:\n",
      "\n",
      "Solution: x = 4, y = 3\n"
     ]
    }
   ],
   "source": [
    "# Declarative\n",
    "\n",
    "# Define decision variables with domains\n",
    "x, y = cp.intvar(0, 10, shape=2)\n",
    "\n",
    "print(f\"Declarative Approach: We define the variables x={x} and y={y}.\")\n",
    "print(\"Notice that we don't explicitly set/assign any values to the variables. We simply define their domains (sets of possible values).\")\n",
    "\n",
    "print(\"\\n... and we model the problem declaratively (i.e. we do not specify how to find the correct assignment, but what the correct assignment should satisfy):\\n\")\n",
    "\n",
    "# Model the constraints\n",
    "model = cp.Model([\n",
    "    x + y == 7,  # Their sum is 7\n",
    "    x > y         # x is greater than y\n",
    "])\n",
    "\n",
    "print(model)\n",
    "\n",
    "# Solve the model\n",
    "print(\"\\n... and we solve the problem:\\n\")\n",
    "model.solve()\n",
    "\n",
    "print(f\"Solution: x = {x.value()}, y = {y.value()}\")"
   ]
  },
  {
   "cell_type": "markdown",
   "metadata": {
    "id": "R4rvyRqo02w5"
   },
   "source": [
    "#### **What is CPMpy?**\n",
    "CPMpy is a Constraint Programming library in Python, for **modelling** and **solving** combinatorial problems.\n",
    "\n",
    "**Basic Model Structure**:\n",
    "1. **Decision Variables**: Defined with `intvar()` for integers or `boolvar()` for booleans.\n",
    "2. **Constraints**: Applied on variables using comparison operators (`==`, `!=`, `<`, `<=`, etc.) or [global constraints](https://cpmpy.readthedocs.io/en/latest/modeling.html#global-constraints) like `AllDifferent`.\n",
    "3. **Solving**: Use `solve()` to find a solution."
   ]
  },
  {
   "cell_type": "markdown",
   "metadata": {
    "id": "6pSp6Cbbsrkb"
   },
   "source": [
    "#### **A Practical Example**\n",
    "\n",
    "We need to solve a Sudoku puzzle. The goal of Sudoku is to fill a 9x9 grid with numbers so that each row, column and 3x3 section contain all the digits\n",
    "between 1 and 9.\n",
    "The given unsolved grid is the following:\n",
    "\n",
    "```\n",
    "[  \n",
    "    [0, 0, 0,  2, 0, 5,  0, 0, 0],\n",
    "    [0, 9, 0,  0, 0, 0,  7, 3, 0],\n",
    "    [0, 0, 2,  0, 0, 9,  0, 6, 0],\n",
    "\n",
    "    [2, 0, 0,  0, 0, 0,  4, 0, 9],\n",
    "    [0, 0, 0,  0, 7, 0,  0, 0, 0],\n",
    "    [6, 0, 9,  0, 0, 0,  0, 0, 1],\n",
    "\n",
    "    [0, 8, 0,  4, 0, 0,  1, 0, 0],\n",
    "    [0, 6, 3,  0, 0, 0,  0, 8, 0],\n",
    "    [0, 0, 0,  6, 0, 8,  0, 0, 0]\n",
    "]\n",
    "```\n",
    "\n",
    "The goal is to replace the 0s with acceptable numbers. How to obtain a solution?"
   ]
  },
  {
   "cell_type": "code",
   "execution_count": 4,
   "metadata": {
    "colab": {
     "base_uri": "https://localhost:8080/"
    },
    "id": "n1PoEUaK1qJn",
    "outputId": "5010a158-7f09-4b29-82b9-6bf2f974d556"
   },
   "outputs": [
    {
     "name": "stdout",
     "output_type": "stream",
     "text": [
      "[[3 7 8 2 6 5 9 1 4]\n",
      " [5 9 6 8 1 4 7 3 2]\n",
      " [1 4 2 7 3 9 5 6 8]\n",
      " [2 1 7 3 8 6 4 5 9]\n",
      " [8 5 4 9 7 1 6 2 3]\n",
      " [6 3 9 5 4 2 8 7 1]\n",
      " [7 8 5 4 2 3 1 9 6]\n",
      " [4 6 3 1 9 7 2 8 5]\n",
      " [9 2 1 6 5 8 3 4 7]]\n"
     ]
    }
   ],
   "source": [
    "# Data\n",
    "input_grid = [  # 0 represents empty cells\n",
    "    [0, 0, 0,  2, 0, 5,  0, 0, 0],\n",
    "    [0, 9, 0,  0, 0, 0,  7, 3, 0],\n",
    "    [0, 0, 2,  0, 0, 9,  0, 6, 0],\n",
    "\n",
    "    [2, 0, 0,  0, 0, 0,  4, 0, 9],\n",
    "    [0, 0, 0,  0, 7, 0,  0, 0, 0],\n",
    "    [6, 0, 9,  0, 0, 0,  0, 0, 1],\n",
    "\n",
    "    [0, 8, 0,  4, 0, 0,  1, 0, 0],\n",
    "    [0, 6, 3,  0, 0, 0,  0, 8, 0],\n",
    "    [0, 0, 0,  6, 0, 8,  0, 0, 0]]\n",
    "given = np.array(input_grid)  # numpy array for easy indexing\n",
    "\n",
    "# Decision Variables\n",
    "grid = cp.intvar(1, 9, shape=given.shape)  # Each cell can have a value between 1 and 9\n",
    "\n",
    "# Model\n",
    "model = cp.Model()\n",
    "\n",
    "# Fix the non-zero cells to the given values\n",
    "model.add(grid[given != 0] == given[given != 0])  # numpy's indexing\n",
    "\n",
    "# No duplicate number in a row, for all rows\n",
    "model.add([cp.AllDifferent(row) for row in grid])\n",
    "# No duplicate number in a column, for all columns\n",
    "model.add([cp.AllDifferent(col) for col in grid.T])  # numpy's transpose\n",
    "\n",
    "# No duplicate number in a block, for all blocks\n",
    "for i in range(0, 9, 3):\n",
    "    for j in range(0, 9, 3):\n",
    "        model.add(cp.AllDifferent(grid[i:i+3, j:j+3]))\n",
    "\n",
    "# For block constraints: Alternative way with list comprehension\n",
    "model.add([cp.AllDifferent(grid[i:i+3, j:j+3]) for i in range(0, 9, 3) for j in range(0, 9, 3)])\n",
    "\n",
    "# Solve\n",
    "model.solve()\n",
    "\n",
    "# Print solution\n",
    "print(grid.value())"
   ]
  },
  {
   "cell_type": "markdown",
   "metadata": {
    "id": "4DTL7joVvEPY"
   },
   "source": [
    "### **Part 2: Exercises**"
   ]
  },
  {
   "cell_type": "markdown",
   "metadata": {
    "id": "eF9-JSORo7iP"
   },
   "source": [
    "#### **1. Five Floors Problem**\n",
    "\n",
    "Baker, Cooper, Fletcher, Miller, and Smith live on the first five floors of an apartment house.\n",
    "Baker does not live on the fifth floor.\n",
    "Cooper does not live on the first floor.\n",
    "Fletcher does not live on either the fifth or the first floor.\n",
    "Miller lives on a higher floor than does Cooper.\n",
    "Smith does not live on a floor adjacent to Fletcher's.\n",
    "Fletcher does not live on a floor adjacent to Cooper's.\n",
    "They all live on different floors.\n",
    "Find the floors where these people live."
   ]
  },
  {
   "cell_type": "code",
   "execution_count": 5,
   "metadata": {
    "colab": {
     "base_uri": "https://localhost:8080/"
    },
    "id": "nc5oUhIYoaup",
    "outputId": "afd74f43-8d94-4e69-9d00-096f8f826cad"
   },
   "outputs": [
    {
     "name": "stdout",
     "output_type": "stream",
     "text": [
      "Baker lives on floor 3\n",
      "Cooper lives on floor 2\n",
      "Fletcher lives on floor 4\n",
      "Miller lives on floor 5\n",
      "Smith lives on floor 1\n"
     ]
    }
   ],
   "source": [
    "# Decision Variables\n",
    "lb = 1  # lower bound\n",
    "ub = 5  # upper bound\n",
    "\n",
    "B = cp.intvar(lb, ub)  # Baker\n",
    "C = cp.intvar(lb, ub)  # Cooper\n",
    "F = cp.intvar(lb, ub)  # Fletcher\n",
    "M = cp.intvar(lb, ub)  # Miller\n",
    "S = cp.intvar(lb, ub)  # Smith\n",
    "\n",
    "# Since all the decision variables have the same domain, we can also use a more convenient way to define them:\n",
    "B, C, F, M, S = floors = cp.intvar(lb, ub, shape=5)\n",
    "\n",
    "# Model\n",
    "model = cp.Model()\n",
    "\n",
    "# Constraints\n",
    "model.add(B != 5)  # Baker does not live on the fifth floor\n",
    "model.add(C != 1)  # Cooper does not live on the first floor\n",
    "model.add((F != 5) & (F != 1))  # Fletcher does not live on either the fifth or the first floor\n",
    "model.add(M > C)  # Miller lives on a higher floor than does Cooper\n",
    "model.add(cp.abs(S - F) != 1)  # Smith does not live on a floor adjacent to Fletcher\n",
    "model.add(cp.abs(F - C) != 1)  # Fletcher does not live on a floor adjacent to Cooper\n",
    "model.add(cp.AllDifferent([B, C, F, M, S]))  # They all live on different floors\n",
    "\n",
    "# Solve\n",
    "model.solve()\n",
    "\n",
    "# Print solution\n",
    "print(f'Baker lives on floor {B.value()}')\n",
    "print(f'Cooper lives on floor {C.value()}')\n",
    "print(f'Fletcher lives on floor {F.value()}')\n",
    "print(f'Miller lives on floor {M.value()}')\n",
    "print(f'Smith lives on floor {S.value()}')"
   ]
  },
  {
   "cell_type": "markdown",
   "metadata": {
    "id": "xq0mWaKQ2E-y"
   },
   "source": [
    "#### **2. Bank Card**\n",
    "\n",
    "My bank card has a 4 digit PIN, abcd. I use the following facts to help me remember it:\n",
    "\n",
    "- no two digits are the same\n",
    "- the 2-digit number cd is 3 times the 2-digit number ab\n",
    "- the 2-digit number da is 2 times the 2-digit number bc\n",
    "\n",
    "What is my PIN?"
   ]
  },
  {
   "cell_type": "code",
   "execution_count": 6,
   "metadata": {
    "colab": {
     "base_uri": "https://localhost:8080/"
    },
    "id": "67fUjx6F3SAL",
    "outputId": "c015249d-675e-4f23-98c8-a2a6725c580e"
   },
   "outputs": [
    {
     "name": "stdout",
     "output_type": "stream",
     "text": [
      "PIN: 2163\n"
     ]
    }
   ],
   "source": [
    "# Decision Variables\n",
    "lb, ub = 0, 9  # lower bound and upper bound\n",
    "a, b, c, d = digits = cp.intvar(lb, ub, shape=4)  # The four digits of the PIN\n",
    "\n",
    "# Model\n",
    "model = cp.Model()\n",
    "\n",
    "# Constraints\n",
    "\n",
    "model.add(cp.AllDifferent([a, b, c, d]))  # no two digits are the same\n",
    "model.add(10 * c + d == 3 * (10 * a + b))  # cd is 3 times ab\n",
    "model.add(10 * d + a == 2 * (10 * b + c))  # da is 2 times bc\n",
    "\n",
    "# Solve\n",
    "model.solve()\n",
    "\n",
    "# Print solution\n",
    "print(f\"PIN: {a.value()}{b.value()}{c.value()}{d.value()}\")"
   ]
  },
  {
   "cell_type": "markdown",
   "metadata": {
    "id": "HvOVGuFqDSR1"
   },
   "source": [
    "#### **3. Coin Change**\n",
    "\n",
    "Alice needs to give Bob exactly 1.99 euros in change. She has six different types of coins with the following values: 1, 2, 5, 10, 25, and 50 cents. However, she only has a limited number of each coin type: 20 coins of 1 cent, 10 coins of 2 cents, 15 coins of 5 cents, 8 coins of 10 cents, 4 coins of 25 cents, and 2 coins of 50 cents.\n",
    "\n",
    "How can Alice give Bob the exact change using the **fewest number of coins possible** while respecting the availability of each coin type?"
   ]
  },
  {
   "cell_type": "code",
   "execution_count": 7,
   "metadata": {
    "colab": {
     "base_uri": "https://localhost:8080/"
    },
    "id": "6OPfImfQDiEV",
    "outputId": "ea17748b-85b9-40aa-a4c7-90e25536900e"
   },
   "outputs": [
    {
     "name": "stdout",
     "output_type": "stream",
     "text": [
      "Number of 1 cent(s) coins given to Bob: 0\n",
      "Number of 2 cent(s) coins given to Bob: 2\n",
      "Number of 5 cent(s) coins given to Bob: 0\n",
      "Number of 10 cent(s) coins given to Bob: 2\n",
      "Number of 25 cent(s) coins given to Bob: 3\n",
      "Number of 50 cent(s) coins given to Bob: 2\n"
     ]
    }
   ],
   "source": [
    "# Parameters of the problem\n",
    "amount = 199  # in cents\n",
    "coin_types = [1, 2, 5, 10, 25, 50]\n",
    "available_coins = [20, 10, 15, 8, 4, 2]\n",
    "num_coins = len(coin_types)\n",
    "\n",
    "# Decision Variables\n",
    "coin_counts = cp.intvar(0, max(available_coins), shape=num_coins)  # number of coins of each type to give to Bob\n",
    "\n",
    "# Model\n",
    "model = cp.Model()\n",
    "\n",
    "# Constraints\n",
    "\n",
    "# The sum of the coins given to Bob must be equal to the amount of money to give him\n",
    "model.add(sum(coin_counts[i] * coin_types[i] for i in range(num_coins)) == amount)\n",
    "\n",
    "# The number of each type of coin given to Bob must not exceed the available coins\n",
    "for i in range(num_coins):\n",
    "    model.add(coin_counts[i] <= available_coins[i])\n",
    "\n",
    "# Objective: Minimize the total number of coins given to Bob\n",
    "model.minimize(sum(coin_counts))\n",
    "\n",
    "# Solve\n",
    "model.solve()\n",
    "\n",
    "# Print solution\n",
    "for i in range(num_coins):\n",
    "    print(f\"Number of {coin_types[i]} cent(s) coins given to Bob: {coin_counts[i].value()}\")"
   ]
  },
  {
   "cell_type": "markdown",
   "metadata": {
    "id": "uF9JlRVw5mae"
   },
   "source": [
    "#### **4. Magic Square**\n",
    "\n",
    "A magic square is an $n \\times n$ grid such that each cell contains a different integer from 1 to $n^2$ and the sum of the integers in each row, column and diagonal is equal.\n",
    "Find a magic square for any size $n$, knowing that the sum of each row, column and diagonal has to be equal to $n(n^2 + 1)/2$ (an integer: div\n",
    "operator). Remember there is no magic square for size 2."
   ]
  },
  {
   "cell_type": "markdown",
   "metadata": {
    "id": "2wGkkey2en4a"
   },
   "source": [
    "<details>\n",
    "  <summary>Click to reveal hint</summary>\n",
    "  \n",
    "```\n",
    "\"\"\"\n",
    "An example to show how to use indexing for diagonals in matrices.\n",
    "\n",
    "Suppose that we have a grid of integers, and we require every number in the main\n",
    "diagonal to be different, and also every number in the secondary diagonal to be\n",
    "different.\n",
    "\"\"\"\n",
    "\n",
    "# Parameters\n",
    "n = 50\n",
    "\n",
    "# Decision Variables\n",
    "grid = cp.intvar(0, n, shape=(n, n))\n",
    "\n",
    "# Constraints\n",
    "model = cp.Model()\n",
    "\n",
    "model += cp.AllDifferent(grid[i, i] for i in range(n))  # Every number in the main diagonal is different\n",
    "model += cp.AllDifferent(grid[i, n - 1 - i] for i in range(50))  # Every number in the secondary diagonal is different\n",
    "\n",
    "# Solve\n",
    "model.solve()\n",
    "```\n",
    "  \n",
    "</details>"
   ]
  },
  {
   "cell_type": "code",
   "execution_count": 8,
   "metadata": {
    "colab": {
     "base_uri": "https://localhost:8080/"
    },
    "id": "aJfOEvkR5maj",
    "outputId": "99b539ac-25a5-47ac-9ff7-3b03259dae7d"
   },
   "outputs": [
    {
     "name": "stdout",
     "output_type": "stream",
     "text": [
      "25 12  1  3 24 \n",
      " 2 16 20 14 13 \n",
      "23  6  9 22  5 \n",
      " 7 10 18 11 19 \n",
      " 8 21 17 15  4 \n"
     ]
    }
   ],
   "source": [
    "def magic_square(n):\n",
    "\n",
    "  assert n != 2, \"Magic square is not defined for size 2\"\n",
    "\n",
    "  magic_sum = n * (n**2 + 1) // 2  # sum of each row, column and diagonal\n",
    "\n",
    "  # Decision Variables\n",
    "  square = cp.intvar(1, n ** 2, shape=(n, n))  # the magic square\n",
    "\n",
    "  # Model\n",
    "  model = cp.Model()\n",
    "\n",
    "  # Constraints\n",
    "\n",
    "  # All numbers in the magic square must be different\n",
    "  model.add(cp.AllDifferent(square))\n",
    "\n",
    "  # The sum of the numbers in each row must be equal to the magic sum\n",
    "  for i in range(n):\n",
    "    model.add(sum(square[i, :]) == magic_sum)\n",
    "\n",
    "  # The sum of the numbers in each column must be equal to the magic sum\n",
    "  for j in range(n):\n",
    "    model.add(sum(square[:, j]) == magic_sum)\n",
    "\n",
    "  # The sum of the numbers in the main diagonal must be equal to the magic sum\n",
    "  model.add(sum(square[i, i] for i in range(n)) == magic_sum)\n",
    "\n",
    "  # The sum of the numbers in the other diagonal must be equal to the magic sum\n",
    "  model.add(sum(square[i, n - 1 - i] for i in range(n)) == magic_sum)\n",
    "\n",
    "  # Solve\n",
    "  model.solve()\n",
    "\n",
    "  # Print solution\n",
    "  for i in range(n):\n",
    "    for j in range(n):\n",
    "      print(f\"{square[i, j].value():2}\", end=\" \")\n",
    "    print()\n",
    "\n",
    "\n",
    "# Test\n",
    "magic_square(5)"
   ]
  },
  {
   "cell_type": "markdown",
   "metadata": {
    "id": "4YekhckEdFdr"
   },
   "source": [
    "#### **5. Movie Scheduling**:\n",
    "\n",
    "Consider the following scheduling problem. Imagine you are a highly-in-\n",
    "demand actor, who has been presented with offers to star in n different movie\n",
    "projects under development. Each offer comes specified with the first and last day of filming. To take the job, you must commit to being available throughout this entire period. Thus, you cannot simultaneously accept two jobs whose intervals overlap.\n",
    "For an artist such as yourself, the criteria for job acceptance is clear: you want to make as much money as possible. Because each of these films pays the same fee per film, this implies you seek the largest possible set of jobs (intervals) such that no two of them conflict with each other.\n",
    "\n",
    "Here is the list of movies along with their first and last day of filming:\n",
    "```\n",
    "movies = [  # title, start, end\n",
    "    [\"Tarjan of the Jungle\", 4, 13],\n",
    "    [\"The Four Volume Problem\", 17, 27],\n",
    "    [\"The President's Algorist\", 1, 10],\n",
    "    [\"Steiner's Tree\", 12, 18],\n",
    "    [\"Process Terminated\", 23, 30],\n",
    "    [\"Halting State\", 9, 16],\n",
    "    [\"Programming Challenges\", 19, 25],\n",
    "    [\"Discrete Mathematics\", 2, 7],\n",
    "    [\"Calculated Bets\", 26, 31]\n",
    "]\n",
    "```\n",
    "\n",
    "Which movies would you choose to maximize your income?"
   ]
  },
  {
   "cell_type": "code",
   "execution_count": 9,
   "metadata": {
    "colab": {
     "base_uri": "https://localhost:8080/"
    },
    "id": "t0s67RLmdIlx",
    "outputId": "e433e61e-6ccc-4fe7-bee2-e9f34fd681c8"
   },
   "outputs": [
    {
     "name": "stdout",
     "output_type": "stream",
     "text": [
      "Selected movies:\n",
      "\n",
      "Halting State\n",
      "Programming Challenges\n",
      "Discrete Mathematics\n",
      "Calculated Bets\n"
     ]
    }
   ],
   "source": [
    "# Data\n",
    "movies = [  # title, start, end\n",
    "    [\"Tarjan of the Jungle\", 4, 13],\n",
    "    [\"The Four Volume Problem\", 17, 27],\n",
    "    [\"The President's Algorist\", 1, 10],\n",
    "    [\"Steiner's Tree\", 12, 18],\n",
    "    [\"Process Terminated\", 23, 30],\n",
    "    [\"Halting State\", 9, 16],\n",
    "    [\"Programming Challenges\", 19, 25],\n",
    "    [\"Discrete Mathematics\", 2, 7],\n",
    "    [\"Calculated Bets\", 26, 31]\n",
    "]\n",
    "num_movies = len(movies)\n",
    "\n",
    "# Decision Variables\n",
    "selected_movies = cp.boolvar(shape=num_movies)  # 1 if the movie is selected, 0 otherwise\n",
    "\n",
    "# Model\n",
    "model = cp.Model()\n",
    "\n",
    "# Constraints\n",
    "\n",
    "# Add constraint for non-overlapping movie schedules\n",
    "for i in range(num_movies):\n",
    "    for j in range(num_movies):\n",
    "        # Check if the intervals overlap for each pair of movies\n",
    "        if (i != j  # Different movies\n",
    "                and movies[i][2] > movies[j][1]  # Movie i ends after movie j starts\n",
    "                and movies[j][2] > movies[i][1]  # Movie j ends after movie i starts\n",
    "        ):\n",
    "            # Then, the movies cannot be selected together\n",
    "            model.add(selected_movies[i] + selected_movies[j] <= 1)\n",
    "\n",
    "\n",
    "# Objective: Maximize the number of selected movies\n",
    "model.maximize(sum(selected_movies))\n",
    "\n",
    "# Solve\n",
    "model.solve()\n",
    "\n",
    "# Print solution\n",
    "print(\"Selected movies:\\n\")\n",
    "for i in range(num_movies):\n",
    "    if selected_movies[i].value():\n",
    "        print(movies[i][0])"
   ]
  },
  {
   "cell_type": "markdown",
   "metadata": {
    "id": "omVSO5gYAkM3"
   },
   "source": [
    "#### **6. Robbery**\n",
    "\n",
    "Following a robbery, an inspector interviewed six suspects. The getaway car had been barely big enough to hold two, so she reckoned that at least four of them were innocent. She also supposed that the innocent ones would tell the truth, while the guilty one or ones would lie. What they actually said was:\n",
    "- ARTIE: \"It wasn't me.\"\n",
    "- BILL: \"Crackitt was in it up to his neck.\"\n",
    "- CRACKITT: \"No I wasn't.\"\n",
    "- DODGY: \"If Crackitt did it, Bill did it with him.\"\n",
    "- EDGY: \"Nobody did it alone.\"\n",
    "- FINGERS: \"It was Artie and Dodgy together.\"\n",
    "\n",
    "Who is guilty?"
   ]
  },
  {
   "cell_type": "markdown",
   "metadata": {
    "id": "qSa_3_2nl7MH"
   },
   "source": [
    "<details>\n",
    "  <summary>Click to reveal hint</summary>\n",
    "\n",
    "  **Logic Truth Table:**\n",
    "  \n",
    "  | p     | q     | ¬p   | p ∧ q | p ∨ q | p → q | p ↔ q |\n",
    "  |-------|-------|------|-------|-------|-------|-------|\n",
    "  | True  | True  | False| True  | True  | True  | True  |\n",
    "  | True  | False | False| False | True  | False | False |\n",
    "  | False | True  | True | False | True  | True  | False |\n",
    "  | False | False | True | False | False | True  | True  |\n",
    "\n",
    "  **Explanation of Symbols:**\n",
    "  - ¬p: Negation (NOT p)\n",
    "  - p ∧ q: Conjunction (AND)\n",
    "  - p ∨ q: Disjunction (OR)\n",
    "  - p → q: Implication (If p then q)\n",
    "  - p ↔ q: Biconditional (p if and only if q)\n",
    "\n",
    "</details>"
   ]
  },
  {
   "cell_type": "code",
   "execution_count": 10,
   "metadata": {
    "colab": {
     "base_uri": "https://localhost:8080/"
    },
    "id": "7cd5OMDL8IH8",
    "outputId": "618cbf5a-517c-4eab-99b3-1f2ec249f8e7"
   },
   "outputs": [
    {
     "name": "stdout",
     "output_type": "stream",
     "text": [
      "The guilty suspect(s) is/are:\n",
      "Bill\n",
      "Fingers\n"
     ]
    }
   ],
   "source": [
    "# Decision Variables for each suspect representing if they are guilty\n",
    "artie = cp.boolvar(name=\"Artie\")\n",
    "bill = cp.boolvar(name=\"Bill\")\n",
    "crackitt = cp.boolvar(name=\"Crackitt\")\n",
    "dodgy = cp.boolvar(name=\"Dodgy\")\n",
    "edgy = cp.boolvar(name=\"Edgy\")\n",
    "fingers = cp.boolvar(name=\"Fingers\")\n",
    "suspects = [artie, bill, crackitt, dodgy, edgy, fingers]\n",
    "\n",
    "# Model\n",
    "model = cp.Model()\n",
    "\n",
    "# Constraints\n",
    "\n",
    "# At most two are guilty because the getaway car was small\n",
    "model.add(sum(suspects) <= 2)\n",
    "\n",
    "# Statement Constraints; if the suspect is guilty, they are lying, so their statement is false\n",
    "\n",
    "# Artie: \"It wasn't me.\"\n",
    "artie_statement = ~artie\n",
    "model.add(artie == ~artie_statement)\n",
    "\n",
    "# Bill: \"Crackitt was in it up to his neck.\"\n",
    "bill_statement = crackitt\n",
    "model.add(bill == ~bill_statement)\n",
    "\n",
    "# Crackitt: \"No I wasn't.\"\n",
    "crackitt_statement = ~crackitt\n",
    "model.add(crackitt == ~crackitt_statement)\n",
    "\n",
    "# Dodgy: \"If Crackitt did it, Bill did it with him.\"\n",
    "dodgy_statement = crackitt.implies(bill)\n",
    "model.add(dodgy == ~dodgy_statement)\n",
    "\n",
    "# Edgy: \"Nobody did it alone.\"\n",
    "edgy_statement = sum(suspects) > 1\n",
    "model.add(edgy == ~edgy_statement)\n",
    "\n",
    "# Fingers: \"That’s right: it was Artie and Dodgy together.\"\n",
    "fingers_statement = artie & dodgy\n",
    "model.add(fingers == ~fingers_statement)\n",
    "\n",
    "# Solve\n",
    "model.solve()\n",
    "\n",
    "# Print solution\n",
    "print(\"The guilty suspect(s) is/are:\")\n",
    "for i in range(6):\n",
    "    if suspects[i].value():\n",
    "        print(f\"{suspects[i].name}\")"
   ]
  },
  {
   "cell_type": "markdown",
   "metadata": {
    "id": "k3Ti4nFtZ54z"
   },
   "source": [
    "#### **Extra Exercises**\n",
    "\n",
    "> The following exercises are **extra practice** problems. They will **not be covered** during the regular exercise sessions. However, they offer a great opportunity to practice more. You are encouraged to try them at home to challenge yourself further!\n"
   ]
  },
  {
   "cell_type": "markdown",
   "metadata": {
    "id": "jtZTwRk_U_jf"
   },
   "source": [
    "##### **Extra 1: Send More Money**\n",
    "\n",
    "The \"Send More Money\" puzzle is a classic cryptarithmetic problem where each letter represents a unique digit. The goal is to assign digits to the letters such that the following equation holds true:\n",
    "```\n",
    "   SEND\n",
    " + MORE\n",
    " ------\n",
    "  MONEY\n",
    "```\n",
    "Each letter must be assigned a unique digit from 0 to 9, and the first letter of each word cannot be zero. What is the digit assigned to each letter?"
   ]
  },
  {
   "cell_type": "code",
   "execution_count": 11,
   "metadata": {
    "colab": {
     "base_uri": "https://localhost:8080/"
    },
    "id": "7XWszW91U_Ll",
    "outputId": "abe0c94f-6c16-4865-f195-efca1ee5a848"
   },
   "outputs": [
    {
     "name": "stdout",
     "output_type": "stream",
     "text": [
      "s: 9\n",
      "e: 5\n",
      "n: 6\n",
      "d: 7\n",
      "m: 1\n",
      "o: 0\n",
      "r: 8\n",
      "y: 2\n"
     ]
    }
   ],
   "source": [
    "# Decision Variables\n",
    "s, e, n, d, m, o, r, y = cp.intvar(0, 9, shape=8)\n",
    "\n",
    "# Model\n",
    "model = cp.Model(\n",
    "    cp.AllDifferent([s, e, n, d, m, o, r, y]),\n",
    "\n",
    "    (sum([s, e, n, d] * np.array([1000, 100, 10, 1])) \\\n",
    "     + sum([m, o, r, e] * np.array([1000, 100, 10, 1])) \\\n",
    "     == sum([m, o, n, e, y] * np.array([10000, 1000, 100, 10, 1]))),\n",
    "\n",
    "    s > 0,\n",
    "    m > 0,\n",
    ")\n",
    "\n",
    "# Solve\n",
    "model.solve()\n",
    "\n",
    "# Print solution\n",
    "for letter, digit in zip(\"sendmory\", [s.value(), e.value(), n.value(), d.value(), m.value(), o.value(), r.value(), y.value()]):\n",
    "    print(f\"{letter}: {digit}\")"
   ]
  },
  {
   "cell_type": "markdown",
   "metadata": {
    "id": "GW2GNlpDTlTK"
   },
   "source": [
    "##### **Extra 2: Minesweeper**\n",
    "\n",
    "Numbers and mines are randomly distributed in a given board.\n",
    "The number on a cell shows the exact number of mines around this cell in all 8 directions: top, top-right, right, bottom-right, bottom, bottom-left, left, top-left.\n",
    "\n",
    "The task is to determine which cells contain mines, the initial board is given below."
   ]
  },
  {
   "cell_type": "markdown",
   "metadata": {
    "id": "7AYiTeJaOWDN"
   },
   "source": [
    "<details>\n",
    "  <summary>Click to reveal hint</summary>\n",
    "\n",
    "```\n",
    "\"\"\"\n",
    "An example to show how to find neighbors (top, right, bottom, left) of a cell in a grid.\n",
    "\"\"\"\n",
    "\n",
    "n = 4  # 4x4 grid\n",
    "grid = cp.boolvar(shape=(n, n))\n",
    "\n",
    "model = cp.Model()\n",
    "\n",
    "for i in range(n):\n",
    "    for j in range(n):\n",
    "        # Collect neighbors for each cell\n",
    "        neighbors = []\n",
    "        for a, b in [(0, 1), (0, -1), (1, 0), (-1, 0)]:\n",
    "            if 0 <= i + a < n and 0 <= j + b < n:\n",
    "                neighbors.append(grid[i + a, j + b])\n",
    "\n",
    "        print(f\"Neighbors of cell {grid[i, j]}: {neighbors}\")\n",
    "\n",
    "print(\"The grid:\")\n",
    "print(grid)\n",
    "```\n",
    "\n",
    "</details>"
   ]
  },
  {
   "cell_type": "code",
   "execution_count": 12,
   "metadata": {
    "colab": {
     "base_uri": "https://localhost:8080/"
    },
    "id": "S1XzA3lHYnAO",
    "outputId": "0c489229-a82d-42fa-a6e8-a1f4e14eabb4"
   },
   "outputs": [
    {
     "name": "stdout",
     "output_type": "stream",
     "text": [
      "0 0 1 0 0 1 0 0 \n",
      "1 1 0 0 1 0 1 0 \n",
      "0 0 1 1 0 1 0 1 \n",
      "1 0 1 0 1 1 0 0 \n",
      "0 1 1 1 0 0 1 0 \n",
      "0 0 0 0 1 1 0 1 \n",
      "0 0 1 0 1 0 1 0 \n",
      "0 0 0 1 0 0 1 0 \n"
     ]
    }
   ],
   "source": [
    "# Data\n",
    "X = -1\n",
    "game = np.array([  # 0-8: number of mines around, -1: not opened\n",
    "    [2, 3, X, 2, 2, X, 2, 1],\n",
    "    [X, X, 4, X, X, 4, X, 2],\n",
    "    [X, X, X, X, X, X, 4, X],\n",
    "    [X, 5, X, 6, X, X, X, 2],\n",
    "    [2, X, X, X, 5, 5, X, 2],\n",
    "    [1, 3, 4, X, X, X, 4, X],\n",
    "    [0, 1, X, 4, X, X, X, 3],\n",
    "    [0, 1, 2, X, 2, 3, X, 2]\n",
    "])\n",
    "rows, cols = game.shape\n",
    "S = [-1, 0, 1]  # for the neighbors of a cell\n",
    "\n",
    "\n",
    "# Decision Variables\n",
    "mines = cp.boolvar(shape=game.shape)  # True: mine, False: not mine\n",
    "\n",
    "# Model\n",
    "model = cp.Model()\n",
    "for (r, c), val in np.ndenumerate(game):\n",
    "    if val != X:\n",
    "        # This cell cannot be a mine\n",
    "        model.add(mines[r, c] == 0)\n",
    "        # Count neighbors\n",
    "        model.add(sum(mines[r + a, c + b]\n",
    "                      for a in S for b in S\n",
    "                      if 0 <= r + a < rows and 0 <= c + b < cols and (a, b) != (0, 0))\n",
    "                  == val)\n",
    "\n",
    "# Solve\n",
    "model.solve()\n",
    "\n",
    "# Print solution\n",
    "for i in range(rows):\n",
    "    for j in range(cols):\n",
    "        print(f\"{int(mines[i, j].value())}\", end=\" \")\n",
    "    print()"
   ]
  },
  {
   "cell_type": "code",
   "execution_count": null,
   "metadata": {
    "id": "fry7oiWi4jps"
   },
   "outputs": [],
   "source": []
  }
 ],
 "metadata": {
  "colab": {
   "provenance": [],
   "toc_visible": true
  },
  "kernelspec": {
   "display_name": "Python (conda base)",
   "language": "python",
   "name": "base"
  },
  "language_info": {
   "codemirror_mode": {
    "name": "ipython",
    "version": 3
   },
   "file_extension": ".py",
   "mimetype": "text/x-python",
   "name": "python",
   "nbconvert_exporter": "python",
   "pygments_lexer": "ipython3",
   "version": "3.13.2"
  }
 },
 "nbformat": 4,
 "nbformat_minor": 1
}
