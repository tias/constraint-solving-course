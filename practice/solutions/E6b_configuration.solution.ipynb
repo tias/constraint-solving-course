{
 "cells": [
  {
   "cell_type": "code",
   "execution_count": 1,
   "metadata": {
    "id": "uh25ahIonnRt"
   },
   "outputs": [],
   "source": [
    "!pip install cpmpy numpy pychoco gurobipy networkx colorama tqdm hyperopt --quiet\n",
    "import cpmpy as cp\n",
    "import numpy as np"
   ]
  },
  {
   "cell_type": "markdown",
   "metadata": {
    "id": "vbVZuVHxnnRu"
   },
   "source": [
    "(You can ignore google* and tensor* dependency errors on Google Colab.)"
   ]
  },
  {
   "cell_type": "markdown",
   "metadata": {
    "id": "3iOdTeTnnnRu"
   },
   "source": [
    "## **Session 5 B: CP search strategies and algorithm configuration**"
   ]
  },
  {
   "cell_type": "markdown",
   "metadata": {
    "id": "DkENXUxrnnRu"
   },
   "source": [
    "This is the second part (B) to the fifth exercise session of Declarative Problem Solving Paradigms in AI.\n",
    "\n",
    "This notebook covers part B:\n",
    "- **A**: Solving technologies and encodings\n",
    "- **B**: CP search strategies and algorithm configuration\n",
    "\n",
    "**Useful Resources:**\n",
    "* CPMpy summary sheet: https://cpmpy.readthedocs.io/en/latest/summary.html\n",
    "* CPMpy modeling documentation: https://cpmpy.readthedocs.io/en/latest/modeling.html\n",
    "* CPMpy full documentation: https://cpmpy.readthedocs.io/en/latest/index.html\n",
    "* List of supported solvers / solving technologies: https://cpmpy.readthedocs.io/en/latest/#supported-solvers\n",
    "* Documentation on hyperparameter configuration: https://cpmpy.readthedocs.io/en/latest/modeling.html#hyperparameter-search-across-different-parameters"
   ]
  },
  {
   "cell_type": "markdown",
   "metadata": {
    "id": "55QmCd0hnnR3"
   },
   "source": [
    "### **Section 1: Algorithm Selection**"
   ]
  },
  {
   "cell_type": "markdown",
   "metadata": {
    "id": "Oy3Jcq1snnR3"
   },
   "source": [
    "Depending on the (type of) problem that you're trying to solve, one solver backend / solving technology might be more suited than the other. It is always a good idea to experiment a bit as to see what works best, before settling on one particular backend (and possibly start making optimisations tailored specifically towards that one solver)."
   ]
  },
  {
   "cell_type": "markdown",
   "metadata": {
    "id": "ieCNAbxJnnR3"
   },
   "source": [
    "Below is a collection of models you've worked on throughout the previous exercises:\n",
    "\n",
    "- Task allocation problem\n",
    "- Team assignment problem\n",
    "- Pizza voucher problem\n",
    "\n",
    "Simply run the 3 cells and continue below..."
   ]
  },
  {
   "cell_type": "code",
   "execution_count": 2,
   "metadata": {
    "id": "srhrttR2nnR3"
   },
   "outputs": [],
   "source": [
    "def task_allocation():\n",
    "    \"\"\"\n",
    "    See exercise session 2\n",
    "    \"\"\"\n",
    "\n",
    "    # Parameters of the problem\n",
    "    n_tasks = 6        # Number of tasks\n",
    "    n_workers = 6      # Number of workers\n",
    "\n",
    "    # Decision Variables\n",
    "    task_assignment = None # task_assignment[j] == i iff worker i is assigned to task j\n",
    "    task_assignment = cp.intvar(0, n_workers-1, shape=n_tasks, name=\"task_assignment\") # task_assignment[j] = the worker assigned to task j\n",
    "\n",
    "    # Model\n",
    "    model = cp.Model()\n",
    "\n",
    "    # Constraints\n",
    "    model += []\n",
    "    # 1) Each task is assigned to exactly one worker.\n",
    "    # -> no need to model this constraint, since the chosen encoding for 'task_assignment'\n",
    "    #    will already enforce this (each task j can only have one worker task_assignment[j] as value)\n",
    "    # 2) Allow each worker to maximally have one task assigned = no to tasks can have the same worker\n",
    "    model.add(cp.AllDifferent(task_assignment))\n",
    "\n",
    "    # Conditional implications\n",
    "    model.add((task_assignment[0] == 0).implies(task_assignment[2] != 1)) # If worker 0 is assigned to task 0, worker 1 not on task 2\n",
    "    model.add((task_assignment[1] == 1).implies(task_assignment[0] == 2)) # If worker 1 is assigned to task 1, worker 2 must be assigned to task 0\n",
    "    model.add((task_assignment[2] == 2).implies(task_assignment[1] != 0)) # If worker 2 is assigned to task 2, worker 0 cannot be on task 1\n",
    "\n",
    "    return model\n"
   ]
  },
  {
   "cell_type": "code",
   "execution_count": 3,
   "metadata": {
    "id": "GKp9IrFNnnR3"
   },
   "outputs": [],
   "source": [
    "def team_skill_assignment():\n",
    "    \"\"\"\n",
    "    See exercise session 2\n",
    "    \"\"\"\n",
    "\n",
    "    # Parameters of the Problem\n",
    "    E = 25   # number of employees\n",
    "    P = 10   # number of projects\n",
    "    S = 10   # number of skills\n",
    "\n",
    "    np.random.seed(0)  # for reproducibility\n",
    "\n",
    "    # Skill matrix: employee_skills[e][s] is 1 if employee e has skill s, else 0\n",
    "    employee_skills = np.random.randint(0, 2, (E, S))\n",
    "\n",
    "    # Project skill requirements: project_skills[p][s] is 1 if project p requires skill s, else 0\n",
    "    project_skills = np.random.randint(0, 2, (P, S))\n",
    "\n",
    "    # Team size constraints\n",
    "    T_min = 2  # minimum number of employees in a team\n",
    "    T_max = 5  # maximum number of employees in a team\n",
    "\n",
    "    # Decision Variables\n",
    "    # - team_assign[p, e]: 1 if employee e is assigned to project p, else 0\n",
    "    team_assign = cp.boolvar(shape=(P, E), name=\"team_assign\")\n",
    "\n",
    "    # Model\n",
    "    model = cp.Model()\n",
    "\n",
    "    # Constraints\n",
    "    for p in range(P):\n",
    "        # 1) Each team should have between T_min and T_max employees\n",
    "        model.add(T_min <= cp.sum(team_assign[p, :]))\n",
    "        model.add(cp.sum(team_assign[p, :]) <= T_max)\n",
    "\n",
    "        for s in range(S):\n",
    "            # 2) Skill requirement for each project\n",
    "            if project_skills[p, s]: # if project p requires skill s\n",
    "                # (count the number of employees which have skill s and are assigned to team p)\n",
    "                model.add( cp.sum(team_assign[p, e] for e in range(E) if employee_skills[e, s]) > 0 )\n",
    "\n",
    "\n",
    "    # 3) Employees can only be assigned to at most one project\n",
    "    model.add( np.sum(team_assign, axis=0) <= 1 )\n",
    "\n",
    "    return model"
   ]
  },
  {
   "cell_type": "code",
   "execution_count": 4,
   "metadata": {
    "id": "Xz4lZpVdnnR3"
   },
   "outputs": [],
   "source": [
    "def pizza_voucher():\n",
    "    \"\"\"\n",
    "    See exercise session 3\n",
    "    \"\"\"\n",
    "\n",
    "    # Parameters of the problem\n",
    "    prices = [50, 60, 90, 70, 80, 100, 20, 30, 40, 10]  # prices of pizzas\n",
    "    vouchers = [\n",
    "        (1, 2), (2, 3), (1, 1), (0, 1), (2, 1),\n",
    "        (2, 2), (3, 3), (1, 0), (3, 2)]  # available vouchers\n",
    "\n",
    "    nPizzas = len(prices)\n",
    "    nVouchers = len(vouchers)\n",
    "\n",
    "    # Decision variables:\n",
    "    # what voucher is used for each pizza, negative means the pizza has to be paid,\n",
    "    # positive means it is free. 0 means no voucher is used\n",
    "    # take care, this means we are using 'prices' and 'vouchers' with indexes starting from 1, and not 0.\n",
    "    v = cp.intvar(-nVouchers, nVouchers, shape=nPizzas)\n",
    "\n",
    "    # define variables that keep track of how many free and paid pizza's each voucher has.\n",
    "    p = cp.intvar(0, nPizzas, shape=nVouchers)\n",
    "    f = cp.intvar(0, nPizzas, shape=nVouchers)\n",
    "\n",
    "    # model the constraints:\n",
    "    pizza_model = cp.Model()\n",
    "\n",
    "    # number of paid and free pizza's in f and p must correspond to the voucher data in v.\n",
    "    pizza_model.add([p[i] == cp.Count(v, -(i + 1)) for i in range(nVouchers)])\n",
    "    pizza_model.add([f[i] == cp.Count(v, i + 1) for i in range(nVouchers)])\n",
    "    # voucher can only have free pizza's on it if it has enough paid pizza's\n",
    "    pizza_model.add([(f[i] > 0).implies(p[i] == vouchers[i][0]) for i in range(nVouchers)])\n",
    "    # a voucher can not have too many free pizza's on it\n",
    "    pizza_model.add([f[i] <= vouchers[i][1] for i in range(nVouchers)])\n",
    "    # free pizza's must be cheaper than paid pizza's\n",
    "    pizza_model.add([(v[i] > 0).implies(v[i] != -v[j]) for i in range(nPizzas) for j in range(nPizzas) if\n",
    "                    prices[j] < prices[i]])\n",
    "\n",
    "    # minimize the total price\n",
    "    pizza_model.minimize(sum([(v[i] <= 0) * prices[i] for i in range(nPizzas)]))\n",
    "    return pizza_model"
   ]
  },
  {
   "cell_type": "markdown",
   "metadata": {
    "id": "z3Oy517rnnR3"
   },
   "source": [
    "Now write some code to test each of these problems on a set of solvers and print the resulting runtimes. You can get the runtime from a model/solver by using `.status().runtime`. To more clearly see the differences, you may manually fill in the below table (also possible on paper).\n",
    "\n",
    "| Problem | OR-Tools | Choco | Gurobi |\n",
    "| - | - | - | - |\n",
    "| Task allocation | ... | ... | ... |\n",
    "| Team skill assignment | ... | ... | ... |\n",
    "| Pizza voucher | ... | ... | ... |\n"
   ]
  },
  {
   "cell_type": "code",
   "execution_count": 5,
   "metadata": {
    "id": "UoIZE7RdnnR3"
   },
   "outputs": [
    {
     "name": "stdout",
     "output_type": "stream",
     "text": [
      "task_allocation ortools -- 0.010616805\n",
      "task_allocation choco -- 0.000274658203125\n"
     ]
    },
    {
     "name": "stderr",
     "output_type": "stream",
     "text": [
      "/home/tias/local/src/miniconda3/lib/python3.13/site-packages/cpmpy/solvers/gurobi.py:109: UserWarning: Problem encountered with Gurobi license: Unable to open Gurobi license file '/home/tias/local/src/gurobi912/linux64/../gurobi.lic'\n",
      "  warnings.warn(f\"Problem encountered with Gurobi license: {e}\")\n"
     ]
    },
    {
     "ename": "Exception",
     "evalue": "CPM_gurobi: A problem occured during license check. Make sure your license is activated!",
     "output_type": "error",
     "traceback": [
      "\u001b[31m---------------------------------------------------------------------------\u001b[39m",
      "\u001b[31mException\u001b[39m                                 Traceback (most recent call last)",
      "\u001b[36mCell\u001b[39m\u001b[36m \u001b[39m\u001b[32mIn[5]\u001b[39m\u001b[32m, line 43\u001b[39m\n\u001b[32m     37\u001b[39m solvers = [\u001b[33m\"\u001b[39m\u001b[33mortools\u001b[39m\u001b[33m\"\u001b[39m, \u001b[33m\"\u001b[39m\u001b[33mchoco\u001b[39m\u001b[33m\"\u001b[39m, \u001b[33m\"\u001b[39m\u001b[33mgurobi\u001b[39m\u001b[33m\"\u001b[39m]\n\u001b[32m     38\u001b[39m models = {\n\u001b[32m     39\u001b[39m     \u001b[33m\"\u001b[39m\u001b[33mtask_allocation\u001b[39m\u001b[33m\"\u001b[39m: task_allocation(),\n\u001b[32m     40\u001b[39m     \u001b[33m\"\u001b[39m\u001b[33mteam_skill_assignment\u001b[39m\u001b[33m\"\u001b[39m: team_skill_assignment(),\n\u001b[32m     41\u001b[39m     \u001b[33m\"\u001b[39m\u001b[33mpizza_voucher\u001b[39m\u001b[33m\"\u001b[39m: pizza_voucher(),\n\u001b[32m     42\u001b[39m     }\n\u001b[32m---> \u001b[39m\u001b[32m43\u001b[39m algorithm_selection(models, solvers)\n",
      "\u001b[36mCell\u001b[39m\u001b[36m \u001b[39m\u001b[32mIn[5]\u001b[39m\u001b[32m, line 31\u001b[39m, in \u001b[36malgorithm_selection\u001b[39m\u001b[34m(models, solvers)\u001b[39m\n\u001b[32m     25\u001b[39m \u001b[38;5;28;01mfor\u001b[39;00m model_name, model \u001b[38;5;129;01min\u001b[39;00m models.items():\n\u001b[32m     26\u001b[39m \n\u001b[32m     27\u001b[39m     \u001b[38;5;66;03m# Iterate over all solvers\u001b[39;00m\n\u001b[32m     28\u001b[39m     \u001b[38;5;28;01mfor\u001b[39;00m solver \u001b[38;5;129;01min\u001b[39;00m solvers:\n\u001b[32m     29\u001b[39m \n\u001b[32m     30\u001b[39m         \u001b[38;5;66;03m# Solve problem on solver\u001b[39;00m\n\u001b[32m---> \u001b[39m\u001b[32m31\u001b[39m         model.solve(solver=solver, time_limit=\u001b[32m30\u001b[39m)\n\u001b[32m     32\u001b[39m         \u001b[38;5;66;03m# Print for immediate feedback\u001b[39;00m\n\u001b[32m     33\u001b[39m         \u001b[38;5;28mprint\u001b[39m(model_name, solver, \u001b[33m\"\u001b[39m\u001b[33m--\u001b[39m\u001b[33m\"\u001b[39m, model.status().runtime, flush=\u001b[38;5;28;01mTrue\u001b[39;00m)\n",
      "\u001b[36mFile \u001b[39m\u001b[32m~/local/src/miniconda3/lib/python3.13/site-packages/cpmpy/model.py:193\u001b[39m, in \u001b[36mModel.solve\u001b[39m\u001b[34m(self, solver, time_limit, **kwargs)\u001b[39m\n\u001b[32m    191\u001b[39m     s = solver(\u001b[38;5;28mself\u001b[39m)\n\u001b[32m    192\u001b[39m \u001b[38;5;28;01melse\u001b[39;00m:\n\u001b[32m--> \u001b[39m\u001b[32m193\u001b[39m     s = SolverLookup.get(solver, \u001b[38;5;28mself\u001b[39m)\n\u001b[32m    195\u001b[39m \u001b[38;5;66;03m# call solver\u001b[39;00m\n\u001b[32m    196\u001b[39m ret = s.solve(time_limit=time_limit, **kwargs)\n",
      "\u001b[36mFile \u001b[39m\u001b[32m~/local/src/miniconda3/lib/python3.13/site-packages/cpmpy/solvers/utils.py:139\u001b[39m, in \u001b[36mSolverLookup.get\u001b[39m\u001b[34m(cls, name, model, **init_kwargs)\u001b[39m\n\u001b[32m    137\u001b[39m \u001b[38;5;28;01mif\u001b[39;00m name \u001b[38;5;129;01mis\u001b[39;00m \u001b[38;5;129;01mnot\u001b[39;00m \u001b[38;5;28;01mNone\u001b[39;00m \u001b[38;5;129;01mand\u001b[39;00m \u001b[33m'\u001b[39m\u001b[33m:\u001b[39m\u001b[33m'\u001b[39m \u001b[38;5;129;01min\u001b[39;00m name:\n\u001b[32m    138\u001b[39m     _,subname = name.split(\u001b[33m'\u001b[39m\u001b[33m:\u001b[39m\u001b[33m'\u001b[39m,maxsplit=\u001b[32m1\u001b[39m)\n\u001b[32m--> \u001b[39m\u001b[32m139\u001b[39m \u001b[38;5;28;01mreturn\u001b[39;00m solver_cls(model, subsolver=subname, **init_kwargs)\n",
      "\u001b[36mFile \u001b[39m\u001b[32m~/local/src/miniconda3/lib/python3.13/site-packages/cpmpy/solvers/gurobi.py:123\u001b[39m, in \u001b[36mCPM_gurobi.__init__\u001b[39m\u001b[34m(self, cpm_model, subsolver)\u001b[39m\n\u001b[32m    121\u001b[39m     \u001b[38;5;28;01mraise\u001b[39;00m \u001b[38;5;167;01mException\u001b[39;00m(\u001b[33m\"\u001b[39m\u001b[33mCPM_gurobi: Install the python package \u001b[39m\u001b[33m'\u001b[39m\u001b[33mgurobipy\u001b[39m\u001b[33m'\u001b[39m\u001b[33m to use this solver interface.\u001b[39m\u001b[33m\"\u001b[39m)\n\u001b[32m    122\u001b[39m \u001b[38;5;28;01melif\u001b[39;00m \u001b[38;5;129;01mnot\u001b[39;00m \u001b[38;5;28mself\u001b[39m.license_ok():\n\u001b[32m--> \u001b[39m\u001b[32m123\u001b[39m     \u001b[38;5;28;01mraise\u001b[39;00m \u001b[38;5;167;01mException\u001b[39;00m(\u001b[33m\"\u001b[39m\u001b[33mCPM_gurobi: A problem occured during license check. Make sure your license is activated!\u001b[39m\u001b[33m\"\u001b[39m)\n\u001b[32m    124\u001b[39m \u001b[38;5;28;01mimport\u001b[39;00m\u001b[38;5;250m \u001b[39m\u001b[34;01mgurobipy\u001b[39;00m\u001b[38;5;250m \u001b[39m\u001b[38;5;28;01mas\u001b[39;00m\u001b[38;5;250m \u001b[39m\u001b[34;01mgp\u001b[39;00m\n\u001b[32m    126\u001b[39m \u001b[38;5;66;03m# TODO: subsolver could be a GRB_ENV if a user would want to hand one over\u001b[39;00m\n",
      "\u001b[31mException\u001b[39m: CPM_gurobi: A problem occured during license check. Make sure your license is activated!"
     ]
    }
   ],
   "source": [
    "from cpmpy import SolverLookup\n",
    "import pandas as pd\n",
    "\n",
    "def algorithm_selection(models, solvers):\n",
    "    \"\"\"\n",
    "    TODO: Given a collection of problem models and a list of solvers,\n",
    "          run each problem on each solver and print the measured runtimes.\n",
    "\n",
    "          'models' is a dictionary of 'problem name' -> 'problem CPMpy model' mappings.\n",
    "\n",
    "    HINT: You can call '.items()' on a dictionary as to get an iterator that\n",
    "          returns a (key, value) tuple for each element in that dictionary.\n",
    "          So in the case of the 'models' argument, calling models.items()\n",
    "          returns an iterator that will give you all (model_name, cpmpy_model) pairs.\n",
    "\n",
    "    HINT: To immediately print (for instant feedback), use 'flush=True'\n",
    "              as an argument, i.e. print(..., flush=True).\n",
    "\n",
    "    Running this code will take some time. Place a time limit of 30s on each solve call.\n",
    "    \"\"\"\n",
    "\n",
    "    # ┌────SOLUTION────┐\n",
    "\n",
    "    # Iterate over all problems\n",
    "    for model_name, model in models.items():\n",
    "\n",
    "        # Iterate over all solvers\n",
    "        for solver in solvers:\n",
    "\n",
    "            # Solve problem on solver\n",
    "            model.solve(solver=solver, time_limit=30)\n",
    "            # Print for immediate feedback\n",
    "            print(model_name, solver, \"--\", model.status().runtime, flush=True)\n",
    "\n",
    "    # └────────────────┘\n",
    "\n",
    "solvers = [\"ortools\", \"choco\", \"gurobi\"]\n",
    "models = {\n",
    "    \"task_allocation\": task_allocation(),\n",
    "    \"team_skill_assignment\": team_skill_assignment(),\n",
    "    \"pizza_voucher\": pizza_voucher(),\n",
    "    }\n",
    "algorithm_selection(models, solvers)\n"
   ]
  },
  {
   "cell_type": "markdown",
   "metadata": {
    "id": "UKsHqMDInXBH"
   },
   "source": [
    "**Observations**:\n",
    "\n",
    "1) Which solver would you recommend?\n",
    "\n",
    "2) Would that recommendation apply to all problems, to all instances of a problem?\n"
   ]
  },
  {
   "cell_type": "markdown",
   "metadata": {
    "id": "k9xj12NsnnR3"
   },
   "source": [
    "### **Section 2: Algorithm Configuration**"
   ]
  },
  {
   "cell_type": "markdown",
   "metadata": {
    "id": "N8exCxsXnnR3"
   },
   "source": [
    "Once we've made a decision on a particular solving backend that we want to target, we can start looking at configuring said backend. Each solver (OR-Tools, Choco, Exact, ...) has is own unique interface. And thus each solver exposes their own unique set of options that we can start tweaking in order to get more performance out of it. By default, solvers will often use some heuristic as to guess what a good set of options could be. In order to stay performant, not much time on this optimization will be spend. We on the other hand can do our own experiments and figure out which set of settings work best for the particular problem that we're trying to solve.\n",
    "\n",
    "This happens often in industry. Imagine that a company has a fleet of vehicles and wants to use CP as to optimize their driving paths. Once a model has been made and a solver has been chosen, they can start fine-tuning said solver for that particular type of problem that they'll have to solve over and over again."
   ]
  },
  {
   "cell_type": "markdown",
   "metadata": {
    "id": "AkZT9u89nnR3"
   },
   "source": [
    "#### **0. Setup**"
   ]
  },
  {
   "cell_type": "code",
   "execution_count": 6,
   "metadata": {
    "id": "tM7fDsQennR3"
   },
   "outputs": [],
   "source": [
    "import time\n",
    "from cpmpy.solvers.choco import CPM_choco\n",
    "from cpmpy.solvers.solver_interface import SolverInterface, SolverStatus, ExitStatus\n",
    "from cpmpy.expressions.variables import _NumVarImpl, _IntVarImpl, _BoolVarImpl\n",
    "\n",
    "class strategy_CPM_Choco(CPM_choco):\n",
    "    \"\"\"\n",
    "    A slightly adapted Choco solver class as to support changing the search strategy.\n",
    "    \"\"\"\n",
    "\n",
    "    def solve(self, time_limit=None, strategy=\"default\", **kwargs):\n",
    "        \"\"\"\n",
    "            Call the Choco solver\n",
    "\n",
    "            Arguments:\n",
    "            - time_limit:  maximum solve time in seconds (float, optional)\n",
    "            - kwargs:      any keyword argument, sets parameters of solver object\n",
    "\n",
    "        \"\"\"\n",
    "        # ensure all vars are known to solver\n",
    "        self.solver_vars(list(self.user_vars))\n",
    "\n",
    "        # call the solver, with parameters\n",
    "        self.chc_solver = self.chc_model.get_solver()\n",
    "\n",
    "        # Get all variables in the model as to configure the search strategy for them\n",
    "        chc_vars = self.solver_vars(list(self.user_vars))\n",
    "\n",
    "        # Setting search strategy\n",
    "        if strategy==\"default\":\n",
    "            pass\n",
    "        elif strategy==\"input-order-lb-value\":\n",
    "            self.chc_solver.set_input_order_lb_search(chc_vars)\n",
    "        elif strategy==\"random\":\n",
    "            self.chc_solver.set_random_search(chc_vars)\n",
    "        elif strategy==\"domain-size-over-weighted-degree\":\n",
    "            self.chc_solver.set_dom_over_w_deg_search(chc_vars)\n",
    "        elif strategy==\"activity\":\n",
    "            self.chc_solver.set_activity_based_search(chc_vars)\n",
    "        elif strategy==\"conflict-history\":\n",
    "            self.chc_solver.set_conflict_history_search(chc_vars)\n",
    "        elif strategy==\"failure-rate\":\n",
    "            self.chc_solver.set_failure_rate_based_search(chc_vars)\n",
    "        elif strategy==\"pick-on-domain\":\n",
    "            self.chc_solver.set_pick_on_dom_search(chc_vars)\n",
    "        elif strategy==\"smallest-domain-lb-value\":\n",
    "            self.chc_solver.set_min_dom_lb_search(chc_vars)\n",
    "        elif strategy==\"smallest-domain-ub-value\":\n",
    "            self.chc_solver.set_min_dom_ub_search(chc_vars)\n",
    "        else:\n",
    "            raise ValueError(f\"Invalid strategy: {strategy}\")\n",
    "\n",
    "        # Make call to parent class to perform actual solve operation\n",
    "        return super().solve(**kwargs)"
   ]
  },
  {
   "cell_type": "markdown",
   "metadata": {
    "id": "KZuubldZnnR4"
   },
   "source": [
    "#### **1. Search Strategy**"
   ]
  },
  {
   "cell_type": "markdown",
   "metadata": {
    "id": "S3gsIG1JnnR4"
   },
   "source": [
    "Below is a CP model for the \"Magic sequence problem\". As described in CSPLib:\n",
    "\n",
    "\"A magic sequence of length $n$ is a sequence of integers $x_0...x_{n−1}$ between $0$ and $n−1$, such that for all $i$\n",
    "in $0$ to $n−1$, the number $i$ occurs exactly $x_i$ times in the sequence. For instance, $\\{6,2,1,0,0,0,1,0,0,0\\}$ is a magic sequence since $0$ occurs $6$ times in it, $1$ occurs twice, etc.\"\n",
    "\n",
    "It is not all too important to understand this problem / the below model."
   ]
  },
  {
   "cell_type": "code",
   "execution_count": 7,
   "metadata": {
    "id": "PkGV8-y4nnR4"
   },
   "outputs": [
    {
     "name": "stdout",
     "output_type": "stream",
     "text": [
      "ExitStatus.FEASIBLE (0.0006389617919921875 seconds)\n",
      "[6 2 1 0 0 0 1 0 0 0]\n"
     ]
    }
   ],
   "source": [
    "import numpy as np\n",
    "\n",
    "def magic_sequence(n):\n",
    "    \"\"\"\n",
    "    Returns a model for the \"Magic Sequence\" problem\n",
    "    \"\"\"\n",
    "\n",
    "    # Decision Variables\n",
    "    x = cp.intvar(0, n - 1, shape=n, name=\"x\")\n",
    "\n",
    "    # Model\n",
    "    model = cp.Model()\n",
    "\n",
    "    # Constraints\n",
    "    # 1) number i occurs x[i] times\n",
    "    for i in range(n):\n",
    "        model.add(x[i] == sum(x == i))\n",
    "\n",
    "    # 2) redundant constraints to speed up search\n",
    "    model.add(sum(x) == n)\n",
    "    model.add(sum(x * np.array([i for i in range(n)])) == n)\n",
    "\n",
    "    return model, x\n",
    "\n",
    "\"\"\"\n",
    "Example usage of the model for a problem instance of size 10.\n",
    "\"\"\"\n",
    "# Create model of size 10\n",
    "model, x = magic_sequence(n=10)\n",
    "\n",
    "# Create Choco solver\n",
    "#   Custom Choco solver object that acts exactly the same as\n",
    "#   when created using SolverLookup().get(\"choco\", model),\n",
    "#   besides allowing you to pass a search strategy when\n",
    "#   calling '.solve()'\n",
    "solver = strategy_CPM_Choco(model)\n",
    "\n",
    "# Solve\n",
    "solver.solve(strategy=\"default\") # Can also leave this blank, as \"default\" is the default\n",
    "\n",
    "# Show results\n",
    "print(solver.status())\n",
    "print(x.value())"
   ]
  },
  {
   "cell_type": "markdown",
   "metadata": {
    "id": "QTdtQxyHnnR4"
   },
   "source": [
    "Using an instance of the new solver class `strategy_CPM_Choco` from the setup section, evaluate the below set of strategies for a problem instance of size `n=50`. See the above example on how to use `strategy_CPM_Choco`.\n",
    "\n",
    "Generate a similar table as seen in the lectures:\n",
    "\n",
    "| Strategy name | Seconds |\n",
    "| - | - |\n",
    "| default | ... |\n",
    "| input-order-lb-value | ... |\n",
    "| ... | ... |"
   ]
  },
  {
   "cell_type": "code",
   "execution_count": 8,
   "metadata": {
    "id": "A-l702srnnR4"
   },
   "outputs": [],
   "source": [
    "# The different search strategies for the Choco solver\n",
    "strategies = [\n",
    "    \"default\",\n",
    "    \"input-order-lb-value\",\n",
    "    \"random\",\n",
    "    \"domain-size-over-weighted-degree\",\n",
    "    \"activity\",\n",
    "    \"conflict-history\",\n",
    "    \"failure-rate\",\n",
    "    \"pick-on-domain\",\n",
    "    \"smallest-domain-lb-value\",\n",
    "    \"smallest-domain-ub-value\",\n",
    "]"
   ]
  },
  {
   "cell_type": "code",
   "execution_count": 9,
   "metadata": {
    "id": "qQuN5gnbnnR4"
   },
   "outputs": [
    {
     "data": {
      "text/html": [
       "<div>\n",
       "<style scoped>\n",
       "    .dataframe tbody tr th:only-of-type {\n",
       "        vertical-align: middle;\n",
       "    }\n",
       "\n",
       "    .dataframe tbody tr th {\n",
       "        vertical-align: top;\n",
       "    }\n",
       "\n",
       "    .dataframe thead th {\n",
       "        text-align: right;\n",
       "    }\n",
       "</style>\n",
       "<table border=\"1\" class=\"dataframe\">\n",
       "  <thead>\n",
       "    <tr style=\"text-align: right;\">\n",
       "      <th></th>\n",
       "      <th>Strategy</th>\n",
       "      <th>Seconds</th>\n",
       "    </tr>\n",
       "  </thead>\n",
       "  <tbody>\n",
       "    <tr>\n",
       "      <th>7</th>\n",
       "      <td>pick-on-domain</td>\n",
       "      <td>0.002111</td>\n",
       "    </tr>\n",
       "    <tr>\n",
       "      <th>9</th>\n",
       "      <td>smallest-domain-ub-value</td>\n",
       "      <td>0.002718</td>\n",
       "    </tr>\n",
       "    <tr>\n",
       "      <th>8</th>\n",
       "      <td>smallest-domain-lb-value</td>\n",
       "      <td>0.003401</td>\n",
       "    </tr>\n",
       "    <tr>\n",
       "      <th>6</th>\n",
       "      <td>failure-rate</td>\n",
       "      <td>0.005134</td>\n",
       "    </tr>\n",
       "    <tr>\n",
       "      <th>1</th>\n",
       "      <td>input-order-lb-value</td>\n",
       "      <td>0.007523</td>\n",
       "    </tr>\n",
       "    <tr>\n",
       "      <th>0</th>\n",
       "      <td>default</td>\n",
       "      <td>0.007591</td>\n",
       "    </tr>\n",
       "    <tr>\n",
       "      <th>3</th>\n",
       "      <td>domain-size-over-weighted-degree</td>\n",
       "      <td>0.008172</td>\n",
       "    </tr>\n",
       "    <tr>\n",
       "      <th>2</th>\n",
       "      <td>random</td>\n",
       "      <td>0.008953</td>\n",
       "    </tr>\n",
       "    <tr>\n",
       "      <th>4</th>\n",
       "      <td>activity</td>\n",
       "      <td>0.009331</td>\n",
       "    </tr>\n",
       "    <tr>\n",
       "      <th>5</th>\n",
       "      <td>conflict-history</td>\n",
       "      <td>0.152275</td>\n",
       "    </tr>\n",
       "  </tbody>\n",
       "</table>\n",
       "</div>"
      ],
      "text/plain": [
       "                           Strategy   Seconds\n",
       "7                    pick-on-domain  0.002111\n",
       "9          smallest-domain-ub-value  0.002718\n",
       "8          smallest-domain-lb-value  0.003401\n",
       "6                      failure-rate  0.005134\n",
       "1              input-order-lb-value  0.007523\n",
       "0                           default  0.007591\n",
       "3  domain-size-over-weighted-degree  0.008172\n",
       "2                            random  0.008953\n",
       "4                          activity  0.009331\n",
       "5                  conflict-history  0.152275"
      ]
     },
     "execution_count": 9,
     "metadata": {},
     "output_type": "execute_result"
    }
   ],
   "source": [
    "def make_magic_table(n = 50):\n",
    "    # n: problem size\n",
    "\n",
    "    # Create model\n",
    "    model, x = magic_sequence(n)\n",
    "\n",
    "    \"\"\"\n",
    "    TODO: Write code to create the above table, one row for each strategy.\n",
    "\n",
    "    HINT: A new solver class is available for this exercise.\n",
    "          Instead of using SolverLookup, create the solver instance using\n",
    "          \"solver = strategy_CPM_Choco(model)\". The `.solve()` method of this\n",
    "          object accepts a new argument: strategy. Just pass it the name of\n",
    "          the strategy and Choco will be configured accordingly.\n",
    "\n",
    "    WARNING: Do not re-use the solver object between the strategies.\n",
    "            Re-using the solver object will activate its incremental mode,\n",
    "            i.e. searching for a new solution from where the last solve call left off.\n",
    "            In this case, we actually want to compare the strategies against each other\n",
    "            in the exact same setting and thus always solve 'from scratch'.\n",
    "            => Always re-create the solver instance between experiments.\n",
    "\n",
    "    HINT: You can use `pandas` to create nice tables.\n",
    "          More specifically:\n",
    "            import pandas as pd\n",
    "            pd.DataFrame(...)\n",
    "\n",
    "          To get the table:\n",
    "            | a | b |\n",
    "            | - | - |\n",
    "            | 1 | 2 |\n",
    "            | 3 | 4 |\n",
    "          You would need to call\n",
    "            pd.DataFrame([       # a list of rows\n",
    "              {'a': 1, 'b': 2},  # row = dictionary of column values\n",
    "              {'a': 3, 'b': 4}\n",
    "            ])\n",
    "    \"\"\"\n",
    "\n",
    "    import pandas as pd\n",
    "    # df = pf.DataFrame(...)\n",
    "\n",
    "    # ┌────SOLUTION────┐\n",
    "    res = [] # to collect the rows of the table\n",
    "\n",
    "    for strategy in strategies:\n",
    "\n",
    "        # Create special solver instance\n",
    "        solver = strategy_CPM_Choco(model)\n",
    "\n",
    "        # Solve with selected strategy\n",
    "        solver.solve(strategy=strategy)\n",
    "\n",
    "        # Collect runtime statistics\n",
    "        res.append({\"Strategy\": strategy, \"Seconds\": solver.status().runtime})\n",
    "\n",
    "    # Create pandas dataframe\n",
    "    df = pd.DataFrame(res)\n",
    "    df.sort_values(by=\"Seconds\", inplace=True) # sort to easily see which strategy is the best\n",
    "    # └────────────────┘\n",
    "\n",
    "    return df\n",
    "\n",
    "make_magic_table(n=50)"
   ]
  },
  {
   "cell_type": "markdown",
   "metadata": {
    "id": "gDjEKlIrrL62"
   },
   "source": [
    "**Observations**:\n",
    "\n",
    "Try for different values of `n`. What do you observe?"
   ]
  },
  {
   "cell_type": "markdown",
   "metadata": {
    "id": "FQHj3gFS-M5I"
   },
   "source": [
    "**Solution**:\n",
    "\n",
    "Which search strategy is best depends not only on the type of problem, but can also on the particular instance. This motivates the research domain of using Machine Learning techniques to predict the best strategy based on features of the problem/instance."
   ]
  },
  {
   "cell_type": "markdown",
   "metadata": {
    "id": "Cc-LH1GbnnR4"
   },
   "source": [
    "### **Section 3: Hyperparameter Configuration**"
   ]
  },
  {
   "cell_type": "markdown",
   "metadata": {
    "id": "-kNpouK6nnR4"
   },
   "source": [
    "When the number of configurable solver-options becomes too big or the model becomes expensive to evaluate, testing all possible combinations becomes infeasible. We only have the resources to test a subset of them. But which subset should we test and how can we do this in a smart way as to come as close as possible to the ideal set of parameters (for the specific problem on which we're fine-tuning the solver)?\n",
    "\n",
    "We can interpret the \"algorithm configuration problem\" as a search problem. All possible parameter combinations define our search space. Now we want to efficiently traverse this space in search for the most optimal combinations within a limited number of iterations.\n",
    "\n",
    "In the lectures we saw three such approaches:\n",
    "- Grid search\n",
    "- Random search\n",
    "- Model-based search\n",
    "\n",
    "Let's fine-tune the OR-Tools solver on the N-Queens problem:"
   ]
  },
  {
   "cell_type": "code",
   "execution_count": 10,
   "metadata": {
    "id": "du5mEsgBnnR4"
   },
   "outputs": [],
   "source": [
    "def nqueens(N):\n",
    "    \"\"\"\n",
    "    A model for the N-queens problem; i.e. how to position N queens on a\n",
    "    NxN chessboard such that no two queens attack each other.\n",
    "    \"\"\"\n",
    "    # Variables (one per row)\n",
    "    queens = cp.intvar(1,N, shape=N, name=\"queens\")\n",
    "\n",
    "    # Constraints on columns and left/right diagonal\n",
    "    m = cp.Model([\n",
    "        cp.AllDifferent(queens),\n",
    "        cp.AllDifferent([queens[i] + i for i in range(N)]),\n",
    "        cp.AllDifferent([queens[i] - i for i in range(N)]),\n",
    "    ])\n",
    "\n",
    "    return (m, queens)"
   ]
  },
  {
   "cell_type": "code",
   "execution_count": 11,
   "metadata": {
    "id": "uNo7hxxonnR4"
   },
   "outputs": [],
   "source": [
    "# The search space of solver options\n",
    "#   If you want to try more, you can look here: https://github.com/CPMpy/cpmpy/blob/4494396b2302110c3740ac46164208c25e77266a/cpmpy/solvers/ortools.py#L580\n",
    "space = {\n",
    "    'cp_model_probing_level': [0, 1, 2, 3],\n",
    "    'linearization_level': [0, 1, 2], # -> not seen in lecture slides\n",
    "    'symmetry_level': [0, 1, 2],\n",
    "    'search_branching': [0, 1, 2],\n",
    "    'use_phase_saving': [False, True],\n",
    "}"
   ]
  },
  {
   "cell_type": "markdown",
   "metadata": {
    "id": "BnrYK2DdnnR4"
   },
   "source": [
    "#### **Grid search**\n",
    "\n",
    "With grid search, we discretize our search-space and simply go over each possible combination one by one (our search space is already discrete). Once the budget on the number of iterations has been exceeded or all combinations have been tested (whichever comes first), we halt and return the best parameters we've found.\n",
    "\n",
    "Complete the code for grid search."
   ]
  },
  {
   "cell_type": "code",
   "execution_count": 12,
   "metadata": {
    "id": "eVqfy1J5nnR4"
   },
   "outputs": [
    {
     "name": "stdout",
     "output_type": "stream",
     "text": [
      "{'cp_model_probing_level': 0, 'linearization_level': 0, 'symmetry_level': 0, 'search_branching': 0, 'use_phase_saving': False} -> \u001b[1m [ 0.239370093 ] \u001b[0m\n",
      "{'cp_model_probing_level': 0, 'linearization_level': 0, 'symmetry_level': 0, 'search_branching': 0, 'use_phase_saving': True} -> \u001b[1m [ 0.22960031500000003 ] \u001b[0m\n",
      "{'cp_model_probing_level': 0, 'linearization_level': 0, 'symmetry_level': 0, 'search_branching': 1, 'use_phase_saving': False} -> 0.240807032\n",
      "{'cp_model_probing_level': 0, 'linearization_level': 0, 'symmetry_level': 0, 'search_branching': 1, 'use_phase_saving': True} -> \u001b[1m [ 0.224880813 ] \u001b[0m\n",
      "{'cp_model_probing_level': 0, 'linearization_level': 0, 'symmetry_level': 0, 'search_branching': 2, 'use_phase_saving': False} -> \u001b[1m [ 0.16725920400000002 ] \u001b[0m\n",
      "{'cp_model_probing_level': 0, 'linearization_level': 0, 'symmetry_level': 0, 'search_branching': 2, 'use_phase_saving': True} -> 0.174796069\n",
      "{'cp_model_probing_level': 0, 'linearization_level': 0, 'symmetry_level': 1, 'search_branching': 0, 'use_phase_saving': False} -> 0.189312279\n",
      "{'cp_model_probing_level': 0, 'linearization_level': 0, 'symmetry_level': 1, 'search_branching': 0, 'use_phase_saving': True} -> 0.181123218\n",
      "{'cp_model_probing_level': 0, 'linearization_level': 0, 'symmetry_level': 1, 'search_branching': 1, 'use_phase_saving': False} -> 0.184483042\n",
      "{'cp_model_probing_level': 0, 'linearization_level': 0, 'symmetry_level': 1, 'search_branching': 1, 'use_phase_saving': True} -> 0.184628692\n",
      "BEST: {'cp_model_probing_level': 'cp_model_probing_level', 'linearization_level': 'linearization_level', 'symmetry_level': 'symmetry_level', 'search_branching': 'search_branching', 'use_phase_saving': 'use_phase_saving'}\n"
     ]
    }
   ],
   "source": [
    "import itertools\n",
    "\n",
    "def grid_search(model, solver:str, space, N:int=10):\n",
    "    \"\"\"\n",
    "    TODO: Go over each possible parameter combination inside the search space one by one.\n",
    "          Create a solver object from the model and the provided solver name.\n",
    "          Solve with the selected parameters and collect the runtime.\n",
    "          After all combinations have been tested or the iteration limit N has been reached,\n",
    "          return the best set of parameters found so far.\n",
    "\n",
    "    HINT: s.status().runtime gets you the runtime of a solver object.\n",
    "\n",
    "    HINT: To use a set of parameter which are given as a dictionary, use the following syntax:\n",
    "          s.solve(**chosen_parameters).\n",
    "\n",
    "    BONUS: To speed up the search, add \"Adaptive Capping\". Simply set the time_limit of the solve\n",
    "           call to the best runtime found so far (no need continue searching for a solution when the solve\n",
    "           call already took longer then the best we found so far).\n",
    "    \"\"\"\n",
    "\n",
    "    best_runtime = float('inf')\n",
    "    best_parameters = None\n",
    "\n",
    "    # Create all possible combinations from the search space\n",
    "    combinations = list(itertools.product(*space.values()))\n",
    "\n",
    "    # Iterate over all possible combinations\n",
    "    for i, chosen_parameters in enumerate(combinations):\n",
    "\n",
    "        # Max number of iterations\n",
    "        if i >= N: break\n",
    "\n",
    "        # Get parameters as a dictionary: param name -> param value\n",
    "        chosen_parameters = {k:v for (k,v) in zip(space.keys(), chosen_parameters)}\n",
    "\n",
    "        \"\"\"\n",
    "        TODO: Complete code as described above\n",
    "        \"\"\"\n",
    "\n",
    "        # ┌────SOLUTION────┐\n",
    "\n",
    "        # Create solver object\n",
    "        s = SolverLookup().get(solver, model)\n",
    "\n",
    "        # Solve\n",
    "        # Adaptive capping -> time_limit\n",
    "        s.solve(**chosen_parameters, time_limit=best_runtime) # limit search time to best runtime found so far\n",
    "\n",
    "        # Check for better runtime\n",
    "        if s.status().runtime < best_runtime:\n",
    "            best_runtime = s.status().runtime\n",
    "            best_parameters = chosen_parameters\n",
    "\n",
    "        # └────────────────┘\n",
    "\n",
    "        \"\"\"\n",
    "        TODO: Print the measured runtime.\n",
    "\n",
    "        HINT: To immediately print (for instant feedback), use 'flush=True'\n",
    "              as an argument, i.e. print(..., flush=True).\n",
    "        \"\"\"\n",
    "        # print(chosen_parameters, \"->\", \"...\", flush=True)\n",
    "\n",
    "        # ┌────SOLUTION────┐\n",
    "        if s.status().runtime == best_runtime: # Some bonus pretty printing to cleary see when search found a better set of parameters\n",
    "          print(chosen_parameters, \"->\", '\\033[1m [', s.status().runtime, '] \\033[0m', flush=True)\n",
    "        else:\n",
    "          print(chosen_parameters, \"->\", s.status().runtime, flush=True)\n",
    "        # └────────────────┘\n",
    "\n",
    "    # Return best set of parameters\n",
    "    return {k:v for k,v in zip(space.keys(), best_parameters)}\n",
    "\n",
    "\n",
    "# Generate model\n",
    "model, x = nqueens(100)\n",
    "# Perform configuration search\n",
    "grid_params = grid_search(model, \"ortools\", space, N=10)\n",
    "# Print found configuration\n",
    "print(\"BEST:\", grid_params)"
   ]
  },
  {
   "cell_type": "markdown",
   "metadata": {
    "id": "aQU1Yn6hxrZl"
   },
   "source": [
    "**Q**: What do you observe? Do you believe that this approach has a good chance of finding the best set of parameters? What if we increased the number of iterations `N`?"
   ]
  },
  {
   "cell_type": "markdown",
   "metadata": {
    "id": "q4x0B9PKyBgF"
   },
   "source": [
    "**Solution**:\n",
    "\n",
    "Grid search systematically goes over the entire search space. When the number of iterations is limited, only a very local section of the search space will be tested. The chance that the best set of parameters is located there, is rather small. Even more so, there is no guarantee that there are any good configurations located in that small section; some parameters are never changed. Even when we increase the number of iterations `N`, grid search will still stay rather local and might miss all good configuration."
   ]
  },
  {
   "cell_type": "markdown",
   "metadata": {
    "id": "0aHNSmiNnnR4"
   },
   "source": [
    "#### **Random Search**\n",
    "\n",
    "Instead of systematic evaluation, going over the configurations one by one in order, implement a random configuration search for a fixed number of `N` solve calls.\n",
    "\n",
    "Complete the code for random search."
   ]
  },
  {
   "cell_type": "code",
   "execution_count": 13,
   "metadata": {
    "id": "ZkuGV-8fnnR4"
   },
   "outputs": [
    {
     "name": "stdout",
     "output_type": "stream",
     "text": [
      "{'cp_model_probing_level': 3, 'linearization_level': 2, 'symmetry_level': 0, 'search_branching': 1, 'use_phase_saving': True} -> \u001b[1m [ 1.5717640270000002 ] \u001b[0m\n",
      "{'cp_model_probing_level': 3, 'linearization_level': 0, 'symmetry_level': 2, 'search_branching': 1, 'use_phase_saving': False} -> \u001b[1m [ 0.9741160400000001 ] \u001b[0m\n",
      "{'cp_model_probing_level': 0, 'linearization_level': 1, 'symmetry_level': 0, 'search_branching': 2, 'use_phase_saving': False} -> \u001b[1m [ 0.14629735300000002 ] \u001b[0m\n",
      "{'cp_model_probing_level': 2, 'linearization_level': 0, 'symmetry_level': 0, 'search_branching': 1, 'use_phase_saving': False} -> 0.162993567\n",
      "{'cp_model_probing_level': 1, 'linearization_level': 2, 'symmetry_level': 0, 'search_branching': 1, 'use_phase_saving': False} -> 0.15836618600000002\n",
      "{'cp_model_probing_level': 0, 'linearization_level': 0, 'symmetry_level': 2, 'search_branching': 2, 'use_phase_saving': True} -> \u001b[1m [ 0.144839148 ] \u001b[0m\n",
      "{'cp_model_probing_level': 2, 'linearization_level': 0, 'symmetry_level': 0, 'search_branching': 0, 'use_phase_saving': False} -> 0.163896135\n",
      "{'cp_model_probing_level': 1, 'linearization_level': 2, 'symmetry_level': 0, 'search_branching': 0, 'use_phase_saving': False} -> 0.163472147\n",
      "{'cp_model_probing_level': 3, 'linearization_level': 1, 'symmetry_level': 0, 'search_branching': 2, 'use_phase_saving': True} -> 0.16178736600000002\n",
      "{'cp_model_probing_level': 0, 'linearization_level': 0, 'symmetry_level': 1, 'search_branching': 2, 'use_phase_saving': True} -> 0.14655330800000002\n",
      "{'cp_model_probing_level': 'cp_model_probing_level', 'linearization_level': 'linearization_level', 'symmetry_level': 'symmetry_level', 'search_branching': 'search_branching', 'use_phase_saving': 'use_phase_saving'}\n"
     ]
    }
   ],
   "source": [
    "import random\n",
    "import tqdm\n",
    "\n",
    "def random_search(model, solver: str, space, N:int=10):\n",
    "    \"\"\"\n",
    "    TODO: In each iteration, randomly select a new parameter combination (one that has not been tested before).\n",
    "          Create a solver object from the model based and the provided solver name.\n",
    "          Solve with the selected parameters and collect the runtime.\n",
    "          After all combinations have been tested or the iteration limit N has been reached,\n",
    "          return the best set of parameters found so far.\n",
    "\n",
    "    HINT: s.status().runtime gets you the runtime of a solver object.\n",
    "\n",
    "    HINT: To use a set of parameter which are given as a dictionary, use the following syntax:\n",
    "          s.solve(**chosen_parameters).\n",
    "\n",
    "    HINT: Instead of randomly sampling N configurations from the set of all configurations,\n",
    "          you could also randomly shuffle that set and then use the exact same code as\n",
    "          for grid search to test the first N 'random' configurations.\n",
    "          You can use 'random.shuffle()' to shuffle a list (this happens in-place,\n",
    "          so the original list gets updated).\n",
    "\n",
    "    BONUS: To speed up the search, add \"Adaptive Capping\". Simply set the time_limit of the solve\n",
    "           call to the best runtime found so far (no need continue searching for a solution when the solve\n",
    "           call already took longer then the best we found so far).\n",
    "    \"\"\"\n",
    "\n",
    "    best_runtime = float('inf')\n",
    "    best_parameters = None\n",
    "\n",
    "    # Create all possible combinations from the search space\n",
    "    combinations = list(itertools.product(*space.values()))\n",
    "\n",
    "    \"\"\"\n",
    "    TODO: Randomly shuffle the search space as to later get N random configurations.\n",
    "    \"\"\"\n",
    "    # ┌────SOLUTION────┐\n",
    "    random.shuffle(combinations)\n",
    "    # └────────────────┘\n",
    "\n",
    "    checked_parameters = []\n",
    "\n",
    "    # Iterate over all possible combinations\n",
    "    for i, chosen_parameters in enumerate(combinations):\n",
    "\n",
    "        # Max number of iterations\n",
    "        if i >= N: break\n",
    "\n",
    "        # Get parameters as a dictionary: param name -> param value\n",
    "        chosen_parameters = {k:v for (k,v) in zip(space.keys(), chosen_parameters)}\n",
    "\n",
    "        \"\"\"\n",
    "        TODO: Complete code as described above\n",
    "        \"\"\"\n",
    "\n",
    "        # ┌────SOLUTION────┐\n",
    "\n",
    "        # Create solver object\n",
    "        s = SolverLookup().get(solver, model)\n",
    "\n",
    "        # Solve\n",
    "        # Adaptive capping -> time_limit\n",
    "        s.solve(**chosen_parameters, time_limit=best_runtime) # limit search time to best runtime found so far\n",
    "\n",
    "        # Check for better runtime\n",
    "        if s.status().runtime < best_runtime:\n",
    "            best_runtime = s.status().runtime\n",
    "            best_parameters = chosen_parameters\n",
    "\n",
    "        # └────────────────┘\n",
    "\n",
    "        \"\"\"\n",
    "        TODO: Print the measured runtime.\n",
    "\n",
    "        HINT: To immediately print (for instant feedback), use 'flush=True'\n",
    "              as an argument, i.e. print(..., flush=True).\n",
    "        \"\"\"\n",
    "        # print(chosen_parameters, \"->\", \"...\", flush=True)\n",
    "\n",
    "        # ┌────SOLUTION────┐\n",
    "        if s.status().runtime == best_runtime: # Some bonus pretty printing to cleary see when search found a better set of parameters\n",
    "            print(chosen_parameters, \"->\", '\\033[1m [', s.status().runtime, '] \\033[0m', flush=True)\n",
    "        else:\n",
    "            print(chosen_parameters, \"->\", s.status().runtime, flush=True)\n",
    "        # └────────────────┘\n",
    "\n",
    "    # Return best set of parameters\n",
    "    return {k:v for k,v in zip(space.keys(), best_parameters)}\n",
    "\n",
    "\n",
    "# Generate model\n",
    "model, x = nqueens(100)\n",
    "# Perform configuration search\n",
    "random_params = random_search(model, \"ortools\", space, 10)\n",
    "# Print found configuration\n",
    "print(random_params)\n"
   ]
  },
  {
   "cell_type": "markdown",
   "metadata": {
    "id": "8d5gWTlRz2HT"
   },
   "source": [
    "Run the above code a few times.\n",
    "\n",
    "**Observations**:\n",
    "\n",
    "1) How do the tested configurations of random search compare to those of grid search?\n",
    "\n",
    "2) Do you think that this approach has a better chance of finding a good set of parameters within the limited number of iterations? Why?"
   ]
  },
  {
   "cell_type": "markdown",
   "metadata": {
    "id": "Pn2ScLi10hdS"
   },
   "source": [
    "**Solution**:\n",
    "\n",
    "By randomly sampling from the search space, our samples will be more diverse. More configuration parameters will be experimented with, ones that the gridsearch has never gotten around to change. Theoretically, this approach should increase the probability of finding good combinations."
   ]
  },
  {
   "cell_type": "markdown",
   "metadata": {
    "id": "0mqRd5afnnR5"
   },
   "source": [
    "#### **Model-based Search**\n",
    "\n",
    "As a last option, we'll use HyperOpt's model-based approach. Here, a probabilistic model gets made during the search, which is utilised to guide the search towards regions of high \"promise\".\n",
    "\n",
    "Complete the code for the model-based approach."
   ]
  },
  {
   "cell_type": "code",
   "execution_count": 14,
   "metadata": {
    "id": "O6ZQU-aBnnR5"
   },
   "outputs": [
    {
     "name": "stdout",
     "output_type": "stream",
     "text": [
      "{'cp_model_probing_level': 0, 'linearization_level': 1, 'search_branching': 0, 'symmetry_level': 0, 'use_phase_saving': True} -> \u001b[1m [ 0.21150843500000002 ] \u001b[0m\n",
      "{'cp_model_probing_level': 3, 'linearization_level': 0, 'search_branching': 1, 'symmetry_level': 0, 'use_phase_saving': True} -> 0.918100833\n",
      "{'cp_model_probing_level': 2, 'linearization_level': 0, 'search_branching': 1, 'symmetry_level': 0, 'use_phase_saving': True} -> 1.047634557\n",
      "{'cp_model_probing_level': 0, 'linearization_level': 2, 'search_branching': 1, 'symmetry_level': 0, 'use_phase_saving': False} -> 1.037270613\n",
      "{'cp_model_probing_level': 1, 'linearization_level': 0, 'search_branching': 0, 'symmetry_level': 0, 'use_phase_saving': True} -> 0.36890254100000003\n",
      "{'cp_model_probing_level': 3, 'linearization_level': 1, 'search_branching': 2, 'symmetry_level': 0, 'use_phase_saving': True} -> 0.34270671900000005\n",
      "{'cp_model_probing_level': 2, 'linearization_level': 1, 'search_branching': 0, 'symmetry_level': 1, 'use_phase_saving': False} -> 0.47498400500000004\n",
      "{'cp_model_probing_level': 0, 'linearization_level': 0, 'search_branching': 1, 'symmetry_level': 1, 'use_phase_saving': True} -> 0.80770344\n",
      "{'cp_model_probing_level': 3, 'linearization_level': 2, 'search_branching': 1, 'symmetry_level': 1, 'use_phase_saving': True} -> 1.144739062\n",
      "{'cp_model_probing_level': 1, 'linearization_level': 1, 'search_branching': 1, 'symmetry_level': 2, 'use_phase_saving': False} -> 1.100424244\n",
      "{'cp_model_probing_level': np.int64(0), 'linearization_level': np.int64(1), 'search_branching': np.int64(0), 'symmetry_level': np.int64(0), 'use_phase_saving': np.int64(1)}\n"
     ]
    }
   ],
   "source": [
    "from hyperopt import hp\n",
    "from hyperopt import tpe\n",
    "from hyperopt import fmin\n",
    "from hyperopt import Trials\n",
    "\n",
    "# Convert the search-space to a hyperopt format\n",
    "h_space = {k:hp.choice(k,v) for k,v in space.items()}\n",
    "\n",
    "# ┌────SOLUTION────┐\n",
    "# not necessary, is used for prettier printing\n",
    "best_runtime = float('inf')\n",
    "# └────────────────┘\n",
    "\n",
    "# Create the model\n",
    "model, x = nqueens(100)\n",
    "\n",
    "def objective(model, solver: str, parameters):\n",
    "    \"\"\"\n",
    "    Objective function to guide HyperOpt during its search.\n",
    "\n",
    "    TODO: Create a solver object, run the solver with the given params, and return the runtime.\n",
    "\n",
    "    Hint: Put a limit on the solve time (e.g. 20s) as to not wait too long.\n",
    "    \"\"\"\n",
    "    # ┌────SOLUTION────┐\n",
    "    # not necessary, is used for prettier printing\n",
    "    global best_runtime\n",
    "    # └────────────────┘\n",
    "\n",
    "    # ┌────SOLUTION────┐\n",
    "    solver = SolverLookup().get(solver, model)\n",
    "    solver.solve(**parameters, time_limit=20) # limit as to not wait too long\n",
    "    # └────────────────┘\n",
    "\n",
    "    \"\"\"\n",
    "    TODO: Print the measured runtime.\n",
    "\n",
    "    HINT: To immediately print (for instant feedback), use 'flush=True'\n",
    "          as an argument, i.e. print(..., flush=True).\n",
    "    \"\"\"\n",
    "    # print(chosen_parameters, \"->\", \"...\", flush=True)\n",
    "\n",
    "    # ┌────SOLUTION────┐\n",
    "    if solver.status().runtime < best_runtime: # not necessary, is used for prettier printing\n",
    "        best_runtime = solver.status().runtime\n",
    "    if solver.status().runtime == best_runtime: # not necessary, is used for prettier printing\n",
    "        print(parameters, \"->\", '\\033[1m [', solver.status().runtime, '] \\033[0m')\n",
    "\n",
    "    else:\n",
    "        print(parameters, \"->\", solver.status().runtime)\n",
    "    # └────────────────┘\n",
    "\n",
    "    # ┌────SOLUTION────┐\n",
    "    return solver.status().runtime\n",
    "    # └────────────────┘\n",
    "\n",
    "# Run HyperOpt's model-based algorithm configuration.\n",
    "model_params = fmin(\n",
    "    fn=lambda p: objective(model, 'ortools', p),\n",
    "    space=h_space,\n",
    "    algo=tpe.suggest,\n",
    "    trials=Trials(),\n",
    "    max_evals=10, # <- limit on the number of iterations N (increase to e.g. 30)\n",
    "    show_progressbar=False\n",
    ")\n",
    "# Print found configuration\n",
    "print(model_params)"
   ]
  },
  {
   "cell_type": "markdown",
   "metadata": {
    "id": "KPTuFKWo4-5d"
   },
   "source": [
    "**Observations**:\n",
    "\n",
    "1) How well does the model-based approach work compared to the other approaches?\n",
    "\n",
    "2) Increase the number of iterations, what do you see?"
   ]
  },
  {
   "cell_type": "markdown",
   "metadata": {
    "id": "Q03WuhbT2_kw"
   },
   "source": [
    "**Solution**\n",
    "\n",
    "With a very limited number of iterations, the model-based approach will not realise its full potential. It will start with some random samples to try and identify some patterns/correlations (exploration), but will not be able to build its probabilitic model in time to start benefitting from it (exploitation). So it should be quite similar to the random search approach. By increasing the number of iterations, we should start seeing it search more systrematically; staying close to known good regions in the search space and preventing regions with very bad regions."
   ]
  }
 ],
 "metadata": {
  "colab": {
   "collapsed_sections": [
    "55QmCd0hnnR3",
    "k9xj12NsnnR3",
    "AkZT9u89nnR3",
    "KZuubldZnnR4",
    "Cc-LH1GbnnR4",
    "BnrYK2DdnnR4",
    "0aHNSmiNnnR4",
    "0mqRd5afnnR5"
   ],
   "provenance": []
  },
  "kernelspec": {
   "display_name": "Python (conda base)",
   "language": "python",
   "name": "base"
  },
  "language_info": {
   "codemirror_mode": {
    "name": "ipython",
    "version": 3
   },
   "file_extension": ".py",
   "mimetype": "text/x-python",
   "name": "python",
   "nbconvert_exporter": "python",
   "pygments_lexer": "ipython3",
   "version": "3.13.2"
  }
 },
 "nbformat": 4,
 "nbformat_minor": 1
}
