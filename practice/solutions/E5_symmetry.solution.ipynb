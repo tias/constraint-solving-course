{
 "cells": [
  {
   "cell_type": "code",
   "execution_count": 1,
   "metadata": {},
   "outputs": [],
   "source": [
    "# Imports\n",
    "!pip install --upgrade cpmpy --quiet\n",
    "!pip install matplotlib --quiet\n",
    "import cpmpy as cp\n",
    "import numpy as np\n",
    "import matplotlib.pyplot as plt"
   ]
  },
  {
   "cell_type": "markdown",
   "metadata": {},
   "source": [
    "**Useful Resources:**\n",
    "* CPMpy summary sheet: https://cpmpy.readthedocs.io/en/latest/summary.html\n",
    "* CPMpy modeling documentation: https://cpmpy.readthedocs.io/en/latest/modeling.html\n",
    "\n",
    "\n",
    "# Session 5: symmetry and dominance breaking\n",
    "\n",
    "## Exercise 1: grocery store prices\n",
    "A kid goes into a grocery store and buys four items. The cashier charges €7.11,\n",
    "the kid pays and is about to leave when the cashier calls the kid back, and says\n",
    "\"Hold on, I multiplied the four items instead of adding them; I'll try again; Hah,\n",
    "with adding them the price still comes to €7.11\". What were the prices of the\n",
    "four items?\n",
    "Write a model that solves the problem. Use solveAll to find all the solutions\n",
    "\n",
    "Hint: CPMpy does not work well with floating point numbers, think about how to convert them to integers"
   ]
  },
  {
   "cell_type": "code",
   "execution_count": 2,
   "metadata": {},
   "outputs": [
    {
     "name": "stdout",
     "output_type": "stream",
     "text": [
      "[316, 120, 150, 125]\n",
      "[316, 125, 150, 120]\n",
      "[150, 125, 316, 120]\n",
      "[120, 125, 316, 150]\n",
      "[120, 125, 150, 316]\n",
      "[120, 316, 150, 125]\n",
      "[125, 316, 150, 120]\n",
      "[125, 316, 120, 150]\n",
      "[125, 150, 120, 316]\n",
      "[125, 150, 316, 120]\n",
      "[120, 150, 316, 125]\n",
      "[120, 150, 125, 316]\n",
      "[316, 150, 125, 120]\n",
      "[316, 150, 120, 125]\n",
      "[316, 125, 120, 150]\n",
      "[150, 125, 120, 316]\n",
      "[150, 316, 120, 125]\n",
      "[150, 316, 125, 120]\n",
      "[120, 316, 125, 150]\n",
      "[125, 120, 150, 316]\n",
      "[125, 120, 316, 150]\n",
      "[150, 120, 316, 125]\n",
      "[150, 120, 125, 316]\n",
      "[316, 120, 125, 150]\n"
     ]
    },
    {
     "data": {
      "text/plain": [
       "24"
      ]
     },
     "execution_count": 2,
     "metadata": {},
     "output_type": "execute_result"
    }
   ],
   "source": [
    "# Define the model\n",
    "model = cp.Model()\n",
    "\n",
    "# Define the variables\n",
    "(a,b,c,d) = cp.intvar(0,711, shape=4, name=list(\"abcd\"))\n",
    "\n",
    "# Add the constraints\n",
    "model.add(a + b + c + d == 711)\n",
    "\n",
    "# remember we multiplied our numbers by 100\n",
    "# a/100 * b/100 * c/100 * d/100 == 7.11\n",
    "model.add(a * b * c * d == 711 * 100*100*100)\n",
    "\n",
    "model.solveAll(display=[a,b,c,d])\n",
    "\n",
    "\n"
   ]
  },
  {
   "cell_type": "markdown",
   "metadata": {},
   "source": [
    "Now think about the possible symmetric solutions and add the corresponding constraints to exclude them from the satisfying assignments.\n",
    "Find all solutions to check that there are no symmetric solutions among the possible ones.\n",
    "What kind of symmetries are present in this problem, is it a problem, instance or model symmetry?\n",
    "Value or variables symmetry?"
   ]
  },
  {
   "cell_type": "markdown",
   "metadata": {},
   "source": [
    "This is a variable symmetry, any of the variables can swap places with each other.\n",
    "The symmetry is inherent to the problem, so it's a problem symmetry."
   ]
  },
  {
   "cell_type": "code",
   "execution_count": 3,
   "metadata": {},
   "outputs": [
    {
     "name": "stdout",
     "output_type": "stream",
     "text": [
      "[120, 125, 150, 316]\n"
     ]
    },
    {
     "data": {
      "text/plain": [
       "1"
      ]
     },
     "execution_count": 3,
     "metadata": {},
     "output_type": "execute_result"
    }
   ],
   "source": [
    "# add symmetry breaking constraints here\n",
    "model.add(a <= b)\n",
    "model.add(b <= c)\n",
    "model.add(c <= d)\n",
    "\n",
    "# alternative:\n",
    "# model += cp.Increasing([a,b,c,d])\n",
    "model.solveAll(display=[a,b,c,d])\n"
   ]
  },
  {
   "cell_type": "markdown",
   "metadata": {},
   "source": [
    "## Exercise 2\n",
    "We want to climb a stair of n steps: we can move up one step at a time or take\n",
    "two steps at a time (you can generalize to m steps at a time). We are interested\n",
    "in the possible combinations of steps taken each time to get to the top of the staircase.\n",
    "For example, a stair of 4 steps with m=2 can be climbed with a sequence of\n",
    "four one-step moves or with two two-step moves. Define a model that\n",
    "finds all the possible combinations of moves of size 1, 2 up to m to climb a staircase\n",
    "of size n.\n",
    "For n=4 and m=2 the solutions without symmetries for example are:\n",
    "1111\n",
    "112\n",
    "121\n",
    "211\n",
    "22\n"
   ]
  },
  {
   "cell_type": "code",
   "execution_count": 4,
   "metadata": {},
   "outputs": [
    {
     "name": "stdout",
     "output_type": "stream",
     "text": [
      "[0 0 2 2]\n",
      "[0 1 1 2]\n",
      "[0 2 0 2]\n",
      "[0 2 1 1]\n",
      "[0 2 2 0]\n",
      "[0 1 2 1]\n",
      "[1 1 2 0]\n",
      "[1 0 2 1]\n",
      "[2 0 2 0]\n",
      "[2 0 1 1]\n",
      "[2 1 1 0]\n",
      "[1 1 1 1]\n",
      "[1 0 1 2]\n",
      "[1 2 1 0]\n",
      "[1 2 0 1]\n",
      "[1 1 0 2]\n",
      "[2 1 0 1]\n",
      "[2 2 0 0]\n",
      "[2 0 0 2]\n"
     ]
    },
    {
     "data": {
      "text/plain": [
       "19"
      ]
     },
     "execution_count": 4,
     "metadata": {},
     "output_type": "execute_result"
    }
   ],
   "source": [
    "n = 4\n",
    "m = 2\n",
    "# Define the model\n",
    "model = cp.Model()\n",
    "\n",
    "# Define the variables\n",
    "steps = cp.intvar(0,m, shape=n, name=\"steps\")\n",
    "\n",
    "# Add the constraints\n",
    "model.add(sum(steps) == n)\n",
    "model.solveAll(display=steps)"
   ]
  },
  {
   "cell_type": "markdown",
   "metadata": {},
   "source": [
    "Think about all the possible symmetric solutions\n",
    "Is it a problem, instance or model symmetry? Value or variables symmetry?\n",
    "Add constraints that break these symmetries.\n",
    "Make sure to set the solver to find all solutions in order to verify that your model does not lead to symmetric solutions."
   ]
  },
  {
   "cell_type": "markdown",
   "metadata": {},
   "source": [
    "Because we care about the order we take our steps (112 and 211 are not considered symmetric), there is no variable symmetry here. The symmetry is on the value 0, that can be in any place in our list without changing the solutions.\n",
    "Even though it's hard to find another viewpoint, we still consider this a model symmetry. Further down we give an example of a different viewpoint.\n"
   ]
  },
  {
   "cell_type": "code",
   "execution_count": 5,
   "metadata": {},
   "outputs": [
    {
     "name": "stdout",
     "output_type": "stream",
     "text": [
      "[2 1 1 0]\n",
      "[2 2 0 0]\n",
      "[1 2 1 0]\n",
      "[1 1 2 0]\n",
      "[1 1 1 1]\n"
     ]
    },
    {
     "data": {
      "text/plain": [
       "5"
      ]
     },
     "execution_count": 5,
     "metadata": {},
     "output_type": "execute_result"
    }
   ],
   "source": [
    "# Add the symmetry breaking constraints, put 0's in the end\n",
    "model.add([(steps[i] == 0).implies(steps[i + 1] == 0) for i in range(n - 1)])\n",
    "\n",
    "model.solveAll(display=steps)"
   ]
  },
  {
   "cell_type": "markdown",
   "metadata": {},
   "source": [
    "Assume now that we do not care for the order of the sequence of steps: Thus 112 and 121 would be symmetric solutions. Can we break these symmetries by reformulation?\n"
   ]
  },
  {
   "cell_type": "markdown",
   "metadata": {},
   "source": [
    "Since we don't care about the ordering of our steps anymore there would have been variable symmetry when using a variable for each step we take.\n",
    "However that would have been a model symmetry, since we can come up with a different viewpoint without symmetries, as shown below.\n",
    "Here we just look at how many times we take each step size."
   ]
  },
  {
   "cell_type": "code",
   "execution_count": 6,
   "metadata": {},
   "outputs": [
    {
     "name": "stdout",
     "output_type": "stream",
     "text": [
      "[4 0]\n",
      "[2 1]\n",
      "[0 2]\n"
     ]
    },
    {
     "data": {
      "text/plain": [
       "3"
      ]
     },
     "execution_count": 6,
     "metadata": {},
     "output_type": "execute_result"
    }
   ],
   "source": [
    "n = 4\n",
    "m = 2\n",
    "# Define the model\n",
    "model = cp.Model()\n",
    "\n",
    "# Define the variables\n",
    "steps = cp.intvar(0,n, shape=m, name=\"steps\") # steps [i] now indicates how often we take i + 1 steps at a time (hence it's shape=m)\n",
    "\n",
    "# Add the constraints\n",
    "model.add(sum([steps[i]*(i+1) for i in range(m)]) == n)\n",
    "model.solveAll(display=steps)\n"
   ]
  },
  {
   "cell_type": "markdown",
   "metadata": {},
   "source": [
    "If we again consider the previous case where the order is important, we got symmetries on the location of '0''s in our steps variable.\n",
    "You can argue this is a problem symmetry, since the problem specification includes this ambiguity on the number of moves you need to take.\n",
    "There is however another viewpoint you can take to avoid this symmetry:"
   ]
  },
  {
   "cell_type": "code",
   "execution_count": 7,
   "metadata": {},
   "outputs": [
    {
     "name": "stdout",
     "output_type": "stream",
     "text": [
      "[ True  True False  True]\n",
      "[ True  True  True  True]\n",
      "[ True False  True  True]\n",
      "[False  True  True  True]\n",
      "[False  True False  True]\n"
     ]
    },
    {
     "data": {
      "text/plain": [
       "5"
      ]
     },
     "execution_count": 7,
     "metadata": {},
     "output_type": "execute_result"
    }
   ],
   "source": [
    "n = 4\n",
    "m = 2\n",
    "# Define the model\n",
    "model = cp.Model()\n",
    "\n",
    "# Define the variables\n",
    "steps = cp.boolvar(shape=n, name=\"steps\") # boolean variables that indicate if we stepped on step i when climbing the staircase\n",
    "\n",
    "model.add(steps[-1]) # must reach the top\n",
    "# Add the constraints\n",
    "for i in range(n-m+1):\n",
    "    model.add(sum(steps[i:i+m]) >= 1)  # At least one 1 in any window of m positions\n",
    "\n",
    "model.solveAll(display=steps)"
   ]
  },
  {
   "cell_type": "markdown",
   "metadata": {},
   "source": [
    "## Exercise 3\n",
    "We revisit the RCPSP problem from exercise session 3, with a few changes.\n",
    "A number of activities are to be scheduled. Each activity has a duration and cannot be interrupted. There are no precedence relations between activities. There are 2 renewable resources, each with a maximum capacity of 1, ensuring no more than 1 unit of each resource can be in use at any given time slot. Each activity has a demand on each resource.\n",
    "Minimize the starting time of the last activity.\n",
    "What (types of) symmetries do you see?\n",
    "Is there any dominance breaking possible?\n"
   ]
  },
  {
   "cell_type": "code",
   "execution_count": 8,
   "metadata": {},
   "outputs": [],
   "source": [
    "## Data, there are 12 tasks to be scheduled, with 2 resources that can be used.\n",
    "# Task durations\n",
    "durations = cp.cpm_array([3, 3, 3, 3, 4, 4, 4, 4, 5, 5, 5, 5])\n",
    "# resources needed by the tasks\n",
    "resource_needs = cp.cpm_array([[1, 0], [1, 0], [1, 0], [1, 0], [0, 1], [0, 1], [0, 1], [0, 1], [1, 0], [1, 0], [1, 0], [1, 0]])\n",
    "# Total resource capacity\n",
    "resource_capacities = cp.cpm_array([1, 1])\n",
    "nb_resource = len(resource_capacities)\n",
    "nb_jobs = len(durations)\n",
    "max_duration = sum(durations)  # dummy upper bound, can be improved of course\n",
    "\n",
    "start_time = cp.intvar(0, max_duration, shape=nb_jobs)\n",
    "\n",
    "# resource constraints\n",
    "model.add(cp.Cumulative(start_time,durations, end=start_time+durations, demand=resource_needs[:,0], capacity=resource_capacities[0]))\n",
    "model.add(cp.Cumulative(start_time,durations, end=start_time+durations, demand=resource_needs[:,1], capacity=resource_capacities[1]))\n",
    "\n",
    "# break the (instance) symmetry's\n",
    "model.add(cp.IncreasingStrict(start_time[0:4]))\n",
    "model.add(cp.IncreasingStrict(start_time[4:8]))\n",
    "model.add(cp.IncreasingStrict(start_time[8:12]))\n",
    "#model += start_time[3] < start_time[8]\n",
    "\n",
    "# dominance: last task will be the longest task\n",
    "model.add(start_time[3] < start_time[11])\n",
    "\n",
    "# or replace our first symmetry breaking constraint with this one:\n",
    "#model += cp.IncreasingStrict(np.concatenate((start_time[0:4], [start_time[11]])))\n",
    "\n",
    "# minimize last start time\n",
    "model.minimize(cp.Maximum(start_time))"
   ]
  },
  {
   "cell_type": "code",
   "execution_count": 9,
   "metadata": {},
   "outputs": [
    {
     "name": "stdout",
     "output_type": "stream",
     "text": [
      "[ 0  8 16 19  0  4  8 12  3 11 22 27]\n"
     ]
    },
    {
     "data": {
      "image/png": "[encoded data removed]",
      "text/plain": [
       "<Figure size 1200x1000 with 2 Axes>"
      ]
     },
     "metadata": {},
     "output_type": "display_data"
    },
    {
     "name": "stdout",
     "output_type": "stream",
     "text": [
      "Makespan: 32\n"
     ]
    }
   ],
   "source": [
    "# Visualize the RCPSP solution\n",
    "model.solve()\n",
    "\n",
    "# Get the solution values\n",
    "start_times = start_time.value()\n",
    "print(start_times)\n",
    "end_times = start_times + np.array(durations)\n",
    "\n",
    "# Create a figure and axis\n",
    "fig, (ax1, ax2) = plt.subplots(2, 1, figsize=(12, 10), gridspec_kw={'height_ratios': [3, 1]})\n",
    "\n",
    "# Define colors for each resource\n",
    "colors = ['#FF9999', '#66B2FF']\n",
    "\n",
    "# Plot each task as a horizontal bar\n",
    "for i in range(nb_jobs):\n",
    "    if durations[i] > 0:  # Skip tasks with zero duration\n",
    "        ax1.barh(i, durations[i], left=start_times[i], height=0.5,\n",
    "                 color=colors[np.argmax(resource_needs[i])],\n",
    "                 alpha=0.8, edgecolor='black')\n",
    "\n",
    "        # Add task labels\n",
    "        ax1.text(start_times[i], i, f'Task {i}', va='center', ha='right', fontweight='bold')\n",
    "\n",
    "# Customize the task plot\n",
    "ax1.set_xlabel('Time')\n",
    "ax1.set_ylabel('Tasks')\n",
    "ax1.set_title('RCPSP Solution Visualization')\n",
    "ax1.set_ylim(-1, nb_jobs)\n",
    "ax1.invert_yaxis()  # Invert y-axis to have task 0 at the top\n",
    "\n",
    "# Add a legend for tasks\n",
    "legend_elements = [plt.Rectangle((0,0),1,1, facecolor=colors[i], edgecolor='black', alpha=0.8, label=f'Resource {i+1}') for i in range(nb_resource)]\n",
    "ax1.legend(handles=legend_elements, loc='upper right')\n",
    "\n",
    "# Show the grid for tasks\n",
    "ax1.grid(True, axis='x', linestyle='--', alpha=0.7)\n",
    "\n",
    "# Calculate total resource usage over time\n",
    "max_time = max(end_times)\n",
    "resource_usage = np.zeros((nb_resource, max_time + 1))\n",
    "for i in range(nb_jobs):\n",
    "    for t in range(start_times[i], end_times[i]):\n",
    "        for r in range(nb_resource):\n",
    "            resource_usage[r, t] += resource_needs[i, r]\n",
    "\n",
    "# Plot total resource usage\n",
    "for r in range(nb_resource):\n",
    "    ax2.plot(range(max_time + 1), resource_usage[r], label=f'Resource {r+1}', color=colors[r])\n",
    "\n",
    "# Plot maximal allowed usage\n",
    "for r in range(nb_resource):\n",
    "    ax2.axhline(y=resource_capacities[r], color=colors[r], linestyle='--',\n",
    "                label=f'Max Resource {r+1}')\n",
    "\n",
    "ax2.set_xlabel('Time')\n",
    "ax2.set_ylabel('Total Resource Usage')\n",
    "ax2.set_title('Total Resource Usage Over Time')\n",
    "ax2.legend()\n",
    "ax2.grid(True, linestyle='--', alpha=0.7)\n",
    "\n",
    "# Adjust layout and display the plot\n",
    "plt.tight_layout()\n",
    "plt.show()\n",
    "\n",
    "# Print the makespan (total project duration)\n",
    "print(f\"Makespan: {max(end_times)}\")\n"
   ]
  },
  {
   "cell_type": "markdown",
   "metadata": {},
   "source": [
    "We have a clear instance symmetry here, because there are groups of tasks with duration 3, duration 4 and duration 5. Within each group, we cannot distinguish between tasks in any way. There is variable symmetry within these groups of tasks.\n",
    "Ordering each group is a way to break these symmetries.\n",
    "\n",
    "Because we are minimizing the last starting time, we also have a dominance relation between tasks of different length that use the same resource. The length 3 tasks can never be the lasts one in any optimal solution."
   ]
  },
  {
   "cell_type": "markdown",
   "metadata": {},
   "source": [
    "## Exercise 4\n",
    "A heterosquare of order n is a n*n square whose elements are distinct integers from\n",
    "1 to n^2 such that the sums of the rows, columns and diagonals are all different.\n",
    "Here is an example of heterosquare of order 3\n",
    "```\n",
    "           19\n",
    "\n",
    "1  2  3    6\n",
    "8  9  4    21\n",
    "7  6  5    18\n",
    "\n",
    "16 17 12   15  (Sums)\n",
    "```\n",
    "Write a CPMpy Model to solve a heterosquare of order n, and think about the symmetries in its solutions.\n",
    "hint: without symmetry breaking there are 24960 solutions, with symmetry breaking 3120 (for $n = 3$)."
   ]
  },
  {
   "cell_type": "code",
   "execution_count": 10,
   "metadata": {},
   "outputs": [
    {
     "data": {
      "text/plain": [
       "3120"
      ]
     },
     "execution_count": 10,
     "metadata": {},
     "output_type": "execute_result"
    }
   ],
   "source": [
    "n = 3\n",
    "\n",
    "square = cp.intvar(1, n*n, shape=(n,n))\n",
    "model = cp.Model()\n",
    "\n",
    "cols = [square[:,i] for i in range(n)]\n",
    "rows = [square[i] for i in range(n)]\n",
    "diagonals = [square.diagonal(), np.fliplr(square).diagonal()]\n",
    "\n",
    "allsums = [sum(x) for x in cols + rows + diagonals]\n",
    "model.add(cp.AllDifferent(allsums))\n",
    "model.add(cp.AllDifferent(square))\n",
    "\n",
    "#symmetry breaking\n",
    "\n",
    "model.add(square[0,0] <= square[0,n-1])\n",
    "model.add(square[0,0] <= square[n-1,0])\n",
    "model.add(square[0,0] <= square[n-1,n-1])\n",
    "model.add(square[0,1] <= square[1,0])\n",
    "\n",
    "\n",
    "def display_solution():\n",
    "    print(\"Heterosquare:\")\n",
    "    for i in range(n):\n",
    "        row = square[i].value()\n",
    "        print(f\"Row {i+1}: {' '.join(map(str, row))} (sum: {sum(row)})\")\n",
    "    print()\n",
    "    for i in range(n):\n",
    "        col = square[:,i].value()\n",
    "        print(f\"Column {i+1} sum: {sum(col)}\")\n",
    "    print(f\"Diagonal sum: {sum(square.diagonal().value())}\")\n",
    "    print(f\"Anti-diagonal sum: {sum(np.fliplr(square).diagonal().value())}\")\n",
    "#model.solveAll(display=display_solution)\n",
    "model.solveAll()"
   ]
  },
  {
   "cell_type": "markdown",
   "metadata": {},
   "source": [
    "It's important here to find out in what way the problem is symmetric. Careful consideration show that solutions are symmetric when we mirror the square around the center row, center column, and one of the 2 diagonals. Solutions are also symmetric under rotation of the whole matrix, but this can be expressed by doing both row and diagonal mirroring.\n",
    "\n",
    "Each of our symmetry breaking constraints is dealing with one of our symmetries (put an ordering on 2 symmetric solutions, such that only one remains).\n"
   ]
  },
  {
   "cell_type": "markdown",
   "metadata": {},
   "source": [
    "## Exercise 5\n",
    "Balanced Incomplete Block Design (BIBD)\n",
    "\n",
    "A BIBD is defined as an arrangement of $v$ distinct objects into b blocks such that each block contains exactly $k$ distinct objects, each object occurs in exactly $r$ different blocks, and every two distinct objects occur together in exactly lambda blocks. Another way of defining a BIBD is in terms of its incidence matrix, which is a $v$ by $b$ binary matrix with exactly $r$ ones per row, $k$ ones per column, and with a scalar product of lambda $l$ between any pair of distinct rows.\n",
    "\n",
    "Write a CPMpy Model to solve a BIBD and solve the problem with the following data:"
   ]
  },
  {
   "cell_type": "code",
   "execution_count": 11,
   "metadata": {},
   "outputs": [],
   "source": [
    "# Data\n",
    "v,b = 7,7\n",
    "r,k = 3,3\n",
    "l = 1"
   ]
  },
  {
   "cell_type": "markdown",
   "metadata": {},
   "source": [
    "Find all solutions of the problem. (don't print all solutions; it has too many)\n"
   ]
  },
  {
   "cell_type": "code",
   "execution_count": 12,
   "metadata": {},
   "outputs": [
    {
     "name": "stdout",
     "output_type": "stream",
     "text": [
      "10000\n"
     ]
    }
   ],
   "source": [
    "# Variables, incidence matrix\n",
    "block = cp.boolvar(shape=(v,b), name=\"block\")\n",
    "\n",
    "# Constraints on incidence matrix\n",
    "m = cp.Model(\n",
    "        [cp.sum(row) == r for row in block],\n",
    "        [cp.sum(col) == k for col in block.T],\n",
    ")\n",
    "\n",
    "# the scalar product of every pair of distinct rows sums up to `l`\n",
    "for row_a in range(v):\n",
    "    for row_b in range(row_a+1,v):\n",
    "        m.add(cp.sum(block[row_a,:] * block[row_b,:]) == l)\n",
    "\n",
    "def print_solution():\n",
    "    # pretty print\n",
    "    print(f\"BIBD: {b} obj, {v} blocks, r={r}, k={k}, l={l}\")\n",
    "    for (i, row) in enumerate(block.value()):\n",
    "        srow = \"\".join('X ' if e else '  ' for e in row)\n",
    "        print(f\"Object {i + 1}: [ {srow}]\")\n",
    "\n",
    "sols_num = m.solveAll(solution_limit=10000)\n",
    "print(sols_num)  # we've put a solution limit of 10000"
   ]
  },
  {
   "cell_type": "markdown",
   "metadata": {},
   "source": [
    "Print a few solutions and try to detect symmetric solutions. Does this problem have any symmetries? If yes, what type of symmetries? Break the symmetries and notice the reduction in the number of solutions.\n"
   ]
  },
  {
   "cell_type": "markdown",
   "metadata": {},
   "source": [
    "There are both row and column symmetries here, we can swap any 2 rows, and any 2 columns."
   ]
  },
  {
   "cell_type": "code",
   "execution_count": 13,
   "metadata": {},
   "outputs": [
    {
     "name": "stdout",
     "output_type": "stream",
     "text": [
      "BIBD: 7 obj, 7 blocks, r=3, k=3, l=1\n",
      "Object 1: [         X X X ]\n",
      "Object 2: [     X X     X ]\n",
      "Object 3: [   X   X   X   ]\n",
      "Object 4: [   X X   X     ]\n",
      "Object 5: [ X     X X     ]\n",
      "Object 6: [ X   X     X   ]\n",
      "Object 7: [ X X         X ]\n",
      "1\n"
     ]
    }
   ],
   "source": [
    "\n",
    "# Variables, incidence matrix\n",
    "block = cp.boolvar(shape=(v,b), name=\"block\")\n",
    "\n",
    "# Constraints on incidence matrix\n",
    "m = cp.Model(\n",
    "        [cp.sum(row) == r for row in block],\n",
    "        [cp.sum(col) == k for col in block.T],\n",
    ")\n",
    "\n",
    "# the scalar product of every pair of distinct rows sums up to `l`\n",
    "for row_a in range(v):\n",
    "    for row_b in range(row_a+1,v):\n",
    "        m.add(cp.sum(block[row_a,:] * block[row_b,:]) == l)\n",
    "        m.add(cp.LexLess(block[row_a,:],block[row_b,:]))\n",
    "\n",
    "m += cp.LexChainLess(block)\n",
    "for col_a in range(b):\n",
    "    for col_b in range(col_a + 1, b):\n",
    "        m.add(cp.LexLess(block.T[col_a], block.T[col_b]))\n",
    "\n",
    "\n",
    "# symmetry breaking by rows and columns\n",
    "# the LexChainLess is an alternative to putting lexless inside the loop\n",
    "#m += cp.LexChainLess(block)\n",
    "#m += cp.LexChainLess(block.T) # this is currently bugged however, until release of CPMpy 0.9.24\n",
    "\n",
    "sols_num = m.solveAll(display=print_solution)\n",
    "print(sols_num)"
   ]
  },
  {
   "cell_type": "markdown",
   "metadata": {},
   "source": [
    "## Extra's\n",
    "Find the numbers that can be expressed as the sum of two cubes in two different ways, i.e. the numbers $n=a^3+b^3=c^3+d^3$ for some a, b, c, d between 1 and 1000 $a!=b!=c!=d$.\n",
    "Again look at all solutions to check symmetric assignments and add to the model the necessary constraints to rule out the symmetric solutions.\n",
    "Hint: Use Minizinc to solve this model (if you have it installed). Otherwise, you will have to lower the bounds of the variables or wait a (very) long time."
   ]
  },
  {
   "cell_type": "code",
   "execution_count": 14,
   "metadata": {},
   "outputs": [],
   "source": [
    "# optional setup when using Minizinc (this does not work on google colab)\n",
    "! pip install nest_asyncio --quiet\n",
    "import nest_asyncio\n",
    "nest_asyncio.apply()"
   ]
  },
  {
   "cell_type": "code",
   "execution_count": 15,
   "metadata": {},
   "outputs": [
    {
     "ename": "Exception",
     "evalue": "CPM_minizinc: Install the python package 'minizinc' to use this solver interface.",
     "output_type": "error",
     "traceback": [
      "\u001b[31m---------------------------------------------------------------------------\u001b[39m",
      "\u001b[31mException\u001b[39m                                 Traceback (most recent call last)",
      "\u001b[36mCell\u001b[39m\u001b[36m \u001b[39m\u001b[32mIn[15]\u001b[39m\u001b[32m, line 24\u001b[39m\n\u001b[32m     22\u001b[39m \u001b[38;5;28;01mdef\u001b[39;00m\u001b[38;5;250m \u001b[39m\u001b[34mprint_solution\u001b[39m():\n\u001b[32m     23\u001b[39m     \u001b[38;5;28mprint\u001b[39m(\u001b[33mf\u001b[39m\u001b[33m\"\u001b[39m\u001b[33ma: \u001b[39m\u001b[38;5;132;01m{\u001b[39;00ma.value()\u001b[38;5;132;01m}\u001b[39;00m\u001b[33m, b: \u001b[39m\u001b[38;5;132;01m{\u001b[39;00mb.value()\u001b[38;5;132;01m}\u001b[39;00m\u001b[33m, c: \u001b[39m\u001b[38;5;132;01m{\u001b[39;00mc.value()\u001b[38;5;132;01m}\u001b[39;00m\u001b[33m, d: \u001b[39m\u001b[38;5;132;01m{\u001b[39;00md.value()\u001b[38;5;132;01m}\u001b[39;00m\u001b[33m, n: \u001b[39m\u001b[38;5;132;01m{\u001b[39;00mn.value()\u001b[38;5;132;01m}\u001b[39;00m\u001b[33m\"\u001b[39m)\n\u001b[32m---> \u001b[39m\u001b[32m24\u001b[39m model.solveAll(display=print_solution, solver=\u001b[33m'\u001b[39m\u001b[33mminizinc\u001b[39m\u001b[33m'\u001b[39m)\n",
      "\u001b[36mFile \u001b[39m\u001b[32m~/local/src/miniconda3/lib/python3.13/site-packages/cpmpy/model.py:223\u001b[39m, in \u001b[36mModel.solveAll\u001b[39m\u001b[34m(self, solver, display, time_limit, solution_limit, **kwargs)\u001b[39m\n\u001b[32m    221\u001b[39m     s = solver(\u001b[38;5;28mself\u001b[39m)\n\u001b[32m    222\u001b[39m \u001b[38;5;28;01melse\u001b[39;00m:\n\u001b[32m--> \u001b[39m\u001b[32m223\u001b[39m     s = SolverLookup.get(solver, \u001b[38;5;28mself\u001b[39m)\n\u001b[32m    225\u001b[39m \u001b[38;5;66;03m# call solver\u001b[39;00m\n\u001b[32m    226\u001b[39m ret = s.solveAll(display=display,time_limit=time_limit,solution_limit=solution_limit, call_from_model=\u001b[38;5;28;01mTrue\u001b[39;00m, **kwargs)\n",
      "\u001b[36mFile \u001b[39m\u001b[32m~/local/src/miniconda3/lib/python3.13/site-packages/cpmpy/solvers/utils.py:139\u001b[39m, in \u001b[36mSolverLookup.get\u001b[39m\u001b[34m(cls, name, model, **init_kwargs)\u001b[39m\n\u001b[32m    137\u001b[39m \u001b[38;5;28;01mif\u001b[39;00m name \u001b[38;5;129;01mis\u001b[39;00m \u001b[38;5;129;01mnot\u001b[39;00m \u001b[38;5;28;01mNone\u001b[39;00m \u001b[38;5;129;01mand\u001b[39;00m \u001b[33m'\u001b[39m\u001b[33m:\u001b[39m\u001b[33m'\u001b[39m \u001b[38;5;129;01min\u001b[39;00m name:\n\u001b[32m    138\u001b[39m     _,subname = name.split(\u001b[33m'\u001b[39m\u001b[33m:\u001b[39m\u001b[33m'\u001b[39m,maxsplit=\u001b[32m1\u001b[39m)\n\u001b[32m--> \u001b[39m\u001b[32m139\u001b[39m \u001b[38;5;28;01mreturn\u001b[39;00m solver_cls(model, subsolver=subname, **init_kwargs)\n",
      "\u001b[36mFile \u001b[39m\u001b[32m~/local/src/miniconda3/lib/python3.13/site-packages/cpmpy/solvers/minizinc.py:169\u001b[39m, in \u001b[36mCPM_minizinc.__init__\u001b[39m\u001b[34m(self, cpm_model, subsolver)\u001b[39m\n\u001b[32m    160\u001b[39m \u001b[38;5;250m\u001b[39m\u001b[33;03m\"\"\"\u001b[39;00m\n\u001b[32m    161\u001b[39m \u001b[33;03mConstructor of the native solver object\u001b[39;00m\n\u001b[32m    162\u001b[39m \n\u001b[32m   (...)\u001b[39m\u001b[32m    166\u001b[39m \u001b[33;03m                  has to be one of solvernames()\u001b[39;00m\n\u001b[32m    167\u001b[39m \u001b[33;03m\"\"\"\u001b[39;00m\n\u001b[32m    168\u001b[39m \u001b[38;5;28;01mif\u001b[39;00m \u001b[38;5;129;01mnot\u001b[39;00m \u001b[38;5;28mself\u001b[39m.installed():\n\u001b[32m--> \u001b[39m\u001b[32m169\u001b[39m     \u001b[38;5;28;01mraise\u001b[39;00m \u001b[38;5;167;01mException\u001b[39;00m(\u001b[33m\"\u001b[39m\u001b[33mCPM_minizinc: Install the python package \u001b[39m\u001b[33m'\u001b[39m\u001b[33mminizinc\u001b[39m\u001b[33m'\u001b[39m\u001b[33m to use this solver interface.\u001b[39m\u001b[33m\"\u001b[39m)\n\u001b[32m    170\u001b[39m \u001b[38;5;28;01melif\u001b[39;00m \u001b[38;5;129;01mnot\u001b[39;00m \u001b[38;5;28mself\u001b[39m.executable_installed():\n\u001b[32m    171\u001b[39m     \u001b[38;5;28;01mraise\u001b[39;00m \u001b[38;5;167;01mException\u001b[39;00m(\u001b[33m\"\u001b[39m\u001b[33mCPM_minizinc: Install the MiniZinc executable and make it available in path.\u001b[39m\u001b[33m\"\u001b[39m)\n",
      "\u001b[31mException\u001b[39m: CPM_minizinc: Install the python package 'minizinc' to use this solver interface."
     ]
    }
   ],
   "source": [
    "# Define the model\n",
    "model = cp.Model()\n",
    "\n",
    "# Define the variables\n",
    "a = cp.intvar(1,1000, name=\"a\")\n",
    "b = cp.intvar(1,1000, name=\"b\")\n",
    "c = cp.intvar(1,1000, name=\"c\")\n",
    "d = cp.intvar(1,1000, name=\"d\")\n",
    "n = cp.intvar(2,2000000000, name ='n')\n",
    "\n",
    "# Add the constraints\n",
    "model.add(a * a * a + b * b * b == n)\n",
    "model.add(c * c * c + d * d * d == n)\n",
    "model.add(cp.AllDifferent([a,b,c,d]))\n",
    "\n",
    "# Add the symmetry breaking constraint\n",
    "model.add(a <= b)\n",
    "model.add(c <= d)\n",
    "model.add(a <= c)\n",
    "\n",
    "\n",
    "def print_solution():\n",
    "    print(f\"a: {a.value()}, b: {b.value()}, c: {c.value()}, d: {d.value()}, n: {n.value()}\")\n",
    "model.solveAll(display=print_solution, solver='minizinc')\n"
   ]
  },
  {
   "cell_type": "markdown",
   "metadata": {},
   "source": [
    "We have a clear variable symmetry between a and b, and between c and d. there is also a symmetry between a,b and c,d. These symmetries can be broken with a simple ordering.\n",
    "The symmetries are inherent to the problem, so it is a problem symmetry."
   ]
  }
 ],
 "metadata": {
  "kernelspec": {
   "display_name": "Python (conda base)",
   "language": "python",
   "name": "base"
  },
  "language_info": {
   "codemirror_mode": {
    "name": "ipython",
    "version": 3
   },
   "file_extension": ".py",
   "mimetype": "text/x-python",
   "name": "python",
   "nbconvert_exporter": "python",
   "pygments_lexer": "ipython3",
   "version": "3.13.2"
  }
 },
 "nbformat": 4,
 "nbformat_minor": 1
}
