{
 "cells": [
  {
   "cell_type": "code",
   "execution_count": 1,
   "metadata": {
    "id": "mQrg5042121f"
   },
   "outputs": [],
   "source": [
    "# Imports\n",
    "!pip install cpmpy numpy --quiet\n",
    "\n",
    "import cpmpy as cp\n",
    "import numpy as np\n",
    "import time\n",
    "\n",
    "def solve_with_time(model, time_limit=None):\n",
    "\n",
    "    start_time = time.time()\n",
    "    solution_found = model.solve(time_limit=time_limit)\n",
    "    end_time = time.time()\n",
    "\n",
    "    elapsed_time = end_time - start_time\n",
    "    print(\"Time elapsed: {:.4f} seconds\".format(elapsed_time))\n",
    "\n",
    "    return solution_found"
   ]
  },
  {
   "cell_type": "markdown",
   "metadata": {
    "id": "5_WcNMwhUxG6"
   },
   "source": [
    "**Useful Resources:**\n",
    "* CPMpy summary sheet: https://cpmpy.readthedocs.io/en/latest/summary.html\n",
    "* CPMpy modeling documentation: https://cpmpy.readthedocs.io/en/latest/modeling.html"
   ]
  },
  {
   "cell_type": "markdown",
   "metadata": {
    "id": "A5WpxH1woeAP"
   },
   "source": [
    "## **Session 4: Advanced Modelling**\n",
    "\n",
    "### Outline:\n",
    "1. Viewpoints\n",
    "2. Channelling\n",
    "3. Auxiliary Variables\n",
    "4. Implied Constraints\n",
    "5. Extra Exercises"
   ]
  },
  {
   "cell_type": "markdown",
   "metadata": {
    "id": "7tphYVmoU1Hm"
   },
   "source": [
    "## **1. Viewpoints**\n",
    "\n",
    "In constraint programming, we often have multiple ways to represent the same problem. These representations, or \"viewpoints,\" affect both how the CP solver explores the solution space and how easy it is to formulate the constraints. A carefully chosen viewpoint can:\n",
    "- Reduce the complexity of the model, making it **faster** to solve\n",
    "- Make the constraints **easier** to express\n",
    "- **Implicitly** model constraints as part of the variables/domains definitions\n",
    "- Improve **readability**\n",
    "\n",
    "---\n",
    "\n",
    "Consider the following problem:\n",
    "\n",
    "We have $n$ pigeons and $m$ pigeonholes. Each pigeon must be assigned to one pigeonhole, but each pigeonhole can hold at most one pigeon.\n",
    "Here, we consider $n=50$ pigeons and $m=60$ pigeonholes.\n",
    "\n",
    "The output can be of the form:\n",
    "```\n",
    "Pigeon 1 goes to hole 1\n",
    "Pigeon 2 goes to hole 7\n",
    "...\n",
    "Pigeon 50 goes to hole 53\n",
    "```\n",
    "\n",
    "Modelling this problem is quite straightforward. The focus is on constructing two models for this problem using **different viewpoints**."
   ]
  },
  {
   "cell_type": "markdown",
   "metadata": {
    "id": "Nm0UCy1fn263"
   },
   "source": [
    "### Viewpoint 1: Pigeons as variables\n",
    "\n",
    "<details>\n",
    "  <summary>Click to reveal hints</summary>\n",
    "\n",
    "* We need a decision variable for each pigeon representing which hole it goes into.\n",
    "* The [AllDifferent](https://cpmpy.readthedocs.io/en/latest/api/expressions/globalconstraints.html#cpmpy.expressions.globalconstraints.AllDifferent) constraint fits nicely when the pigeons are selected as decision variables.\n",
    "</details>"
   ]
  },
  {
   "cell_type": "code",
   "execution_count": 2,
   "metadata": {
    "colab": {
     "base_uri": "https://localhost:8080/"
    },
    "id": "-Qk5Ax7-PSer",
    "outputId": "19453256-b5c5-4a34-a4c1-fc8d69991e91"
   },
   "outputs": [
    {
     "name": "stdout",
     "output_type": "stream",
     "text": [
      "Time elapsed: 0.0866 seconds\n",
      "ExitStatus.FEASIBLE (0.082447245 seconds)\n",
      "Pigeon 1 goes to hole 50\n",
      "Pigeon 2 goes to hole 49\n",
      "Pigeon 3 goes to hole 48\n",
      "Pigeon 4 goes to hole 47\n",
      "Pigeon 5 goes to hole 46\n",
      "Pigeon 6 goes to hole 45\n",
      "Pigeon 7 goes to hole 44\n",
      "Pigeon 8 goes to hole 43\n",
      "Pigeon 9 goes to hole 42\n",
      "Pigeon 10 goes to hole 41\n",
      "Pigeon 11 goes to hole 40\n",
      "Pigeon 12 goes to hole 39\n",
      "Pigeon 13 goes to hole 38\n",
      "Pigeon 14 goes to hole 37\n",
      "Pigeon 15 goes to hole 36\n",
      "Pigeon 16 goes to hole 35\n",
      "Pigeon 17 goes to hole 34\n",
      "Pigeon 18 goes to hole 33\n",
      "Pigeon 19 goes to hole 32\n",
      "Pigeon 20 goes to hole 31\n",
      "Pigeon 21 goes to hole 30\n",
      "Pigeon 22 goes to hole 29\n",
      "Pigeon 23 goes to hole 28\n",
      "Pigeon 24 goes to hole 27\n",
      "Pigeon 25 goes to hole 26\n",
      "Pigeon 26 goes to hole 25\n",
      "Pigeon 27 goes to hole 24\n",
      "Pigeon 28 goes to hole 23\n",
      "Pigeon 29 goes to hole 22\n",
      "Pigeon 30 goes to hole 21\n",
      "Pigeon 31 goes to hole 20\n",
      "Pigeon 32 goes to hole 19\n",
      "Pigeon 33 goes to hole 18\n",
      "Pigeon 34 goes to hole 17\n",
      "Pigeon 35 goes to hole 16\n",
      "Pigeon 36 goes to hole 15\n",
      "Pigeon 37 goes to hole 14\n",
      "Pigeon 38 goes to hole 13\n",
      "Pigeon 39 goes to hole 12\n",
      "Pigeon 40 goes to hole 11\n",
      "Pigeon 41 goes to hole 10\n",
      "Pigeon 42 goes to hole 9\n",
      "Pigeon 43 goes to hole 8\n",
      "Pigeon 44 goes to hole 7\n",
      "Pigeon 45 goes to hole 6\n",
      "Pigeon 46 goes to hole 5\n",
      "Pigeon 47 goes to hole 4\n",
      "Pigeon 48 goes to hole 3\n",
      "Pigeon 49 goes to hole 2\n",
      "Pigeon 50 goes to hole 1\n"
     ]
    }
   ],
   "source": [
    "num_pigeons = 50\n",
    "num_pigeonholes = 60\n",
    "\n",
    "# Decision variables\n",
    "pigeons = cp.intvar(1, num_pigeonholes, shape=num_pigeons)  # Each pigeon is assigned to which pigeonhole?\n",
    "\n",
    "# Constraints\n",
    "model_vp1 = cp.Model()\n",
    "\n",
    "# Each pigeonhole can hold at most one pigeon, thus no two pigeons in the same hole\n",
    "model_vp1.add(cp.AllDifferent(pigeons))\n",
    "\n",
    "# Solve the model\n",
    "solved = solve_with_time(model_vp1)\n",
    "\n",
    "if solved:\n",
    "  print(model_vp1.status())\n",
    "  for p in range(num_pigeons):\n",
    "    print(f\"Pigeon {p+1} goes to hole {pigeons[p].value()}\")\n",
    "else:\n",
    "  print(\"No solution found.\")"
   ]
  },
  {
   "cell_type": "markdown",
   "metadata": {
    "id": "oblbf4FUwIf2"
   },
   "source": [
    "### Viewpoint 2: Pigeonholes as variables\n",
    "\n",
    "<details>\n",
    "  <summary>Click to reveal hints</summary>\n",
    "\n",
    "- Make sure that the domain includes also the option that the hole may be empty\n",
    "- The constraint that each pigeon must be assigned to exactly one pigeonhole can be expressed in various ways, some of them are:\n",
    "  - For each pigeon use `cp.sum` and ensure that it is equal to 1.\n",
    "  - Use [GlobalCardinalityCount](https://cpmpy.readthedocs.io/en/latest/api/expressions/globalconstraints.html#cpmpy.expressions.globalconstraints.GlobalCardinalityCount)\n",
    "  - Use [AllDifferentExcept0](https://cpmpy.readthedocs.io/en/latest/api/expressions/globalconstraints.html#cpmpy.expressions.globalconstraints.AllDifferentExcept0) and [Count](https://cpmpy.readthedocs.io/en/latest/api/expressions/globalfunctions.html#cpmpy.expressions.globalfunctions.Count)\n",
    "</details>"
   ]
  },
  {
   "cell_type": "code",
   "execution_count": 3,
   "metadata": {
    "colab": {
     "base_uri": "https://localhost:8080/"
    },
    "id": "XVCnSa3VtYAW",
    "outputId": "8f4dd9aa-8f42-44c7-a593-e1beedf8bdfd"
   },
   "outputs": [
    {
     "name": "stdout",
     "output_type": "stream",
     "text": [
      "Time elapsed: 1.0468 seconds\n",
      "Pigeon 1 goes to hole 17\n",
      "Pigeon 2 goes to hole 5\n",
      "Pigeon 3 goes to hole 49\n",
      "Pigeon 4 goes to hole 4\n",
      "Pigeon 5 goes to hole 13\n",
      "Pigeon 6 goes to hole 37\n",
      "Pigeon 7 goes to hole 25\n",
      "Pigeon 8 goes to hole 20\n",
      "Pigeon 9 goes to hole 15\n",
      "Pigeon 10 goes to hole 44\n",
      "Pigeon 11 goes to hole 39\n",
      "Pigeon 12 goes to hole 60\n",
      "Pigeon 13 goes to hole 18\n",
      "Pigeon 14 goes to hole 48\n",
      "Pigeon 15 goes to hole 22\n",
      "Pigeon 16 goes to hole 40\n",
      "Pigeon 17 goes to hole 1\n",
      "Pigeon 18 goes to hole 30\n",
      "Pigeon 19 goes to hole 55\n",
      "Pigeon 20 goes to hole 46\n",
      "Pigeon 21 goes to hole 42\n",
      "Pigeon 22 goes to hole 24\n",
      "Pigeon 23 goes to hole 53\n",
      "Pigeon 24 goes to hole 7\n",
      "Pigeon 25 goes to hole 3\n",
      "Pigeon 26 goes to hole 29\n",
      "Pigeon 27 goes to hole 50\n",
      "Pigeon 28 goes to hole 19\n",
      "Pigeon 29 goes to hole 16\n",
      "Pigeon 30 goes to hole 31\n",
      "Pigeon 31 goes to hole 58\n",
      "Pigeon 32 goes to hole 2\n",
      "Pigeon 33 goes to hole 26\n",
      "Pigeon 34 goes to hole 12\n",
      "Pigeon 35 goes to hole 35\n",
      "Pigeon 36 goes to hole 23\n",
      "Pigeon 37 goes to hole 8\n",
      "Pigeon 38 goes to hole 41\n",
      "Pigeon 39 goes to hole 10\n",
      "Pigeon 40 goes to hole 59\n",
      "Pigeon 41 goes to hole 38\n",
      "Pigeon 42 goes to hole 52\n",
      "Pigeon 43 goes to hole 6\n",
      "Pigeon 44 goes to hole 36\n",
      "Pigeon 45 goes to hole 27\n",
      "Pigeon 46 goes to hole 32\n",
      "Pigeon 47 goes to hole 11\n",
      "Pigeon 48 goes to hole 34\n",
      "Pigeon 49 goes to hole 47\n",
      "Pigeon 50 goes to hole 45\n",
      "The empty holes are:\n",
      "Hole 9\n",
      "Hole 14\n",
      "Hole 21\n",
      "Hole 28\n",
      "Hole 33\n",
      "Hole 43\n",
      "Hole 51\n",
      "Hole 54\n",
      "Hole 56\n",
      "Hole 57\n"
     ]
    }
   ],
   "source": [
    "# Decision variables\n",
    "pigeonholes = cp.intvar(0, num_pigeons, shape=num_pigeonholes)  # Each pigeonhole holds which pigeon? 0 means that the hole is empty\n",
    "\n",
    "# Constraints\n",
    "model_vp2 = cp.Model()\n",
    "\n",
    "# Each pigeon must be assigned to exactly one pigeonhole, there are various ways to model this constraint\n",
    "\n",
    "# 1. Using the sum constraint\n",
    "for i in range(1, num_pigeons + 1):\n",
    "  model_vp2.add(cp.sum(pigeonholes == i) == 1)\n",
    "\n",
    "# 2. Using the Global Cardinality Count constraint\n",
    "model_vp2.add(cp.GlobalCardinalityCount(pigeonholes, list(range(1, num_pigeons + 1)), [1]*num_pigeons))\n",
    "\n",
    "# 3. Using AllDifferentExcept0 and counting 0s\n",
    "model_vp2.add(cp.AllDifferentExcept0(pigeonholes))  # a. Each number except 0 should be distinct\n",
    "model_vp2.add(cp.Count(pigeonholes, 0) == num_pigeonholes - num_pigeons)  # b. All the pidgeons have to be assigned\n",
    "\n",
    "# Solve the model\n",
    "solved = solve_with_time(model_vp2)\n",
    "\n",
    "if solved:\n",
    "  holes_values = pigeonholes.value()\n",
    "  for p in range(num_pigeons):\n",
    "    for i, hole_value in enumerate(holes_values):\n",
    "      if hole_value == p + 1:\n",
    "        print(f\"Pigeon {hole_value} goes to hole {i + 1}\")\n",
    "\n",
    "  print(\"The empty holes are:\")\n",
    "  for i, hole_value in enumerate(holes_values):\n",
    "    if hole_value == 0:\n",
    "      print(f\"Hole {i + 1}\")\n",
    "else:\n",
    "  print(\"No solution found.\")"
   ]
  },
  {
   "cell_type": "markdown",
   "metadata": {
    "id": "6-jemx4E23RW"
   },
   "source": [
    "**Observations:**\n",
    "1. Which viewpoint was easier to model?\n",
    "2. Which viewpoint was faster to solve?\n",
    "3. Which constraints are implicitly covered in each viewpoint?"
   ]
  },
  {
   "cell_type": "code",
   "execution_count": 4,
   "metadata": {
    "colab": {
     "base_uri": "https://localhost:8080/"
    },
    "id": "vtM504S-KxN3",
    "outputId": "5479b0fb-12d2-4b6a-d846-1bedc6448530"
   },
   "outputs": [
    {
     "name": "stdout",
     "output_type": "stream",
     "text": [
      "Viewpoint 1:\n",
      "Time elapsed: 0.0871 seconds\n",
      "\n",
      "Viewpoint 2:\n",
      "Time elapsed: 0.8439 seconds\n"
     ]
    }
   ],
   "source": [
    "print(\"Viewpoint 1:\")\n",
    "time_vp1 = solve_with_time(model_vp1)\n",
    "print(\"\\nViewpoint 2:\")\n",
    "time_vp2 = solve_with_time(model_vp2)"
   ]
  },
  {
   "cell_type": "markdown",
   "metadata": {
    "id": "JnxhrsTiJy9J"
   },
   "source": [
    "## **2. Channeling**\n",
    "\n",
    "Some constraints are more naturally expressed in one viewpoint, while other constraints of the same model are maybe more naturally expressed in another viewpoint. In such cases, **channeling** is a useful technique that connects variables from different viewpoints within a single model. Some key benefits:\n",
    "\n",
    "1. You can use the most intuitive viewpoint for each constraint.\n",
    "2. The solver may deduce information across linked viewpoints, potentially speeding up the solving process.\n",
    "3. The final models can become easier to read, maintain, and extend.\n",
    "\n",
    "Channeling is achieved by adding constraints that ensure consistency between the decision variables of different viewpoints.\n",
    "\n",
    "---\n",
    "\n",
    "Consider the *Student Seating Problem* from the lecture:\n",
    "\n",
    "You are tasked with finding an optimal seating arrangement for `nStudents = 15` students across `nTables = 5` tables, where there are `nChairs = 20` chairs in total. You are given a list of chair assignments for each table:\n",
    "`Chairs = [1..4, 5..8, 9..12, 13..16, 17..20]`.\n",
    "The goal is to assign **all** students to the chairs in such a way that each table has either at least half or no chairs occupied.\n",
    "\n",
    "Create variables with two different viewpoints and try to model each constraint with the viewpoint that is easier. Before solving, it is necessary that the variables between the viewpoints are logically connected.\n",
    "\n",
    "<details>\n",
    "  <summary>Click to reveal hints</summary>\n",
    "\n",
    "There are two high-level constraints that need to be satisfied:\n",
    "1. From a student perspective: **All** students sit on a **different** chair\n",
    "2. From a chair perspective: In each table, either **all chairs are empty** or **at least half are non-empty**.\n",
    "</details>"
   ]
  },
  {
   "cell_type": "code",
   "execution_count": 5,
   "metadata": {
    "colab": {
     "base_uri": "https://localhost:8080/"
    },
    "id": "RVF8_tZ7xiSj",
    "outputId": "cb16ff0c-6a6a-4637-f1fb-b7f33aba0b39"
   },
   "outputs": [
    {
     "name": "stdout",
     "output_type": "stream",
     "text": [
      "Time elapsed: 0.0285 seconds\n",
      "Solution found:\n",
      "Chair of each student: [ 1  5  6 12 10 19  8 15 17  2 16 18  3 20  4]\n",
      "Table 1: 1 10 13 15 \n",
      "Table 2: 2 3 7 \n",
      "Table 3: 5 4 \n",
      "Table 4: 8 11 \n",
      "Table 5: 9 12 6 14 \n"
     ]
    }
   ],
   "source": [
    "# Data\n",
    "n_students = 15\n",
    "n_chairs = 20\n",
    "n_tables = 5\n",
    "\n",
    "# Chair indexes for each table\n",
    "# [1..4, 5..8, 9..12, 13..16, 17..20]\n",
    "chairs_per_table = n_chairs // n_tables\n",
    "tables = [list(range(start, start + chairs_per_table))\n",
    "          for start in range(1, n_chairs + 1, chairs_per_table)]\n",
    "\n",
    "# Model\n",
    "model = cp.Model()\n",
    "\n",
    "# Viewpoint 1: Students as vars\n",
    "students = cp.intvar(1, n_chairs, shape=n_students)  # chair of each student\n",
    "\n",
    "# Constraint: Each student seats at a different chair\n",
    "# (easier with viewpoint 1)\n",
    "model.add(cp.AllDifferent(students))\n",
    "\n",
    "# Viewpoint 2: Chairs as vars\n",
    "chairs = cp.intvar(0, n_students, shape=n_chairs)  # 0 means empty chair, otherwise the student on this chair\n",
    "\n",
    "# Constraint: Each table must have either at least half or no chairs occupied\n",
    "# (easier with viewpoint 2)\n",
    "for table in tables:\n",
    "  # which chair variables represent the current table\n",
    "  subset_chairs = [chairs[c - 1] for c in table]\n",
    "\n",
    "  all_empty = cp.sum(subset_chairs) == 0\n",
    "  at_least_half_occupied = cp.Count(subset_chairs, 0) <= (len(table) // 2)\n",
    "  model.add(all_empty | at_least_half_occupied)\n",
    "\n",
    "# Channeling: At this point we have modeled half of the constraints with the\n",
    "# vars of vp1 and half with those of vp2. We need to merge the two viewpoints.\n",
    "# For each student, the chair of this student from vp1 has to point to this student in vp2\n",
    "for i in range(n_students):\n",
    "  chair_index = students[i] - 1\n",
    "  model.add(chairs[chair_index] == i + 1)\n",
    "\n",
    "# Solve the model\n",
    "solved = solve_with_time(model)\n",
    "\n",
    "if solved:\n",
    "  print(\"Solution found:\")\n",
    "  print(f\"Chair of each student: {students.value()}\")\n",
    "\n",
    "  for i, table in enumerate(tables):\n",
    "    print(f\"Table {i+1}: \", end=\"\")\n",
    "    subset_chairs = [chairs[c - 1] for c in table]\n",
    "    for chair in subset_chairs:\n",
    "      if chair.value() != 0:\n",
    "        print(f\"{chair.value()} \", end=\"\")\n",
    "    print()\n"
   ]
  },
  {
   "cell_type": "markdown",
   "metadata": {
    "id": "9ok175ycgvEy"
   },
   "source": [
    "## **3. Auxiliary Variables**\n",
    "\n",
    "Auxiliary variables can help in expressing complex constraints more naturally and clearly. They can be useful when establishing relationships between decision variables and additional properties or constraints, making it easier to formulate constraints. So, they are used:\n",
    "\n",
    "* Because it is difficult to express the constraints in terms of the existing variables, or\n",
    "* To allow the constraints to be expressed in a form that would propagate better."
   ]
  },
  {
   "cell_type": "markdown",
   "metadata": {
    "id": "CzyfBJgfLvgK"
   },
   "source": [
    "**Car Sequencing**\n",
    "\n",
    "Imagine an assembly line producing different types of cars, each with optional features (e.g. air-conditioning, sunroof etc.). Each station on the assembly line handles a specific feature and has a limited capacity, meaning it can only work on a certain percentage of the cars that pass through.\n",
    "\n",
    "To prevent any station from being overwhelmed, cars must be arranged in a sequence so that the number of cars needing a particular feature never exceeds the station's capacity. For example, if a station can only handle half of the cars that pass by, then at most 1 out of every 2 cars in the sequence should require that feature.\n",
    "\n",
    "A model of this problem is also available in the slides of lecture 5, page 23.\n",
    "Try to model it without looking at the slides first."
   ]
  },
  {
   "cell_type": "code",
   "execution_count": 6,
   "metadata": {
    "colab": {
     "base_uri": "https://localhost:8080/"
    },
    "id": "ZeE5QbZIIlS2",
    "outputId": "35b8564a-bccc-4485-bbd6-b8fcf27032ef"
   },
   "outputs": [
    {
     "name": "stdout",
     "output_type": "stream",
     "text": [
      "Time elapsed: 0.0205 seconds\n",
      "Sequence:  0 2 4 3 5 1 5 2 4 3 \n",
      "------------------------------\n",
      "Option 1:  1 0 1 0 1 0 1 0 1 0 \n",
      "Option 2:  0 1 0 1 1 0 1 1 0 1 \n",
      "Option 3:  1 0 1 0 0 0 0 0 1 0 \n",
      "Option 4:  1 0 0 1 0 1 0 0 0 1 \n",
      "Option 5:  0 1 0 0 0 0 0 1 0 0 \n"
     ]
    }
   ],
   "source": [
    "# Data\n",
    "at_most = [1, 2, 2, 2, 1]  # The maximum number of times an option can be present in a group of consecutive timeslots (see 'per_slots' below)\n",
    "per_slots = [2, 3, 3, 5, 5]  # The number of consecutive timeslots (window) in which an option has a limit (see 'at_most' above)\n",
    "\n",
    "demand = [1, 1, 2, 2, 2, 2]  # The demand per type of car\n",
    "requires = cp.cpm_array([\n",
    "    [1, 0, 1, 1, 0],\n",
    "    [0, 0, 0, 1, 0],\n",
    "    [0, 1, 0, 0, 1],\n",
    "    [0, 1, 0, 1, 0],\n",
    "    [1, 0, 1, 0, 0],\n",
    "    [1, 1, 0, 0, 0]])  # Which options (columns) are needed for each car type (rows).\n",
    "\n",
    "n_cars = sum(demand)  # The amount of cars to sequence\n",
    "n_options = len(at_most)  # The amount of different options\n",
    "n_types = len(demand)  # The amount of different car types\n",
    "\n",
    "# Decision Variables\n",
    "sequence = cp.intvar(0, n_types - 1, shape=n_cars)  # The sequence of cars\n",
    "option = cp.boolvar(shape=(n_cars, n_options))  # Sequence of different options based on the car type\n",
    "\n",
    "# Model\n",
    "car_seq_model = cp.Model()\n",
    "\n",
    "# The amount of each type of car in the sequence has to be equal to the demand for that type\n",
    "car_seq_model.add(cp.GlobalCardinalityCount(sequence, list(range(n_types)), demand))\n",
    "\n",
    "# Make sure that the options in the table correspond to those of the car type\n",
    "for s in range(n_cars):\n",
    "    car_seq_model.add([option[s, o] == requires[sequence[s], o] for o in range(n_options)])\n",
    "\n",
    "# Check that no more than \"at most\" car options are used per \"per_slots\" slots\n",
    "for o in range(n_options):\n",
    "    for s in range(n_cars - per_slots[o] + 1):\n",
    "        slot_range = range(s, s + per_slots[o])\n",
    "        car_seq_model.add((cp.sum(option[slot_range, o]) <= at_most[o]))\n",
    "\n",
    "solve_with_time(car_seq_model)\n",
    "\n",
    "print(\"Sequence:\", end=\"  \")\n",
    "for s in sequence.value():\n",
    "    print(s, end=\" \")\n",
    "print()\n",
    "print('------------------------------')\n",
    "\n",
    "for idx, row in enumerate(option.value().T):\n",
    "    row_int = [int(x) for x in row]\n",
    "    print(f\"Option {idx + 1}: \", end=\" \")\n",
    "    for x in row_int:\n",
    "        print(x, end=\" \")\n",
    "    print()"
   ]
  },
  {
   "cell_type": "markdown",
   "metadata": {
    "id": "lvUurKDThEQK"
   },
   "source": [
    "For reference, here is a solution of this problem:\n",
    "\n",
    "```\n",
    "Sequence:  0 2 5 1 5 3 4 2 3 4\n",
    "------------------------------\n",
    "Option 1:  1 0 1 0 1 0 1 0 0 1\n",
    "Option 2:  0 1 1 0 1 1 0 1 1 0\n",
    "Option 3:  1 0 0 0 0 0 1 0 0 1\n",
    "Option 4:  1 0 0 1 0 1 0 0 1 0\n",
    "Option 5:  0 1 0 0 0 0 0 1 0 0\n",
    "```"
   ]
  },
  {
   "cell_type": "markdown",
   "metadata": {
    "id": "bbwmSQpnHC1k"
   },
   "source": [
    "## **4. Implied Constraints**\n",
    "\n",
    "As taken from the lecture slides:\n",
    "\n",
    "Can we do something to make our model quicker?\n",
    "During the search process, the solver will explore several infeasible parts of the search tree. Can we avoid that?\n",
    "Although implied constraints are logically redundant, and do not change the set of solutions, they can be used to reduce the search effort of the solving process."
   ]
  },
  {
   "cell_type": "markdown",
   "metadata": {
    "id": "kgzRMORwZ3zt"
   },
   "source": [
    "Consider the **Magic Series problem**, also seen at lecture 5, page 29:\n",
    "\n",
    "The element at index i in I = 0..(n-1) is the number of occurrences of i, for an integer n. Create a model that finds a magic series for n = 100.\n",
    "\n",
    "Print the time taken to solve this model."
   ]
  },
  {
   "cell_type": "code",
   "execution_count": 7,
   "metadata": {
    "colab": {
     "base_uri": "https://localhost:8080/"
    },
    "id": "Aefd0vDm-JTg",
    "outputId": "c482f0ad-05f0-48bd-8427-bab6a3a6e3d0"
   },
   "outputs": [
    {
     "name": "stdout",
     "output_type": "stream",
     "text": [
      "Time elapsed: 4.1676 seconds\n",
      "[96  2  1  0  0  0  0  0  0  0  0  0  0  0  0  0  0  0  0  0  0  0  0  0\n",
      "  0  0  0  0  0  0  0  0  0  0  0  0  0  0  0  0  0  0  0  0  0  0  0  0\n",
      "  0  0  0  0  0  0  0  0  0  0  0  0  0  0  0  0  0  0  0  0  0  0  0  0\n",
      "  0  0  0  0  0  0  0  0  0  0  0  0  0  0  0  0  0  0  0  0  0  0  0  0\n",
      "  1  0  0  0]\n"
     ]
    }
   ],
   "source": [
    "n = 100\n",
    "\n",
    "# Decision Variables\n",
    "Magic = cp.intvar(0, n, shape=n)\n",
    "\n",
    "model = cp.Model(cp.GlobalCardinalityCount(Magic, list(range(n)), Magic))\n",
    "\n",
    "solve_with_time(model)\n",
    "\n",
    "print(Magic.value())"
   ]
  },
  {
   "cell_type": "markdown",
   "metadata": {
    "id": "5qPUmWsUZIwH"
   },
   "source": [
    "We can significantly improve solving time by adding implied constraints.\n",
    "\n",
    "Add implied constraints (try it initially without looking at them in the slides), and compare the time taken to solve the new model with the above one."
   ]
  },
  {
   "cell_type": "code",
   "execution_count": 8,
   "metadata": {
    "colab": {
     "base_uri": "https://localhost:8080/"
    },
    "id": "gNCtkF2TGF79",
    "outputId": "2adaf522-806a-4130-c9d5-9b8e269f3a16"
   },
   "outputs": [
    {
     "name": "stdout",
     "output_type": "stream",
     "text": [
      "Time elapsed: 0.8224 seconds\n",
      "[96  2  1  0  0  0  0  0  0  0  0  0  0  0  0  0  0  0  0  0  0  0  0  0\n",
      "  0  0  0  0  0  0  0  0  0  0  0  0  0  0  0  0  0  0  0  0  0  0  0  0\n",
      "  0  0  0  0  0  0  0  0  0  0  0  0  0  0  0  0  0  0  0  0  0  0  0  0\n",
      "  0  0  0  0  0  0  0  0  0  0  0  0  0  0  0  0  0  0  0  0  0  0  0  0\n",
      "  1  0  0  0]\n"
     ]
    }
   ],
   "source": [
    "# Implied constraints\n",
    "model.add(n == cp.sum(Magic))\n",
    "model.add(n == cp.sum([i * Magic[i] for i in range(n)]))\n",
    "\n",
    "solve_with_time(model)\n",
    "\n",
    "print(Magic.value())"
   ]
  },
  {
   "cell_type": "markdown",
   "metadata": {
    "id": "iXa9LbY_Uf2x"
   },
   "source": [
    "## **5. Extra Exercises**"
   ]
  },
  {
   "cell_type": "markdown",
   "metadata": {
    "id": "cM3a-R1tIlD0"
   },
   "source": [
    "### Auxiliary Variables: Orthogonal Latin Squares\n",
    "\n",
    "Consider the [Orthogonal Latin Squares](https://en.wikipedia.org/wiki/Mutually_orthogonal_Latin_squares) problem:\n",
    "\n",
    "A Latin square is an $ n \\times n $ array filled with $n$ different symbols, each occurring exactly once in each row and exactly once in each column. In other words, a Latin Square is a square grid where:\n",
    "\n",
    "* Each row contains all $n$ distinct symbols exactly once.\n",
    "* Each column contains all $n$ distinct symbols exactly once.\n",
    "* No symbol appears twice in the same row or column.\n",
    "\n",
    "Two Latin squares are said to be orthogonal if, when placed on top of each other, each possible combination of their symbols appears exactly once.\n",
    "\n",
    "**Instructions:**\n",
    "\n",
    "You have a set of $ n $ integers (0..n-1), and your task is to construct two $ n \\times n $ Latin squares that are orthogonal.\n",
    "\n",
    "1. Define decision variables for the Latin squares.\n",
    "2. Introduce auxiliary variables to represent each cell's pairing from both Latin squares.\n",
    "3. Ensure that each pairing is unique across the entire grid."
   ]
  },
  {
   "cell_type": "code",
   "execution_count": 9,
   "metadata": {
    "colab": {
     "base_uri": "https://localhost:8080/"
    },
    "id": "d0yM5Be4d9iY",
    "outputId": "8122f3db-0978-407c-a10a-656205d1ecce"
   },
   "outputs": [
    {
     "name": "stdout",
     "output_type": "stream",
     "text": [
      "Time elapsed: 0.9241 seconds\n",
      "Solution found:\n",
      "Square 1:\n",
      "[[0 6 5 1 2 4 3]\n",
      " [5 1 3 4 6 0 2]\n",
      " [3 5 2 0 1 6 4]\n",
      " [4 0 6 5 3 2 1]\n",
      " [6 3 4 2 0 1 5]\n",
      " [2 4 1 6 5 3 0]\n",
      " [1 2 0 3 4 5 6]]\n",
      "Square 2:\n",
      "[[0 3 5 4 6 2 1]\n",
      " [3 1 6 0 2 4 5]\n",
      " [5 4 2 6 0 1 3]\n",
      " [1 5 0 2 4 3 6]\n",
      " [6 2 4 1 3 5 0]\n",
      " [4 6 3 5 1 0 2]\n",
      " [2 0 1 3 5 6 4]]\n",
      "Pairings:\n",
      "[[ 0 45 40 11 20 30 22]\n",
      " [38  8 27 28 44  4 19]\n",
      " [26 39 16  6  7 43 31]\n",
      " [29  5 42 37 25 17 13]\n",
      " [48 23 32 15  3 12 35]\n",
      " [18 34 10 47 36 21  2]\n",
      " [ 9 14  1 24 33 41 46]]\n"
     ]
    }
   ],
   "source": [
    "n = 7  # Size of the Latin square, and number of symbols\n",
    "\n",
    "# Decision variables for two Latin squares\n",
    "square1 = cp.intvar(0, n-1, shape=(n, n), name=\"square1\")\n",
    "square2 = cp.intvar(0, n-1, shape=(n, n), name=\"square2\")\n",
    "\n",
    "# Auxiliary variables to combine symbols from both squares\n",
    "pairing = cp.intvar(0, n*n-1, shape=(n, n), name=\"pairing\")\n",
    "\n",
    "# Model\n",
    "model = cp.Model()\n",
    "\n",
    "# Latin square constraints: all rows and columns should be all different for both squares\n",
    "for i in range(n):\n",
    "    model.add([cp.AllDifferent(square1[i, :]), cp.AllDifferent(square1[:, i])])\n",
    "    model.add([cp.AllDifferent(square2[i, :]), cp.AllDifferent(square2[:, i])])\n",
    "\n",
    "# Define the pairings\n",
    "for i in range(n):\n",
    "    for j in range(n):\n",
    "        model.add(pairing[i, j] == n * square1[i, j] + square2[i, j])\n",
    "\n",
    "# All pairings should be unique\n",
    "model.add(cp.AllDifferent(pairing.flatten()))\n",
    "\n",
    "# Solve the model\n",
    "solved = solve_with_time(model)\n",
    "\n",
    "if solved:\n",
    "    print(\"Solution found:\")\n",
    "    print(\"Square 1:\")\n",
    "    print(square1.value())\n",
    "    print(\"Square 2:\")\n",
    "    print(square2.value())\n",
    "    print(\"Pairings:\")\n",
    "    print(pairing.value())\n",
    "else:\n",
    "    print(\"No solution found.\")"
   ]
  },
  {
   "cell_type": "markdown",
   "metadata": {
    "id": "-A4m8U-zmaBv"
   },
   "source": [
    "Now, to see the benefit of auxiliary variables, try to model the same problem but without using `pairings`. The orthogonality constraint needs to be formulated directly over the square variables. This is more complicated to model, and possibly also slower for the solver (check the run time)."
   ]
  },
  {
   "cell_type": "code",
   "execution_count": 10,
   "metadata": {
    "colab": {
     "base_uri": "https://localhost:8080/"
    },
    "id": "xEybyAKjhGv2",
    "outputId": "2109f15f-8180-4bdf-9f87-39fb2ef24568"
   },
   "outputs": [
    {
     "name": "stdout",
     "output_type": "stream",
     "text": [
      "Time elapsed: 3.4399 seconds\n",
      "Solution found:\n",
      "Square 1:\n",
      "[[6 3 4 2 1 0 5]\n",
      " [2 1 0 4 5 3 6]\n",
      " [3 2 5 1 4 6 0]\n",
      " [5 0 2 6 3 4 1]\n",
      " [4 5 3 0 6 1 2]\n",
      " [0 6 1 3 2 5 4]\n",
      " [1 4 6 5 0 2 3]]\n",
      "Square 2:\n",
      "[[5 0 3 6 1 2 4]\n",
      " [2 5 1 4 0 3 6]\n",
      " [4 1 6 3 2 0 5]\n",
      " [3 4 0 1 6 5 2]\n",
      " [1 2 5 0 4 6 3]\n",
      " [6 3 4 2 5 1 0]\n",
      " [0 6 2 5 3 4 1]]\n"
     ]
    }
   ],
   "source": [
    "n = 7  # Size of the Latin square, and number of symbols\n",
    "\n",
    "# Decision variables for two Latin squares\n",
    "square1 = cp.intvar(0, n-1, shape=(n, n), name=\"square1\")\n",
    "square2 = cp.intvar(0, n-1, shape=(n, n), name=\"square2\")\n",
    "\n",
    "# Model\n",
    "model_no_aux = cp.Model()\n",
    "\n",
    "# Latin square constraints: all rows and columns should be all different for both squares\n",
    "for i in range(n):\n",
    "    model_no_aux.add([cp.AllDifferent(square1[i, :]), cp.AllDifferent(square1[:, i])])\n",
    "    model_no_aux.add([cp.AllDifferent(square2[i, :]), cp.AllDifferent(square2[:, i])])\n",
    "\n",
    "# Orthogonality constraint: Ensure each combination is unique by pair-wise comparing all pairs\n",
    "pairs = [(i, j) for i in range(n) for j in range(n)]\n",
    "for idx1, (i1, j1) in enumerate(pairs):\n",
    "    for idx2, (i2, j2) in enumerate(pairs):\n",
    "        if idx1 < idx2:\n",
    "            # Ensure that no two different positions result in the same pair (square1, square2)\n",
    "            model_no_aux.add((square1[i1, j1] != square1[i2, j2]) | (square2[i1, j1] != square2[i2, j2]))\n",
    "\n",
    "# Solve the model\n",
    "solved = solve_with_time(model_no_aux, time_limit=30)  # limit to 30 seconds\n",
    "\n",
    "if solved:\n",
    "    print(\"Solution found:\")\n",
    "    print(\"Square 1:\")\n",
    "    print(square1.value())\n",
    "    print(\"Square 2:\")\n",
    "    print(square2.value())\n",
    "else:\n",
    "    print(\"No solution found.\")"
   ]
  },
  {
   "cell_type": "markdown",
   "metadata": {
    "id": "_0rv1rCubLly"
   },
   "source": [
    "### Implied Constraints: Car Sequencing"
   ]
  },
  {
   "cell_type": "markdown",
   "metadata": {
    "id": "9bruyF94P7AC"
   },
   "source": [
    "Consider again the Car Sequencing problem. Add the implied constraints that are recommended in the slides of lecture 5, page 27.\n",
    "\n",
    "For more details on the implied constraints of Car Sequencing, see this [article](https://www.researchgate.net/publication/220838036_Solving_the_Car_Sequencing_Problem_in_Constraint_Logic_Programming#fullTextFileContent), Pages 8-9."
   ]
  },
  {
   "cell_type": "code",
   "execution_count": 11,
   "metadata": {
    "colab": {
     "base_uri": "https://localhost:8080/"
    },
    "id": "gAJeZRjSP9J9",
    "outputId": "53ce5f25-2326-4c53-8325-334ca2e8fce7"
   },
   "outputs": [
    {
     "name": "stdout",
     "output_type": "stream",
     "text": [
      "Time elapsed: 0.0293 seconds\n",
      "Sequence:  0 1 5 2 4 3 3 4 2 5 \n",
      "------------------------------\n",
      "Option 1:  1 0 1 0 1 0 0 1 0 1 \n",
      "Option 2:  0 0 1 1 0 1 1 0 1 1 \n",
      "Option 3:  1 0 0 0 1 0 0 1 0 0 \n",
      "Option 4:  1 1 0 0 0 1 1 0 0 0 \n",
      "Option 5:  0 0 0 1 0 0 0 0 1 0 \n"
     ]
    }
   ],
   "source": [
    "# Implied constraints: Ensure we don’t stay too far below capacity\n",
    "for o in range(n_options):\n",
    "  # Total number of cars requiring this option\n",
    "  M = sum([demand[car_type] * requires[car_type, o] for car_type in range(n_types)])\n",
    "\n",
    "  # Total number of cars\n",
    "  N = sum(demand)\n",
    "\n",
    "  M_i = at_most[o]\n",
    "  N_i = per_slots[o]\n",
    "\n",
    "  k=0\n",
    "  while (M - k*M_i) >= 0:\n",
    "    car_seq_model.add(cp.sum(option[:N - k * N_i, o]) >= M - k * M_i)\n",
    "    k += 1\n",
    "\n",
    "solve_with_time(car_seq_model)\n",
    "\n",
    "print(\"Sequence:\", end=\"  \")\n",
    "for s in sequence.value():\n",
    "    print(s, end=\" \")\n",
    "print()\n",
    "print('------------------------------')\n",
    "\n",
    "for idx, row in enumerate(option.value().T):\n",
    "    row_int = [int(x) for x in row]\n",
    "    print(f\"Option {idx + 1}: \", end=\" \")\n",
    "    for x in row_int:\n",
    "        print(x, end=\" \")\n",
    "    print()"
   ]
  }
 ],
 "metadata": {
  "colab": {
   "provenance": [],
   "toc_visible": true
  },
  "kernelspec": {
   "display_name": "Python (conda base)",
   "language": "python",
   "name": "base"
  },
  "language_info": {
   "codemirror_mode": {
    "name": "ipython",
    "version": 3
   },
   "file_extension": ".py",
   "mimetype": "text/x-python",
   "name": "python",
   "nbconvert_exporter": "python",
   "pygments_lexer": "ipython3",
   "version": "3.13.2"
  }
 },
 "nbformat": 4,
 "nbformat_minor": 1
}
