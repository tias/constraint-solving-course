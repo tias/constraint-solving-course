{
 "cells": [
  {
   "cell_type": "code",
   "execution_count": null,
   "outputs": [],
   "source": [
    "# Imports\n",
    "!pip install --upgrade cpmpy --quiet\n",
    "!pip install matplotlib --quiet\n",
    "import cpmpy as cp\n",
    "import numpy as np\n",
    "import matplotlib.pyplot as plt"
   ],
   "metadata": {
    "collapsed": false
   }
  },
  {
   "cell_type": "markdown",
   "metadata": {
    "collapsed": false
   },
   "source": [
    "**Useful Resources:**\n",
    "* CPMpy summary sheet: https://cpmpy.readthedocs.io/en/latest/summary.html\n",
    "* CPMpy modeling documentation: https://cpmpy.readthedocs.io/en/latest/modeling.html\n",
    "\n",
    "\n",
    "# Session 5: symmetry and dominance breaking\n",
    "\n",
    "## Exercise 1: grocery store prices\n",
    "A kid goes into a grocery store and buys four items. The cashier charges €7.11,\n",
    "the kid pays and is about to leave when the cashier calls the kid back, and says\n",
    "\"Hold on, I multiplied the four items instead of adding them; I'll try again; Hah,\n",
    "with adding them the price still comes to €7.11\". What were the prices of the\n",
    "four items?\n",
    "Write a model that solves the problem. Use solveAll to find all the solutions\n",
    "\n",
    "Hint: CPMpy does not work well with floating point numbers, think about how to convert them to integers"
   ]
  },
  {
   "cell_type": "code",
   "execution_count": null,
   "metadata": {
    "collapsed": true
   },
   "outputs": [],
   "source": [
    "#example code, change this\n",
    "a,b = cp.intvar(1,5, shape=2, name=list(\"ab\"))\n",
    "model = cp.Model(a + b > 5)\n",
    "model.solveAll(display=[a,b])"
   ]
  },
  {
   "cell_type": "markdown",
   "source": [
    "Now think about the possible symmetric solutions and add the corresponding constraints to exclude them from the satisfying assignments.\n",
    "Find all solutions to check that there are no symmetric solutions among the possible ones.\n",
    "What kind of symmetries are present in this problem, is it a problem, instance or model symmetry?\n",
    "Value or variables symmetry?"
   ],
   "metadata": {
    "collapsed": false
   }
  },
  {
   "cell_type": "code",
   "execution_count": null,
   "outputs": [],
   "source": [
    "# add symmetry breaking constraints here"
   ],
   "metadata": {
    "collapsed": false
   }
  },
  {
   "cell_type": "markdown",
   "metadata": {
    "collapsed": false
   },
   "source": [
    "## Exercise 2\n",
    "We want to climb a stair of n steps: we can move up one step at a time or take\n",
    "two steps at a time (you can generalize to m steps at a time). We are interested\n",
    "in the possible combinations of steps taken each time to get to the top of the staircase.\n",
    "For example, a stair of 4 steps with m=2 can be climbed with a sequence of\n",
    "four one-step moves or with two two-step moves. Define a model that\n",
    "finds all the possible combinations of moves of size 1, 2 up to m to climb a staircase\n",
    "of size n.\n",
    "For n=4 and m=2 the solutions without symmetries for example are:\n",
    "1111\n",
    "112\n",
    "121\n",
    "211\n",
    "22\n"
   ]
  },
  {
   "cell_type": "code",
   "execution_count": null,
   "metadata": {
    "collapsed": false
   },
   "outputs": [],
   "source": []
  },
  {
   "cell_type": "markdown",
   "source": [
    "Think about all the possible symmetric solutions\n",
    "Is it a problem, instance or model symmetry? Value or variables symmetry?\n",
    "Add constraints that break these symmetries.\n",
    "Make sure to set the solver to find all solutions in order to verify that your model does not lead to symmetric solutions."
   ],
   "metadata": {
    "collapsed": false
   }
  },
  {
   "cell_type": "code",
   "execution_count": null,
   "outputs": [],
   "source": [
    "# add symmetry breaking\n"
   ],
   "metadata": {
    "collapsed": false
   }
  },
  {
   "cell_type": "markdown",
   "source": [
    "Assume now that we do not care for the order of the sequence of steps: Thus 112 and 121 would be symmetric solutions. Can we break these symmetries by reformulation?\n"
   ],
   "metadata": {
    "collapsed": false
   }
  },
  {
   "cell_type": "code",
   "execution_count": null,
   "outputs": [],
   "source": [],
   "metadata": {
    "collapsed": false
   }
  },
  {
   "cell_type": "markdown",
   "metadata": {
    "collapsed": false
   },
   "source": [
    "## Exercise 3\n",
    "We revisit the RCPSP problem from exercise session 3, with a few changes.\n",
    "A number of activities are to be scheduled. Each activity has a duration and cannot be interrupted. There are no precedence relations between activities. There are 2 renewable resources, each with a maximum capacity of 1, ensuring no more than 1 unit of each resource can be in use at any given time slot. Each activity has a demand on each resource.\n",
    "Minimize the starting time of the last activity.\n",
    "What (types of) symmetries do you see?\n",
    "Is there any dominance breaking possible?\n"
   ]
  },
  {
   "cell_type": "code",
   "execution_count": null,
   "metadata": {
    "collapsed": false
   },
   "outputs": [],
   "source": [
    "## Data, there are 12 tasks to be scheduled, with 2 resources that can be used.\n",
    "# Task durations\n",
    "durations = cp.cpm_array([3, 3, 3, 3, 4, 4, 4, 4, 5, 5, 5, 5])\n",
    "# resources needed by the tasks\n",
    "resource_needs = cp.cpm_array([[1, 0], [1, 0], [1, 0], [1, 0], [0, 1], [0, 1], [0, 1], [0, 1], [1, 0], [1, 0], [1, 0], [1, 0]])\n",
    "# Total resource capacity\n",
    "resource_capacities = cp.cpm_array([1, 1])\n",
    "nb_resource = len(resource_capacities)\n",
    "nb_jobs = len(durations)\n",
    "max_duration = sum(durations)  # dummy upper bound, can be improved of course\n",
    "\n",
    "start_time = cp.intvar(0, max_duration, shape=nb_jobs)\n",
    "\n",
    "model = cp.Model()"
   ]
  },
  {
   "cell_type": "code",
   "execution_count": null,
   "metadata": {
    "collapsed": false
   },
   "outputs": [],
   "source": [
    "# Visualize the RCPSP solution\n",
    "model.solve()\n",
    "\n",
    "# Get the solution values\n",
    "start_times = start_time.value()\n",
    "print(start_times)\n",
    "end_times = start_times + np.array(durations)\n",
    "\n",
    "# Create a figure and axis\n",
    "fig, (ax1, ax2) = plt.subplots(2, 1, figsize=(12, 10), gridspec_kw={'height_ratios': [3, 1]})\n",
    "\n",
    "# Define colors for each resource\n",
    "colors = ['#FF9999', '#66B2FF']\n",
    "\n",
    "# Plot each task as a horizontal bar\n",
    "for i in range(nb_jobs):\n",
    "    if durations[i] > 0:  # Skip tasks with zero duration\n",
    "        ax1.barh(i, durations[i], left=start_times[i], height=0.5,\n",
    "                 color=colors[np.argmax(resource_needs[i])],\n",
    "                 alpha=0.8, edgecolor='black')\n",
    "\n",
    "        # Add task labels\n",
    "        ax1.text(start_times[i], i, f'Task {i}', va='center', ha='right', fontweight='bold')\n",
    "\n",
    "# Customize the task plot\n",
    "ax1.set_xlabel('Time')\n",
    "ax1.set_ylabel('Tasks')\n",
    "ax1.set_title('RCPSP Solution Visualization')\n",
    "ax1.set_ylim(-1, nb_jobs)\n",
    "ax1.invert_yaxis()  # Invert y-axis to have task 0 at the top\n",
    "\n",
    "# Add a legend for tasks\n",
    "legend_elements = [plt.Rectangle((0,0),1,1, facecolor=colors[i], edgecolor='black', alpha=0.8, label=f'Resource {i+1}') for i in range(nb_resource)]\n",
    "ax1.legend(handles=legend_elements, loc='upper right')\n",
    "\n",
    "# Show the grid for tasks\n",
    "ax1.grid(True, axis='x', linestyle='--', alpha=0.7)\n",
    "\n",
    "# Calculate total resource usage over time\n",
    "max_time = max(end_times)\n",
    "resource_usage = np.zeros((nb_resource, max_time + 1))\n",
    "for i in range(nb_jobs):\n",
    "    for t in range(start_times[i], end_times[i]):\n",
    "        for r in range(nb_resource):\n",
    "            resource_usage[r, t] += resource_needs[i, r]\n",
    "\n",
    "# Plot total resource usage\n",
    "for r in range(nb_resource):\n",
    "    ax2.plot(range(max_time + 1), resource_usage[r], label=f'Resource {r+1}', color=colors[r])\n",
    "\n",
    "# Plot maximal allowed usage\n",
    "for r in range(nb_resource):\n",
    "    ax2.axhline(y=resource_capacities[r], color=colors[r], linestyle='--',\n",
    "                label=f'Max Resource {r+1}')\n",
    "\n",
    "ax2.set_xlabel('Time')\n",
    "ax2.set_ylabel('Total Resource Usage')\n",
    "ax2.set_title('Total Resource Usage Over Time')\n",
    "ax2.legend()\n",
    "ax2.grid(True, linestyle='--', alpha=0.7)\n",
    "\n",
    "# Adjust layout and display the plot\n",
    "plt.tight_layout()\n",
    "plt.show()\n",
    "\n",
    "# Print the makespan (total project duration)\n",
    "print(f\"Makespan: {max(end_times)}\")\n"
   ]
  },
  {
   "cell_type": "code",
   "execution_count": null,
   "metadata": {
    "collapsed": false
   },
   "outputs": [],
   "source": []
  },
  {
   "cell_type": "markdown",
   "source": [
    "## Exercise 4\n",
    "A heterosquare of order n is a n*n square whose elements are distinct integers from\n",
    "1 to n^2 such that the sums of the rows, columns and diagonals are all different.\n",
    "Here is an example of heterosquare of order 3\n",
    "```\n",
    "           19\n",
    "\n",
    "1  2  3    6\n",
    "8  9  4    21\n",
    "7  6  5    18\n",
    "\n",
    "16 17 12   15  (Sums)\n",
    "```\n",
    "Write a CPMpy Model to solve a heterosquare of order n, and think about the symmetries in its solutions.\n",
    "hint: without symmetry breaking there are 24960 solutions, with symmetry breaking 3120."
   ],
   "metadata": {
    "collapsed": false
   }
  },
  {
   "cell_type": "code",
   "execution_count": null,
   "outputs": [],
   "source": [],
   "metadata": {
    "collapsed": false
   }
  },
  {
   "cell_type": "markdown",
   "source": [
    "## Exercise 5\n",
    "Balanced Incomplete Block Design (BIBD)\n",
    "\n",
    "A BIBD is defined as an arrangement of $v$ distinct objects into b blocks such that each block contains exactly $k$ distinct objects, each object occurs in exactly $r$ different blocks, and every two distinct objects occur together in exactly lambda blocks. Another way of defining a BIBD is in terms of its incidence matrix, which is a $v$ by $b$ binary matrix with exactly $r$ ones per row, $k$ ones per column, and with a scalar product of lambda $l$ between any pair of distinct rows.\n",
    "\n",
    "Write a CPMpy Model to solve a BIBD and solve the problem with the following data:"
   ],
   "metadata": {
    "collapsed": false
   }
  },
  {
   "cell_type": "code",
   "execution_count": 6,
   "outputs": [],
   "source": [
    "# Data\n",
    "v,b = 7,7\n",
    "r,k = 3,3\n",
    "l = 1"
   ],
   "metadata": {
    "collapsed": false
   }
  },
  {
   "cell_type": "markdown",
   "source": [
    "Find all solutions of the problem. (don't print all solutions; it has too many)\n"
   ],
   "metadata": {
    "collapsed": false
   }
  },
  {
   "cell_type": "code",
   "execution_count": 11,
   "outputs": [
    {
     "name": "stdout",
     "output_type": "stream",
     "text": [
      "Constraints:\n",
      "    [sum([block[0,0], block[0,1], block[0,2], block[0,3], block[0,4], block[0,5], block[0,6]]) == 3, sum([block[1,0], block[1,1], block[1,2], block[1,3], block[1,4], block[1,5], block[1,6]]) == 3, sum([block[2,0], block[2,1], block[2,2], block[2,3], block[2,4], block[2,5], block[2,6]]) == 3, sum([block[3,0], block[3,1], block[3,2], block[3,3], block[3,4], block[3,5], block[3,6]]) == 3, sum([block[4,0], block[4,1], block[4,2], block[4,3], block[4,4], block[4,5], block[4,6]]) == 3, sum([block[5,0], block[5,1], block[5,2], block[5,3], block[5,4], block[5,5], block[5,6]]) == 3, sum([block[6,0], block[6,1], block[6,2], block[6,3], block[6,4], block[6,5], block[6,6]]) == 3]\n",
      "    [sum([block[0,0], block[1,0], block[2,0], block[3,0], block[4,0], block[5,0], block[6,0]]) == 3, sum([block[0,1], block[1,1], block[2,1], block[3,1], block[4,1], block[5,1], block[6,1]]) == 3, sum([block[0,2], block[1,2], block[2,2], block[3,2], block[4,2], block[5,2], block[6,2]]) == 3, sum([block[0,3], block[1,3], block[2,3], block[3,3], block[4,3], block[5,3], block[6,3]]) == 3, sum([block[0,4], block[1,4], block[2,4], block[3,4], block[4,4], block[5,4], block[6,4]]) == 3, sum([block[0,5], block[1,5], block[2,5], block[3,5], block[4,5], block[5,5], block[6,5]]) == 3, sum([block[0,6], block[1,6], block[2,6], block[3,6], block[4,6], block[5,6], block[6,6]]) == 3]\n",
      "    sum([(block[0,0]) * (block[1,0]), (block[0,1]) * (block[1,1]), (block[0,2]) * (block[1,2]), (block[0,3]) * (block[1,3]), (block[0,4]) * (block[1,4]), (block[0,5]) * (block[1,5]), (block[0,6]) * (block[1,6])]) == 1\n",
      "    sum([(block[0,0]) * (block[2,0]), (block[0,1]) * (block[2,1]), (block[0,2]) * (block[2,2]), (block[0,3]) * (block[2,3]), (block[0,4]) * (block[2,4]), (block[0,5]) * (block[2,5]), (block[0,6]) * (block[2,6])]) == 1\n",
      "    sum([(block[0,0]) * (block[3,0]), (block[0,1]) * (block[3,1]), (block[0,2]) * (block[3,2]), (block[0,3]) * (block[3,3]), (block[0,4]) * (block[3,4]), (block[0,5]) * (block[3,5]), (block[0,6]) * (block[3,6])]) == 1\n",
      "    sum([(block[0,0]) * (block[4,0]), (block[0,1]) * (block[4,1]), (block[0,2]) * (block[4,2]), (block[0,3]) * (block[4,3]), (block[0,4]) * (block[4,4]), (block[0,5]) * (block[4,5]), (block[0,6]) * (block[4,6])]) == 1\n",
      "    sum([(block[0,0]) * (block[5,0]), (block[0,1]) * (block[5,1]), (block[0,2]) * (block[5,2]), (block[0,3]) * (block[5,3]), (block[0,4]) * (block[5,4]), (block[0,5]) * (block[5,5]), (block[0,6]) * (block[5,6])]) == 1\n",
      "    sum([(block[0,0]) * (block[6,0]), (block[0,1]) * (block[6,1]), (block[0,2]) * (block[6,2]), (block[0,3]) * (block[6,3]), (block[0,4]) * (block[6,4]), (block[0,5]) * (block[6,5]), (block[0,6]) * (block[6,6])]) == 1\n",
      "    sum([(block[1,0]) * (block[2,0]), (block[1,1]) * (block[2,1]), (block[1,2]) * (block[2,2]), (block[1,3]) * (block[2,3]), (block[1,4]) * (block[2,4]), (block[1,5]) * (block[2,5]), (block[1,6]) * (block[2,6])]) == 1\n",
      "    sum([(block[1,0]) * (block[3,0]), (block[1,1]) * (block[3,1]), (block[1,2]) * (block[3,2]), (block[1,3]) * (block[3,3]), (block[1,4]) * (block[3,4]), (block[1,5]) * (block[3,5]), (block[1,6]) * (block[3,6])]) == 1\n",
      "    sum([(block[1,0]) * (block[4,0]), (block[1,1]) * (block[4,1]), (block[1,2]) * (block[4,2]), (block[1,3]) * (block[4,3]), (block[1,4]) * (block[4,4]), (block[1,5]) * (block[4,5]), (block[1,6]) * (block[4,6])]) == 1\n",
      "    sum([(block[1,0]) * (block[5,0]), (block[1,1]) * (block[5,1]), (block[1,2]) * (block[5,2]), (block[1,3]) * (block[5,3]), (block[1,4]) * (block[5,4]), (block[1,5]) * (block[5,5]), (block[1,6]) * (block[5,6])]) == 1\n",
      "    sum([(block[1,0]) * (block[6,0]), (block[1,1]) * (block[6,1]), (block[1,2]) * (block[6,2]), (block[1,3]) * (block[6,3]), (block[1,4]) * (block[6,4]), (block[1,5]) * (block[6,5]), (block[1,6]) * (block[6,6])]) == 1\n",
      "    sum([(block[2,0]) * (block[3,0]), (block[2,1]) * (block[3,1]), (block[2,2]) * (block[3,2]), (block[2,3]) * (block[3,3]), (block[2,4]) * (block[3,4]), (block[2,5]) * (block[3,5]), (block[2,6]) * (block[3,6])]) == 1\n",
      "    sum([(block[2,0]) * (block[4,0]), (block[2,1]) * (block[4,1]), (block[2,2]) * (block[4,2]), (block[2,3]) * (block[4,3]), (block[2,4]) * (block[4,4]), (block[2,5]) * (block[4,5]), (block[2,6]) * (block[4,6])]) == 1\n",
      "    sum([(block[2,0]) * (block[5,0]), (block[2,1]) * (block[5,1]), (block[2,2]) * (block[5,2]), (block[2,3]) * (block[5,3]), (block[2,4]) * (block[5,4]), (block[2,5]) * (block[5,5]), (block[2,6]) * (block[5,6])]) == 1\n",
      "    sum([(block[2,0]) * (block[6,0]), (block[2,1]) * (block[6,1]), (block[2,2]) * (block[6,2]), (block[2,3]) * (block[6,3]), (block[2,4]) * (block[6,4]), (block[2,5]) * (block[6,5]), (block[2,6]) * (block[6,6])]) == 1\n",
      "    sum([(block[3,0]) * (block[4,0]), (block[3,1]) * (block[4,1]), (block[3,2]) * (block[4,2]), (block[3,3]) * (block[4,3]), (block[3,4]) * (block[4,4]), (block[3,5]) * (block[4,5]), (block[3,6]) * (block[4,6])]) == 1\n",
      "    sum([(block[3,0]) * (block[5,0]), (block[3,1]) * (block[5,1]), (block[3,2]) * (block[5,2]), (block[3,3]) * (block[5,3]), (block[3,4]) * (block[5,4]), (block[3,5]) * (block[5,5]), (block[3,6]) * (block[5,6])]) == 1\n",
      "    sum([(block[3,0]) * (block[6,0]), (block[3,1]) * (block[6,1]), (block[3,2]) * (block[6,2]), (block[3,3]) * (block[6,3]), (block[3,4]) * (block[6,4]), (block[3,5]) * (block[6,5]), (block[3,6]) * (block[6,6])]) == 1\n",
      "    sum([(block[4,0]) * (block[5,0]), (block[4,1]) * (block[5,1]), (block[4,2]) * (block[5,2]), (block[4,3]) * (block[5,3]), (block[4,4]) * (block[5,4]), (block[4,5]) * (block[5,5]), (block[4,6]) * (block[5,6])]) == 1\n",
      "    sum([(block[4,0]) * (block[6,0]), (block[4,1]) * (block[6,1]), (block[4,2]) * (block[6,2]), (block[4,3]) * (block[6,3]), (block[4,4]) * (block[6,4]), (block[4,5]) * (block[6,5]), (block[4,6]) * (block[6,6])]) == 1\n",
      "    sum([(block[5,0]) * (block[6,0]), (block[5,1]) * (block[6,1]), (block[5,2]) * (block[6,2]), (block[5,3]) * (block[6,3]), (block[5,4]) * (block[6,4]), (block[5,5]) * (block[6,5]), (block[5,6]) * (block[6,6])]) == 1\n",
      "    lex_chain_less([block[0,0], block[0,1], block[0,2], block[0,3], block[0,4], block[0,5], block[0,6]],[block[1,0], block[1,1], block[1,2], block[1,3], block[1,4], block[1,5], block[1,6]],[block[2,0], block[2,1], block[2,2], block[2,3], block[2,4], block[2,5], block[2,6]],[block[3,0], block[3,1], block[3,2], block[3,3], block[3,4], block[3,5], block[3,6]],[block[4,0], block[4,1], block[4,2], block[4,3], block[4,4], block[4,5], block[4,6]],[block[5,0], block[5,1], block[5,2], block[5,3], block[5,4], block[5,5], block[5,6]],[block[6,0], block[6,1], block[6,2], block[6,3], block[6,4], block[6,5], block[6,6]])\n",
      "Objective: None\n",
      "30\n"
     ]
    }
   ],
   "source": [
    "# Variables, incidence matrix\n",
    "block = cp.boolvar(shape=(v,b), name=\"block\")\n",
    "\n",
    "# Constraints on incidence matrix\n",
    "m = cp.Model(\n",
    "        [cp.sum(row) == r for row in block],\n",
    "        [cp.sum(col) == k for col in block.T],\n",
    ")\n",
    "\n",
    "# the scalar product of every pair of distinct rows sums up to `l`\n",
    "for row_a in range(v):\n",
    "    for row_b in range(row_a+1,v):\n",
    "        m.add(cp.sum(block[row_a,:] * block[row_b,:]) == l)\n",
    "\n",
    "def print_solution():\n",
    "    # pretty print\n",
    "    print(f\"BIBD: {b} obj, {v} blocks, r={r}, k={k}, l={l}\")\n",
    "    for (i, row) in enumerate(block.value()):\n",
    "        srow = \"\".join('X ' if e else '  ' for e in row)\n",
    "        print(f\"Object {i + 1}: [ {srow}]\")\n",
    "\n",
    "sols_num = m.solveAll(solution_limit=10000)\n",
    "print(sols_num)  # we've put a solution limit of 10000"
   ],
   "metadata": {
    "collapsed": false
   }
  },
  {
   "cell_type": "markdown",
   "source": [
    "Print a few solutions and try to detect symmetric solutions. Does this problem have any symmetries? If yes, what type of symmetries? Break the symmetries and notice the reduction in the number of solutions.\n"
   ],
   "metadata": {
    "collapsed": false
   }
  },
  {
   "cell_type": "markdown",
   "metadata": {},
   "source": [
    "There are both row and column symmetries here, we can swap any 2 rows, and any 2 columns."
   ]
  },
  {
   "cell_type": "code",
   "execution_count": null,
   "outputs": [],
   "source": [],
   "metadata": {
    "collapsed": false
   }
  },
  {
   "cell_type": "markdown",
   "source": [
    "## Extra's\n",
    "Find the numbers that can be expressed as the sum of two cubes in two different ways, i.e. the numbers $n=a^3+b^3=c^3+d^3$ for some a, b, c, d between 1 and 1000 $a!=b!=c!=d$.\n",
    "Again look at all solutions to check symmetric assignments and add to the model the necessary constraints to rule out the symmetric solutions.\n",
    "Hint: Use Minizinc to solve this model (if you have it installed). Otherwise, you will have to lower the bounds of the variables or wait a (very) long time."
   ],
   "metadata": {
    "collapsed": false
   }
  },
  {
   "cell_type": "code",
   "execution_count": null,
   "outputs": [],
   "source": [
    "# optional setup when using Minizinc (this does not work on google colab\n",
    "! pip install nest_asyncio --quiet\n",
    "import nest_asyncio\n",
    "nest_asyncio.apply()"
   ],
   "metadata": {
    "collapsed": false
   }
  },
  {
   "cell_type": "code",
   "execution_count": null,
   "outputs": [],
   "source": [],
   "metadata": {
    "collapsed": false
   }
  }
 ],
 "metadata": {
  "kernelspec": {
   "display_name": "Python 3",
   "language": "python",
   "name": "python3"
  },
  "language_info": {
   "codemirror_mode": {
    "name": "ipython",
    "version": 2
   },
   "file_extension": ".py",
   "mimetype": "text/x-python",
   "name": "python",
   "nbconvert_exporter": "python",
   "pygments_lexer": "ipython2",
   "version": "2.7.6"
  }
 },
 "nbformat": 4,
 "nbformat_minor": 0
}
